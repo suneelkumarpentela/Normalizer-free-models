{
  "nbformat": 4,
  "nbformat_minor": 0,
  "metadata": {
    "colab": {
      "name": "BN_pytorch.ipynb",
      "provenance": [],
      "authorship_tag": "ABX9TyNmDcOdpd1nvK3MCvhNiS30",
      "include_colab_link": true
    },
    "kernelspec": {
      "name": "python3",
      "display_name": "Python 3"
    },
    "language_info": {
      "name": "python"
    }
  },
  "cells": [
    {
      "cell_type": "markdown",
      "metadata": {
        "id": "view-in-github",
        "colab_type": "text"
      },
      "source": [
        "<a href=\"https://colab.research.google.com/github/suneelkumarpentela/Normalizer-free-models/blob/master/BN_pytorch.ipynb\" target=\"_parent\"><img src=\"https://colab.research.google.com/assets/colab-badge.svg\" alt=\"Open In Colab\"/></a>"
      ]
    },
    {
      "cell_type": "code",
      "metadata": {
        "id": "WXlHXCmtSxao"
      },
      "source": [
        "import torch\n",
        "import torch.nn as nn\n",
        "from torch.utils.data import DataLoader, TensorDataset\n",
        "import torch.nn.functional as F\n",
        "import matplotlib.pyplot as plt\n",
        "import pandas as pd\n",
        "import os\n",
        "import numpy as np\n",
        "import sklearn\n",
        "from sklearn.metrics import classification_report, confusion_matrix,precision_recall_fscore_support"
      ],
      "execution_count": 1,
      "outputs": []
    },
    {
      "cell_type": "code",
      "metadata": {
        "id": "wW10KB-QR7z8",
        "colab": {
          "base_uri": "https://localhost:8080/",
          "height": 35
        },
        "outputId": "72a2649e-1a9b-43c8-fc8a-777339d18a48"
      },
      "source": [
        "os.getcwd()"
      ],
      "execution_count": 2,
      "outputs": [
        {
          "output_type": "execute_result",
          "data": {
            "application/vnd.google.colaboratory.intrinsic+json": {
              "type": "string"
            },
            "text/plain": [
              "'/content'"
            ]
          },
          "metadata": {
            "tags": []
          },
          "execution_count": 2
        }
      ]
    },
    {
      "cell_type": "code",
      "metadata": {
        "colab": {
          "base_uri": "https://localhost:8080/"
        },
        "id": "maPOG8dQTKMT",
        "outputId": "10e353f7-e6f4-44cf-e0b2-56bff39c02a1"
      },
      "source": [
        "from google.colab import drive\n",
        "drive.mount('/content/drive')"
      ],
      "execution_count": 3,
      "outputs": [
        {
          "output_type": "stream",
          "text": [
            "Mounted at /content/drive\n"
          ],
          "name": "stdout"
        }
      ]
    },
    {
      "cell_type": "code",
      "metadata": {
        "id": "WS8zd5uTTtli"
      },
      "source": [
        "os.chdir(\"/content/drive/MyDrive/Colab Notebooks/Mathlogic\")"
      ],
      "execution_count": 4,
      "outputs": []
    },
    {
      "cell_type": "code",
      "metadata": {
        "colab": {
          "base_uri": "https://localhost:8080/"
        },
        "id": "oPUzZeJzTb5K",
        "outputId": "3459e2cf-bbe6-47e1-aefa-b0b63c801ad5"
      },
      "source": [
        "train = pd.read_csv(\"./Data/train.csv\")\n",
        "print(train.shape)"
      ],
      "execution_count": 5,
      "outputs": [
        {
          "output_type": "stream",
          "text": [
            "(90000, 95)\n"
          ],
          "name": "stdout"
        }
      ]
    },
    {
      "cell_type": "code",
      "metadata": {
        "id": "AP_Z-Cp1Tf1z"
      },
      "source": [
        "train['target_new'] = np.where(train['target']==0,0,1)\n",
        "train.drop(['target'],axis=1,inplace=True)"
      ],
      "execution_count": 6,
      "outputs": []
    },
    {
      "cell_type": "code",
      "metadata": {
        "colab": {
          "base_uri": "https://localhost:8080/"
        },
        "id": "Y0EcvGb4Tf4J",
        "outputId": "0a7f4de3-e839-4317-9332-ecf7c4721ceb"
      },
      "source": [
        "val = pd.read_csv(\"./Data/valid.csv\")\n",
        "print(val.shape)\n",
        "val['target_new'] = np.where(val['target']==0,0,1)\n",
        "val.drop('target',axis=1,inplace=True)"
      ],
      "execution_count": 7,
      "outputs": [
        {
          "output_type": "stream",
          "text": [
            "(29000, 95)\n"
          ],
          "name": "stdout"
        }
      ]
    },
    {
      "cell_type": "code",
      "metadata": {
        "colab": {
          "base_uri": "https://localhost:8080/"
        },
        "id": "uhRkdSRoTf7Y",
        "outputId": "55dc2fc8-9241-42db-bba3-d0e1ea9d6b63"
      },
      "source": [
        "test = pd.read_csv(\"./Data/test.csv\")\n",
        "print(test.shape)\n",
        "test['target_new'] = np.where(test['target']==0,0,1)\n",
        "test.drop('target',axis=1,inplace=True)"
      ],
      "execution_count": 8,
      "outputs": [
        {
          "output_type": "stream",
          "text": [
            "(29580, 95)\n"
          ],
          "name": "stdout"
        }
      ]
    },
    {
      "cell_type": "code",
      "metadata": {
        "id": "CGffhGuxWqMk"
      },
      "source": [
        "frames = [train,test]\n",
        "X = pd.concat(frames)"
      ],
      "execution_count": 9,
      "outputs": []
    },
    {
      "cell_type": "code",
      "metadata": {
        "colab": {
          "base_uri": "https://localhost:8080/"
        },
        "id": "A6zP0gSdTf-m",
        "outputId": "fd5f2a94-c5af-41ff-8088-76478e9b1278"
      },
      "source": [
        "X_train = X.drop('target_new',axis=1)\n",
        "y_train = np.array([X['target_new']]).reshape(-1,1)\n",
        "X_train.shape"
      ],
      "execution_count": 10,
      "outputs": [
        {
          "output_type": "execute_result",
          "data": {
            "text/plain": [
              "(119580, 94)"
            ]
          },
          "metadata": {
            "tags": []
          },
          "execution_count": 10
        }
      ]
    },
    {
      "cell_type": "code",
      "metadata": {
        "colab": {
          "base_uri": "https://localhost:8080/"
        },
        "id": "clSYNWxLTgBF",
        "outputId": "1f80b80a-099d-450b-b6fa-1a7f8e8f028c"
      },
      "source": [
        "X_test = val.drop('target_new',axis=1)\n",
        "y_test = np.array([val['target_new']]).reshape(-1,1)\n",
        "X_test.shape"
      ],
      "execution_count": 11,
      "outputs": [
        {
          "output_type": "execute_result",
          "data": {
            "text/plain": [
              "(29000, 94)"
            ]
          },
          "metadata": {
            "tags": []
          },
          "execution_count": 11
        }
      ]
    },
    {
      "cell_type": "code",
      "metadata": {
        "id": "_3JJvRaaaXPF"
      },
      "source": [
        "a = y_test.flatten()"
      ],
      "execution_count": 12,
      "outputs": []
    },
    {
      "cell_type": "code",
      "metadata": {
        "id": "X1uK6JYYaxrQ"
      },
      "source": [
        "from collections import Counter"
      ],
      "execution_count": 13,
      "outputs": []
    },
    {
      "cell_type": "code",
      "metadata": {
        "colab": {
          "base_uri": "https://localhost:8080/"
        },
        "id": "79XQUzBKa1jC",
        "outputId": "3e32abf0-eb3c-4a76-a0a0-ead49ee4561c"
      },
      "source": [
        "Counter(y_test.flatten())"
      ],
      "execution_count": 14,
      "outputs": [
        {
          "output_type": "execute_result",
          "data": {
            "text/plain": [
              "Counter({0: 27488, 1: 1512})"
            ]
          },
          "metadata": {
            "tags": []
          },
          "execution_count": 14
        }
      ]
    },
    {
      "cell_type": "code",
      "metadata": {
        "colab": {
          "base_uri": "https://localhost:8080/"
        },
        "id": "247ITGH6a1mS",
        "outputId": "3537b30e-304e-41d8-dccd-3cc84bf3d085"
      },
      "source": [
        "Counter(y_train.flatten())"
      ],
      "execution_count": 15,
      "outputs": [
        {
          "output_type": "execute_result",
          "data": {
            "text/plain": [
              "Counter({0: 113300, 1: 6280})"
            ]
          },
          "metadata": {
            "tags": []
          },
          "execution_count": 15
        }
      ]
    },
    {
      "cell_type": "code",
      "metadata": {
        "colab": {
          "base_uri": "https://localhost:8080/"
        },
        "id": "M3kEObXVbLm-",
        "outputId": "bf14f9e4-c6ad-430d-873d-5af404afa1e1"
      },
      "source": [
        "6280/(6280+113300)"
      ],
      "execution_count": 16,
      "outputs": [
        {
          "output_type": "execute_result",
          "data": {
            "text/plain": [
              "0.05251714333500585"
            ]
          },
          "metadata": {
            "tags": []
          },
          "execution_count": 16
        }
      ]
    },
    {
      "cell_type": "code",
      "metadata": {
        "colab": {
          "base_uri": "https://localhost:8080/"
        },
        "id": "xINXH2CKasrd",
        "outputId": "2fae6371-7e16-4640-a89f-b06589717d29"
      },
      "source": [
        "y_test.shape"
      ],
      "execution_count": 17,
      "outputs": [
        {
          "output_type": "execute_result",
          "data": {
            "text/plain": [
              "(29000, 1)"
            ]
          },
          "metadata": {
            "tags": []
          },
          "execution_count": 17
        }
      ]
    },
    {
      "cell_type": "code",
      "metadata": {
        "id": "KKBnt4FwVaFs"
      },
      "source": [
        "from sklearn.preprocessing import StandardScaler\n",
        "\n",
        "scaler = StandardScaler().fit(X_train)\n",
        "\n",
        "X_train_np = scaler.transform(X_train)\n",
        "\n",
        "X_test_np = scaler.transform(X_test)"
      ],
      "execution_count": 18,
      "outputs": []
    },
    {
      "cell_type": "code",
      "metadata": {
        "id": "1jRp6fiDZFPk"
      },
      "source": [
        "y_train_np = y_train\n",
        "y_test_np = y_test"
      ],
      "execution_count": 19,
      "outputs": []
    },
    {
      "cell_type": "code",
      "metadata": {
        "id": "Rflwcjgg9Kf9"
      },
      "source": [
        "X_train = torch.FloatTensor(X_train_np)\n",
        "\n",
        "X_test = torch.FloatTensor(X_test_np)\n",
        "\n",
        "y_train = torch.FloatTensor(y_train_np)\n",
        "y_test = torch.FloatTensor(y_test_np)"
      ],
      "execution_count": 20,
      "outputs": []
    },
    {
      "cell_type": "code",
      "metadata": {
        "colab": {
          "base_uri": "https://localhost:8080/"
        },
        "id": "N5kGUJzdZwJn",
        "outputId": "642ee48b-9f3d-4f1c-addf-a3fb1555ddec"
      },
      "source": [
        "print(y_train.shape)"
      ],
      "execution_count": 21,
      "outputs": [
        {
          "output_type": "stream",
          "text": [
            "torch.Size([119580, 1])\n"
          ],
          "name": "stdout"
        }
      ]
    },
    {
      "cell_type": "code",
      "metadata": {
        "colab": {
          "base_uri": "https://localhost:8080/"
        },
        "id": "qC-bpytQrLwJ",
        "outputId": "fa753ff2-25f7-4b2f-9142-e92253bd9e73"
      },
      "source": [
        "X_train_np.shape"
      ],
      "execution_count": 22,
      "outputs": [
        {
          "output_type": "execute_result",
          "data": {
            "text/plain": [
              "(119580, 94)"
            ]
          },
          "metadata": {
            "tags": []
          },
          "execution_count": 22
        }
      ]
    },
    {
      "cell_type": "code",
      "metadata": {
        "colab": {
          "base_uri": "https://localhost:8080/"
        },
        "id": "l18ZTOEWZ83z",
        "outputId": "26936a97-3f64-4dee-c5c0-bf11f5d29ede"
      },
      "source": [
        "X_test_np.shape"
      ],
      "execution_count": 23,
      "outputs": [
        {
          "output_type": "execute_result",
          "data": {
            "text/plain": [
              "(29000, 94)"
            ]
          },
          "metadata": {
            "tags": []
          },
          "execution_count": 23
        }
      ]
    },
    {
      "cell_type": "code",
      "metadata": {
        "colab": {
          "base_uri": "https://localhost:8080/"
        },
        "id": "-g1AiaelrFZC",
        "outputId": "4c7cad08-6d59-4136-f351-d7fa17279600"
      },
      "source": [
        "batch_size = 256\n",
        "num_train_batches = int(X_train_np.shape[0]/batch_size)+1\n",
        "num_test_batches = int(X_test_np.shape[0]/batch_size)+1\n",
        "train_data_size = X_train_np.shape[0]\n",
        "test_data_size = X_test_np.shape[0]\n",
        "print(\"Train :\",num_train_batches,train_data_size)\n",
        "print(\"Test :\",num_test_batches,test_data_size)"
      ],
      "execution_count": 24,
      "outputs": [
        {
          "output_type": "stream",
          "text": [
            "Train : 468 119580\n",
            "Test : 114 29000\n"
          ],
          "name": "stdout"
        }
      ]
    },
    {
      "cell_type": "code",
      "metadata": {
        "id": "EuEI8aCuiSKY"
      },
      "source": [
        "train_dataset = TensorDataset(X_train,y_train)\n",
        "train_dataloader = DataLoader(train_dataset,batch_size=batch_size,shuffle=True)"
      ],
      "execution_count": 25,
      "outputs": []
    },
    {
      "cell_type": "code",
      "metadata": {
        "id": "eVWd9vjVR6VT"
      },
      "source": [
        "test_dataset = TensorDataset(X_test,y_test)\n",
        "test_dataloader = DataLoader(test_dataset,batch_size=batch_size,shuffle=True)"
      ],
      "execution_count": 26,
      "outputs": []
    },
    {
      "cell_type": "code",
      "metadata": {
        "id": "db0tP1mVC9No"
      },
      "source": [
        "train_loader = DataLoader(train_dataset)\n",
        "test_loader = DataLoader(test_dataset)"
      ],
      "execution_count": 27,
      "outputs": []
    },
    {
      "cell_type": "code",
      "metadata": {
        "id": "CNg-XMB0qJet"
      },
      "source": [
        "# dataiter = iter(train_dataloader)\n",
        "# images, labels = dataiter.next()\n",
        "# print(type(images))\n",
        "# print(images.shape)\n",
        "# print(labels.shape)"
      ],
      "execution_count": 28,
      "outputs": []
    },
    {
      "cell_type": "code",
      "metadata": {
        "id": "Y8IV51A-d181"
      },
      "source": [
        "class basic_block(nn.Module):\n",
        "\n",
        "  def __init__(self):\n",
        "    super().__init__()\n",
        "    self.nn1 = nn.Linear(94,64)\n",
        "    self.nn2 = nn.Linear(64,64)\n",
        "    self.nn3 = nn.Linear(64,64)\n",
        "    self.nn4 = nn.Linear(64,1)\n",
        "    self.bn1  = nn.BatchNorm1d(64)\n",
        "    self.bn2  = nn.BatchNorm1d(64)\n",
        "    self.bn3  = nn.BatchNorm1d(64)\n",
        "    self.relu = nn.ReLU()\n",
        "    self.sigmoid = nn.Sigmoid()\n",
        "\n",
        "  def forward(self,x):\n",
        "\n",
        "    x = self.nn1(x)\n",
        "    x = self.bn1(x)\n",
        "    x = self.relu(x)\n",
        "\n",
        "    shortcut1 = x\n",
        "\n",
        "    out1 = self.nn2(x)\n",
        "    out1 = self.bn2(out1)\n",
        "    out1 += shortcut1\n",
        "    out1 = self.relu(out1)\n",
        "\n",
        "    shortcut2 = out1\n",
        "\n",
        "    out2 = self.nn3(out1)\n",
        "    out2 = self.bn3(out2)\n",
        "    out2 += shortcut2\n",
        "    out2 = self.relu(out2)\n",
        "\n",
        "    out3 = self.nn4(out2)\n",
        "    out3 = self.sigmoid(out3)\n",
        "\n",
        "    return out3"
      ],
      "execution_count": 29,
      "outputs": []
    },
    {
      "cell_type": "code",
      "metadata": {
        "id": "3N3VAXM4jlxD"
      },
      "source": [
        "model = basic_block()"
      ],
      "execution_count": 30,
      "outputs": []
    },
    {
      "cell_type": "code",
      "metadata": {
        "colab": {
          "base_uri": "https://localhost:8080/"
        },
        "id": "HEZEGX0PiH3b",
        "outputId": "a491daa7-bbd0-4e50-8609-a458bb935e16"
      },
      "source": [
        "total_params = sum(p.numel() for p in model.parameters())\n",
        "total_params"
      ],
      "execution_count": 31,
      "outputs": [
        {
          "output_type": "execute_result",
          "data": {
            "text/plain": [
              "14849"
            ]
          },
          "metadata": {
            "tags": []
          },
          "execution_count": 31
        }
      ]
    },
    {
      "cell_type": "code",
      "metadata": {
        "colab": {
          "base_uri": "https://localhost:8080/"
        },
        "id": "87LEfcnJl0IS",
        "outputId": "5031fb96-3695-4d2d-9524-4ebbf4b57fc9"
      },
      "source": [
        "print(model.forward)"
      ],
      "execution_count": 32,
      "outputs": [
        {
          "output_type": "stream",
          "text": [
            "<bound method basic_block.forward of basic_block(\n",
            "  (nn1): Linear(in_features=94, out_features=64, bias=True)\n",
            "  (nn2): Linear(in_features=64, out_features=64, bias=True)\n",
            "  (nn3): Linear(in_features=64, out_features=64, bias=True)\n",
            "  (nn4): Linear(in_features=64, out_features=1, bias=True)\n",
            "  (bn1): BatchNorm1d(64, eps=1e-05, momentum=0.1, affine=True, track_running_stats=True)\n",
            "  (bn2): BatchNorm1d(64, eps=1e-05, momentum=0.1, affine=True, track_running_stats=True)\n",
            "  (bn3): BatchNorm1d(64, eps=1e-05, momentum=0.1, affine=True, track_running_stats=True)\n",
            "  (relu): ReLU()\n",
            "  (sigmoid): Sigmoid()\n",
            ")>\n"
          ],
          "name": "stdout"
        }
      ]
    },
    {
      "cell_type": "code",
      "metadata": {
        "id": "eAUXQ1arWFxV"
      },
      "source": [
        "# loss_func = nn.BCELoss(reduction=\"sum\")\n",
        "loss_func = nn.BCELoss()\n",
        "optimizer = torch.optim.SGD(model.parameters(),lr=0.001)"
      ],
      "execution_count": 33,
      "outputs": []
    },
    {
      "cell_type": "code",
      "metadata": {
        "colab": {
          "base_uri": "https://localhost:8080/"
        },
        "id": "Ihr0n9jFaK9J",
        "outputId": "b7ce579d-8097-467b-eb32-a1fefd06a910"
      },
      "source": [
        "X_train_np.shape"
      ],
      "execution_count": 34,
      "outputs": [
        {
          "output_type": "execute_result",
          "data": {
            "text/plain": [
              "(119580, 94)"
            ]
          },
          "metadata": {
            "tags": []
          },
          "execution_count": 34
        }
      ]
    },
    {
      "cell_type": "code",
      "metadata": {
        "id": "-d-20hn-WekE"
      },
      "source": [
        "epochs = 100"
      ],
      "execution_count": 35,
      "outputs": []
    },
    {
      "cell_type": "code",
      "metadata": {
        "id": "LfiU-nlLWi0i",
        "colab": {
          "base_uri": "https://localhost:8080/"
        },
        "outputId": "3cfa8b2f-26cf-498a-b3db-50222060d106"
      },
      "source": [
        "losses = []\n",
        "accuracy = []\n",
        "val_losses = []\n",
        "val_accuracy = []\n",
        "\n",
        "for epoch in range(epochs):\n",
        "\n",
        "  model.train()\n",
        "  running_loss = 0\n",
        "  running_val_loss = 0\n",
        "  running_acc = 0\n",
        "  running_val_acc = 0\n",
        "\n",
        "  for i,data in enumerate(train_dataloader):\n",
        "    train_x,train_y = data\n",
        "    y_pred = model(train_x)\n",
        "    loss = loss_func(y_pred,train_y)\n",
        "    # predicted = model(torch.tensor(X_train_np,dtype=torch.float32))\n",
        "    acc = (y_pred.reshape(-1).detach().numpy().round() == \n",
        "           train_y.reshape(-1).detach().numpy().round()).mean()\n",
        "    running_loss += loss.item()/(num_train_batches)\n",
        "    running_acc += acc/(num_train_batches)\n",
        "    \n",
        "    #reset grads\n",
        "    optimizer.zero_grad()\n",
        "    \n",
        "    #backward\n",
        "    loss.backward()\n",
        "\n",
        "    #weight updates\n",
        "    optimizer.step()\n",
        "\n",
        "  print(f'Epoch: {epoch+1} Loss: {running_loss} Accuracy: {running_acc}',end = \" \")\n",
        "\n",
        "  model.eval()  \n",
        "  for i,data in enumerate(test_dataloader):\n",
        "    X_val,y_val = data\n",
        "    y_pred_val = model(X_val)\n",
        "    val_loss = loss_func(y_pred_val,y_val)\n",
        "    val_acc = (y_pred_val.reshape(-1).detach().numpy().round() == \n",
        "           y_val.reshape(-1).detach().numpy().round()).mean()\n",
        "\n",
        "    running_val_loss += val_loss.item()/(num_test_batches)\n",
        "    running_val_acc += val_acc/(num_test_batches)\n",
        "    \n",
        "  print(f'Val Loss: {running_val_loss} Val Accuracy: {running_val_acc}')\n",
        "\n",
        "\n",
        "  losses.append(running_loss)\n",
        "  accuracy.append(running_acc)\n",
        "  val_losses.append(running_val_loss)\n",
        "  val_accuracy.append(running_val_acc)  "
      ],
      "execution_count": 36,
      "outputs": [
        {
          "output_type": "stream",
          "text": [
            "Epoch: 1 Loss: 0.3247496515958227 Accuracy: 0.9101550576159959 Val Loss: 0.23050262230007268 Val Accuracy: 0.9475778204191031\n",
            "Epoch: 2 Loss: 0.21972554543206826 Accuracy: 0.9472429697039089 Val Loss: 0.21217006013581616 Val Accuracy: 0.9479280884502922\n",
            "Epoch: 3 Loss: 0.209853544035274 Accuracy: 0.9474468673687441 Val Loss: 0.20577763870619895 Val Accuracy: 0.9480156554580892\n",
            "Epoch: 4 Loss: 0.20564812310358382 Accuracy: 0.9475148332570207 Val Loss: 0.20364750189739356 Val Accuracy: 0.9475778204191034\n",
            "Epoch: 5 Loss: 0.2025868357119398 Accuracy: 0.947514833257021 Val Loss: 0.1995471622468085 Val Accuracy: 0.9481907894736837\n",
            "Epoch: 6 Loss: 0.20077003799697277 Accuracy: 0.947514833257022 Val Loss: 0.19849075801801266 Val Accuracy: 0.9479280884502923\n",
            "Epoch: 7 Loss: 0.19918047802315839 Accuracy: 0.947514833257022 Val Loss: 0.19841602719143817 Val Accuracy: 0.9474026864035086\n",
            "Epoch: 8 Loss: 0.19803441344545444 Accuracy: 0.9474468673687431 Val Loss: 0.19629322489102674 Val Accuracy: 0.9478405214424949\n",
            "Epoch: 9 Loss: 0.19691710774269366 Accuracy: 0.947446867368743 Val Loss: 0.19529437809659717 Val Accuracy: 0.9479280884502923\n",
            "Epoch: 10 Loss: 0.19564499957566575 Accuracy: 0.9475827991453005 Val Loss: 0.1944618649257903 Val Accuracy: 0.9480156554580895\n",
            "Epoch: 11 Loss: 0.19533324249598213 Accuracy: 0.9474468673687433 Val Loss: 0.1936382223900996 Val Accuracy: 0.9480156554580894\n",
            "Epoch: 12 Loss: 0.19437785324059478 Accuracy: 0.9475827991453003 Val Loss: 0.19301535359077282 Val Accuracy: 0.9480156554580899\n",
            "Epoch: 13 Loss: 0.19389558118632702 Accuracy: 0.9475148332570226 Val Loss: 0.19223483220527052 Val Accuracy: 0.9481032224658864\n",
            "Epoch: 14 Loss: 0.19361785999857448 Accuracy: 0.947378901480464 Val Loss: 0.19247529877905253 Val Accuracy: 0.9477529544346976\n",
            "Epoch: 15 Loss: 0.19261266022092757 Accuracy: 0.9475827991452993 Val Loss: 0.1915231265389083 Val Accuracy: 0.9481032224658867\n",
            "Epoch: 16 Loss: 0.1930315085551422 Accuracy: 0.9473192822802207 Val Loss: 0.19203938203945492 Val Accuracy: 0.947752954434698\n",
            "Epoch: 17 Loss: 0.19183094528081812 Accuracy: 0.947582799145299 Val Loss: 0.1917617275918785 Val Accuracy: 0.9476653874269003\n",
            "Epoch: 18 Loss: 0.19191887826682663 Accuracy: 0.9475148332570223 Val Loss: 0.19118709973337358 Val Accuracy: 0.9477529544346974\n",
            "Epoch: 19 Loss: 0.19109898905914563 Accuracy: 0.9475148332570209 Val Loss: 0.19004935954223598 Val Accuracy: 0.9481032224658863\n",
            "Epoch: 20 Loss: 0.19109979265520738 Accuracy: 0.9474468673687431 Val Loss: 0.19097783893608222 Val Accuracy: 0.9475778204191033\n",
            "Epoch: 21 Loss: 0.1909635798512105 Accuracy: 0.9473789014804642 Val Loss: 0.18989091706380512 Val Accuracy: 0.9479280884502925\n",
            "Epoch: 22 Loss: 0.19014500943609547 Accuracy: 0.9475911458333335 Val Loss: 0.18927267572858872 Val Accuracy: 0.9481032224658867\n",
            "Epoch: 23 Loss: 0.19016248326844143 Accuracy: 0.947446867368744 Val Loss: 0.18914189281170826 Val Accuracy: 0.9480156554580893\n",
            "Epoch: 24 Loss: 0.18969383421871405 Accuracy: 0.9475148332570213 Val Loss: 0.18927995357335656 Val Accuracy: 0.947928088450292\n",
            "Epoch: 25 Loss: 0.18936915851683708 Accuracy: 0.9475064865689866 Val Loss: 0.1888489768954745 Val Accuracy: 0.9479280884502923\n",
            "Epoch: 26 Loss: 0.1893237528637943 Accuracy: 0.9474468673687432 Val Loss: 0.18911063390081392 Val Accuracy: 0.9478405214424949\n",
            "Epoch: 27 Loss: 0.18888422225912402 Accuracy: 0.9475148332570218 Val Loss: 0.18828116573001213 Val Accuracy: 0.9481032224658866\n",
            "Epoch: 28 Loss: 0.189154306267444 Accuracy: 0.9474301739926754 Val Loss: 0.18852326613769196 Val Accuracy: 0.9479280884502922\n",
            "Epoch: 29 Loss: 0.18870007784830187 Accuracy: 0.9474385206807088 Val Loss: 0.18888448799649873 Val Accuracy: 0.9477872197855748\n",
            "Epoch: 30 Loss: 0.18856637824613323 Accuracy: 0.9474468673687433 Val Loss: 0.1893313121246665 Val Accuracy: 0.9476120857699799\n",
            "Epoch: 31 Loss: 0.18837978011076784 Accuracy: 0.947430173992675 Val Loss: 0.1878061782764761 Val Accuracy: 0.9480156554580895\n",
            "Epoch: 32 Loss: 0.18771344653338712 Accuracy: 0.947566105769232 Val Loss: 0.18864852967753745 Val Accuracy: 0.9476653874269004\n",
            "Epoch: 33 Loss: 0.18787254001467663 Accuracy: 0.9475148332570216 Val Loss: 0.1881466124925697 Val Accuracy: 0.9477872197855748\n",
            "Epoch: 34 Loss: 0.18779574119700845 Accuracy: 0.9474981398809535 Val Loss: 0.18779555368318895 Val Accuracy: 0.9478405214424948\n",
            "Epoch: 35 Loss: 0.1883530585238569 Accuracy: 0.9473276289682543 Val Loss: 0.1873230865519298 Val Accuracy: 0.9480499208089669\n",
            "Epoch: 36 Loss: 0.18743409015811405 Accuracy: 0.9474981398809534 Val Loss: 0.18734376871010705 Val Accuracy: 0.9479280884502923\n",
            "Epoch: 37 Loss: 0.18727172543414125 Accuracy: 0.9474552140567772 Val Loss: 0.1869520950866373 Val Accuracy: 0.9480499208089663\n",
            "Epoch: 38 Loss: 0.18736710966142842 Accuracy: 0.9474385206807096 Val Loss: 0.1869598129077961 Val Accuracy: 0.9480499208089666\n",
            "Epoch: 39 Loss: 0.18680850586766362 Accuracy: 0.9475398733211248 Val Loss: 0.18753675253767726 Val Accuracy: 0.9478747867933721\n",
            "Epoch: 40 Loss: 0.18679192751391327 Accuracy: 0.9474981398809523 Val Loss: 0.18696766131018336 Val Accuracy: 0.9478405214424949\n",
            "Epoch: 41 Loss: 0.18654644882513424 Accuracy: 0.9475064865689877 Val Loss: 0.18629802155651548 Val Accuracy: 0.9481032224658864\n",
            "Epoch: 42 Loss: 0.18646539715874902 Accuracy: 0.9474897931929189 Val Loss: 0.18696025419130669 Val Accuracy: 0.9477529544346976\n",
            "Epoch: 43 Loss: 0.18639876375086287 Accuracy: 0.9474385206807101 Val Loss: 0.1870959022066049 Val Accuracy: 0.9477529544346976\n",
            "Epoch: 44 Loss: 0.1864750862089744 Accuracy: 0.9474981398809542 Val Loss: 0.18673064174097878 Val Accuracy: 0.9477529544346973\n",
            "Epoch: 45 Loss: 0.18606288817066405 Accuracy: 0.9474301739926743 Val Loss: 0.18643987884646965 Val Accuracy: 0.9479623538011696\n",
            "Epoch: 46 Loss: 0.18604007046510518 Accuracy: 0.947514833257021 Val Loss: 0.1863056293182206 Val Accuracy: 0.9479280884502918\n",
            "Epoch: 47 Loss: 0.1857395776762413 Accuracy: 0.9475148332570218 Val Loss: 0.1858367542164368 Val Accuracy: 0.9481032224658866\n",
            "Epoch: 48 Loss: 0.1855786971620516 Accuracy: 0.947489793192919 Val Loss: 0.1868158291306412 Val Accuracy: 0.9476653874269003\n",
            "Epoch: 49 Loss: 0.1857542946584457 Accuracy: 0.9474218273046403 Val Loss: 0.1862918433259455 Val Accuracy: 0.947928088450292\n",
            "Epoch: 50 Loss: 0.18569689097567504 Accuracy: 0.9473455147283282 Val Loss: 0.18609844252728577 Val Accuracy: 0.9478747867933719\n",
            "Epoch: 51 Loss: 0.18517884431390938 Accuracy: 0.947574452457265 Val Loss: 0.1863799423240779 Val Accuracy: 0.9477872197855746\n",
            "Epoch: 52 Loss: 0.18525408042801741 Accuracy: 0.9475064865689873 Val Loss: 0.18614523825153967 Val Accuracy: 0.9477529544346973\n",
            "Epoch: 53 Loss: 0.18527895704102812 Accuracy: 0.9474981398809548 Val Loss: 0.18616185167379548 Val Accuracy: 0.9478747867933721\n",
            "Epoch: 54 Loss: 0.18535414933521516 Accuracy: 0.9475064865689874 Val Loss: 0.18647954580292364 Val Accuracy: 0.9476996527777773\n",
            "Epoch: 55 Loss: 0.18577948913105533 Accuracy: 0.9472346230158741 Val Loss: 0.18610724963639907 Val Accuracy: 0.9477529544346978\n",
            "Epoch: 56 Loss: 0.18517759518745602 Accuracy: 0.9474218273046402 Val Loss: 0.18661200869501685 Val Accuracy: 0.9474026864035084\n",
            "Epoch: 57 Loss: 0.1849368470123943 Accuracy: 0.9474897931929182 Val Loss: 0.18522079354315477 Val Accuracy: 0.9480156554580897\n",
            "Epoch: 58 Loss: 0.18474328683482266 Accuracy: 0.9475148332570211 Val Loss: 0.1852274664530628 Val Accuracy: 0.9480156554580892\n",
            "Epoch: 59 Loss: 0.18477373280458978 Accuracy: 0.9474218273046392 Val Loss: 0.1857341250175969 Val Accuracy: 0.947840521442495\n",
            "Epoch: 60 Loss: 0.184297197514301 Accuracy: 0.9475827991453002 Val Loss: 0.18493636240038955 Val Accuracy: 0.9481032224658869\n",
            "Epoch: 61 Loss: 0.1847939904715514 Accuracy: 0.9474301739926748 Val Loss: 0.18493012685263374 Val Accuracy: 0.9480156554580892\n",
            "Epoch: 62 Loss: 0.18495591772863518 Accuracy: 0.9472942422161178 Val Loss: 0.1854523970631132 Val Accuracy: 0.9479623538011693\n",
            "Epoch: 63 Loss: 0.18413368048958292 Accuracy: 0.9474981398809529 Val Loss: 0.18486210331320765 Val Accuracy: 0.9480156554580892\n",
            "Epoch: 64 Loss: 0.18439478745572574 Accuracy: 0.9474468673687431 Val Loss: 0.1858790201837556 Val Accuracy: 0.9476311220760232\n",
            "Epoch: 65 Loss: 0.18384330930649995 Accuracy: 0.9475744524572652 Val Loss: 0.18535941022268512 Val Accuracy: 0.9478405214424948\n",
            "Epoch: 66 Loss: 0.18404060946061057 Accuracy: 0.9474897931929203 Val Loss: 0.1851933003779043 Val Accuracy: 0.9478405214424946\n",
            "Epoch: 67 Loss: 0.18441764516835538 Accuracy: 0.9473789014804661 Val Loss: 0.18461825273800309 Val Accuracy: 0.9480499208089662\n",
            "Epoch: 68 Loss: 0.18453927524387834 Accuracy: 0.9472775488400498 Val Loss: 0.18514894765981457 Val Accuracy: 0.9478405214424948\n",
            "Epoch: 69 Loss: 0.18394905156814134 Accuracy: 0.9474385206807101 Val Loss: 0.1850354647296563 Val Accuracy: 0.9479813901072119\n",
            "Epoch: 70 Loss: 0.18419887087284 Accuracy: 0.9473622081043969 Val Loss: 0.18424550568064046 Val Accuracy: 0.9481374878167638\n",
            "Epoch: 71 Loss: 0.1832834002840468 Accuracy: 0.9474897931929176 Val Loss: 0.18491220252032864 Val Accuracy: 0.9478405214424948\n",
            "Epoch: 72 Loss: 0.1833018186446439 Accuracy: 0.9475661057692316 Val Loss: 0.18445699714254918 Val Accuracy: 0.9480156554580896\n",
            "Epoch: 73 Loss: 0.183546906703303 Accuracy: 0.9474981398809535 Val Loss: 0.18406377177228006 Val Accuracy: 0.9481032224658869\n",
            "Epoch: 74 Loss: 0.18339619936787677 Accuracy: 0.9475148332570209 Val Loss: 0.1847960013700159 Val Accuracy: 0.947840521442495\n",
            "Epoch: 75 Loss: 0.18331633691285906 Accuracy: 0.9474897931929195 Val Loss: 0.1839531177426116 Val Accuracy: 0.9481032224658866\n",
            "Epoch: 76 Loss: 0.1840468484780982 Accuracy: 0.9472942422161177 Val Loss: 0.18538620917682067 Val Accuracy: 0.9476653874269005\n",
            "Epoch: 77 Loss: 0.18307477015301452 Accuracy: 0.9475661057692314 Val Loss: 0.18473022587989507 Val Accuracy: 0.9477872197855752\n",
            "Epoch: 78 Loss: 0.18317825753146263 Accuracy: 0.947506486568988 Val Loss: 0.184709372293008 Val Accuracy: 0.947874786793372\n",
            "Epoch: 79 Loss: 0.18305269962288126 Accuracy: 0.9475494123931635 Val Loss: 0.18471185817268856 Val Accuracy: 0.9477529544346971\n",
            "Epoch: 80 Loss: 0.18327496183287914 Accuracy: 0.9474301739926755 Val Loss: 0.18513353646062963 Val Accuracy: 0.9476996527777773\n",
            "Epoch: 81 Loss: 0.18294734133678117 Accuracy: 0.9474897931929187 Val Loss: 0.18379799564156618 Val Accuracy: 0.9481032224658864\n",
            "Epoch: 82 Loss: 0.18317062022466934 Accuracy: 0.9474301739926745 Val Loss: 0.18462123048671514 Val Accuracy: 0.9477872197855746\n",
            "Epoch: 83 Loss: 0.18274095240566457 Accuracy: 0.947514833257022 Val Loss: 0.184170523364293 Val Accuracy: 0.9479623538011692\n",
            "Epoch: 84 Loss: 0.18251716463356937 Accuracy: 0.9475911458333351 Val Loss: 0.1837175205480634 Val Accuracy: 0.9481374878167634\n",
            "Epoch: 85 Loss: 0.1835906417228471 Accuracy: 0.947209582951771 Val Loss: 0.18436390050409138 Val Accuracy: 0.9478747867933718\n",
            "Epoch: 86 Loss: 0.1826367599364274 Accuracy: 0.947464753128816 Val Loss: 0.18377358838915833 Val Accuracy: 0.9480499208089669\n",
            "Epoch: 87 Loss: 0.1832055034450231 Accuracy: 0.947285895528084 Val Loss: 0.18475614638443577 Val Accuracy: 0.9477339181286548\n",
            "Epoch: 88 Loss: 0.18249444808397025 Accuracy: 0.9474730998168497 Val Loss: 0.184364446357154 Val Accuracy: 0.9478747867933719\n",
            "Epoch: 89 Loss: 0.18254528759827468 Accuracy: 0.9474134806166071 Val Loss: 0.18377512281662536 Val Accuracy: 0.9480499208089666\n",
            "Epoch: 90 Loss: 0.18219427551883133 Accuracy: 0.9475577590811967 Val Loss: 0.1837037256020203 Val Accuracy: 0.948171753167641\n",
            "Epoch: 91 Loss: 0.18242330113664657 Accuracy: 0.9474981398809527 Val Loss: 0.18343890366847043 Val Accuracy: 0.9481374878167638\n",
            "Epoch: 92 Loss: 0.18285831014633666 Accuracy: 0.9473789014804648 Val Loss: 0.18406470021919202 Val Accuracy: 0.9478747867933722\n",
            "Epoch: 93 Loss: 0.18271631892356607 Accuracy: 0.9473538614163622 Val Loss: 0.18375161368595924 Val Accuracy: 0.9480841861598437\n",
            "Epoch: 94 Loss: 0.1822577006000484 Accuracy: 0.947430173992675 Val Loss: 0.18379311707981835 Val Accuracy: 0.9479623538011693\n",
            "Epoch: 95 Loss: 0.18248794855088252 Accuracy: 0.9474134806166061 Val Loss: 0.18376434110758597 Val Accuracy: 0.9480499208089662\n",
            "Epoch: 96 Loss: 0.18228161943137133 Accuracy: 0.9474635607448118 Val Loss: 0.1842678027194844 Val Accuracy: 0.9476996527777776\n",
            "Epoch: 97 Loss: 0.18221339997318045 Accuracy: 0.9474814465048841 Val Loss: 0.1841690635079877 Val Accuracy: 0.9478747867933722\n",
            "Epoch: 98 Loss: 0.1820903300251971 Accuracy: 0.947498139880954 Val Loss: 0.1839284815809182 Val Accuracy: 0.9479090521442494\n",
            "Epoch: 99 Loss: 0.1819254862956512 Accuracy: 0.9474981398809528 Val Loss: 0.18365831359436638 Val Accuracy: 0.9479280884502922\n",
            "Epoch: 100 Loss: 0.18237761616643194 Accuracy: 0.9473538614163627 Val Loss: 0.1837005498900748 Val Accuracy: 0.9479280884502921\n"
          ],
          "name": "stdout"
        }
      ]
    },
    {
      "cell_type": "code",
      "metadata": {
        "colab": {
          "base_uri": "https://localhost:8080/",
          "height": 312
        },
        "id": "W0ks75fuzrXp",
        "outputId": "1c69ee0a-5f60-4f35-ef7d-6db83e9fd506"
      },
      "source": [
        "plt.plot(losses,'r',label='train')\n",
        "plt.plot(val_losses,'b',label='val')\n",
        "plt.legend()\n",
        "plt.title('Loss vs Epochs')\n",
        "plt.xlabel('Epochs')\n",
        "plt.ylabel('loss')"
      ],
      "execution_count": 37,
      "outputs": [
        {
          "output_type": "execute_result",
          "data": {
            "text/plain": [
              "Text(0, 0.5, 'loss')"
            ]
          },
          "metadata": {
            "tags": []
          },
          "execution_count": 37
        },
        {
          "output_type": "display_data",
          "data": {
            "image/png": "[encoded data removed]",
            "text/plain": [
              "<Figure size 432x288 with 1 Axes>"
            ]
          },
          "metadata": {
            "tags": [],
            "needs_background": "light"
          }
        }
      ]
    },
    {
      "cell_type": "code",
      "metadata": {
        "colab": {
          "base_uri": "https://localhost:8080/",
          "height": 312
        },
        "id": "zNev87AV7i-a",
        "outputId": "a49cb50a-6c89-43f1-b859-754d05c8b6fa"
      },
      "source": [
        "plt.plot(accuracy,'r',label='train')\n",
        "plt.plot(val_accuracy,'b',label='val')\n",
        "plt.legend()\n",
        "plt.title('Accuracy vs Epochs')\n",
        "plt.xlabel('Accuracy')\n",
        "plt.ylabel('loss')"
      ],
      "execution_count": 38,
      "outputs": [
        {
          "output_type": "execute_result",
          "data": {
            "text/plain": [
              "Text(0, 0.5, 'loss')"
            ]
          },
          "metadata": {
            "tags": []
          },
          "execution_count": 38
        },
        {
          "output_type": "display_data",
          "data": {
            "image/png": "[encoded data removed]",
            "text/plain": [
              "<Figure size 432x288 with 1 Axes>"
            ]
          },
          "metadata": {
            "tags": [],
            "needs_background": "light"
          }
        }
      ]
    },
    {
      "cell_type": "code",
      "metadata": {
        "id": "bhkcr8esml5p"
      },
      "source": [
        ""
      ],
      "execution_count": 38,
      "outputs": []
    },
    {
      "cell_type": "code",
      "metadata": {
        "id": "C6yL3SPrmmN_"
      },
      "source": [
        "model.eval()\n",
        "preds_train = []\n",
        "with torch.no_grad():\n",
        "   for i,data in enumerate(train_loader):\n",
        "     trainx,trainy = data\n",
        "     y_hat = model.forward(trainx)\n",
        "     preds_train.append(y_hat)"
      ],
      "execution_count": 39,
      "outputs": []
    },
    {
      "cell_type": "code",
      "metadata": {
        "colab": {
          "base_uri": "https://localhost:8080/"
        },
        "id": "6jflFkP_mmOA",
        "outputId": "fba70e49-9d09-41b7-acca-fcf0eabf63f8"
      },
      "source": [
        "preds_train = np.array(preds_train)\n",
        "preds_train"
      ],
      "execution_count": 40,
      "outputs": [
        {
          "output_type": "execute_result",
          "data": {
            "text/plain": [
              "array([0.06040598, 0.00197853, 0.03175104, ..., 0.00980924, 0.01729902,\n",
              "       0.05139145], dtype=float32)"
            ]
          },
          "metadata": {
            "tags": []
          },
          "execution_count": 40
        }
      ]
    },
    {
      "cell_type": "code",
      "metadata": {
        "id": "VafrbPmbhNxa"
      },
      "source": [
        "def best_f1(preds,y_test_np):\n",
        "  f1_max = 0\n",
        "  cutoff = -1\n",
        "  for i in np.arange(0.01,1,0.01):\n",
        "    preds1 = (preds>=i)*1 \n",
        "    #print(sum(preds1))\n",
        "    f1_score = sklearn.metrics.precision_recall_fscore_support(preds1,y_test_np)[2][1]\n",
        "    print(f1_score)\n",
        "    if (not f1_score):\n",
        "      break\n",
        "    if (f1_score > f1_max):\n",
        "      f1_max = f1_score\n",
        "      cutoff = i\n",
        "  return cutoff,f1_max"
      ],
      "execution_count": 41,
      "outputs": []
    },
    {
      "cell_type": "code",
      "metadata": {
        "colab": {
          "base_uri": "https://localhost:8080/"
        },
        "id": "eMWeHhaOnJov",
        "outputId": "89ff7bf5-9e8b-4a5b-ab84-14e4da7ec83f"
      },
      "source": [
        "train_cutoff,train_f1 = best_f1(preds_train,y_train_np)"
      ],
      "execution_count": 42,
      "outputs": [
        {
          "output_type": "stream",
          "text": [
            "0.12070643040363238\n",
            "0.1395964195044041\n",
            "0.1555445893549524\n",
            "0.1699331372903353\n",
            "0.1825239762520932\n",
            "0.19500855300671083\n",
            "0.20535444186750026\n",
            "0.21441656247274\n",
            "0.22122173334697637\n",
            "0.22674912089244575\n",
            "0.23016898846282735\n",
            "0.22832838994907378\n",
            "0.22744239927918652\n",
            "0.22277191706074936\n",
            "0.21334197941152633\n",
            "0.20257695060844666\n",
            "0.18574472206081735\n",
            "0.17084069417021722\n",
            "0.15837855797984274\n",
            "0.14337419731465265\n",
            "0.12868501529051987\n",
            "0.11876907426246185\n",
            "0.1071898867526995\n",
            "0.0983073798239675\n",
            "0.08262623452496871\n",
            "0.07273760477340531\n",
            "0.06468455402465555\n",
            "0.055342949661466\n",
            "0.04719235364396655\n",
            "0.03955314009661835\n",
            "0.03352125552338869\n",
            "0.028531983433041877\n",
            "0.02620221948212084\n",
            "0.02320185614849188\n",
            "0.020531964535697618\n",
            "0.01840012474660845\n",
            "0.015014075695964968\n",
            "0.012248743718592964\n",
            "0.01132966168371361\n",
            "0.009457755359394703\n",
            "0.007580543272267846\n",
            "0.00663716814159292\n",
            "0.005694400506168934\n",
            "0.004432483773943327\n",
            "0.004117181314330957\n",
            "0.003169572107765452\n",
            "0.002854424357754519\n",
            "0.0028548770816812052\n",
            "0.0028553299492385786\n",
            "0.0022218695445167433\n",
            "0.001905366783105748\n",
            "0.0019056693663649356\n",
            "0.0019065776930409914\n",
            "0.0019065776930409914\n",
            "0.0015890672175433022\n",
            "0.0015890672175433022\n",
            "0.0015890672175433022\n",
            "0.001271657924018439\n",
            "0.0009538950715421303\n",
            "0.0009538950715421303\n",
            "0.0009538950715421303\n",
            "0.0009538950715421303\n",
            "0.0009538950715421303\n",
            "0.0009538950715421303\n",
            "0.0009538950715421303\n",
            "0.0009538950715421303\n",
            "0.0009538950715421303\n",
            "0.0009540467482906661\n",
            "0.0009541984732824427\n",
            "0.0009541984732824427\n",
            "0.0009541984732824427\n",
            "0.0009541984732824427\n",
            "0.0009543502465404803\n",
            "0.0009543502465404803\n",
            "0.0009545020680878142\n",
            "0.0009545020680878142\n",
            "0.0009546539379474941\n",
            "0.0009546539379474941\n",
            "0.0009546539379474941\n",
            "0.0009546539379474941\n",
            "0.0009546539379474941\n",
            "0.0009546539379474941\n",
            "0.0009546539379474941\n",
            "0.0009546539379474941\n",
            "0.0009546539379474941\n",
            "0.0009546539379474941\n",
            "0.0009546539379474941\n",
            "0.0006365372374283895\n",
            "0.0006365372374283895\n",
            "0.0006365372374283895\n",
            "0.0006365372374283895\n",
            "0.0006365372374283895\n",
            "0.0006365372374283895\n",
            "0.0006365372374283895\n",
            "0.0006366385484641094\n",
            "0.00031836994587710915\n",
            "0.00031842063365706094\n",
            "0.0\n"
          ],
          "name": "stdout"
        },
        {
          "output_type": "stream",
          "text": [
            "/usr/local/lib/python3.7/dist-packages/sklearn/metrics/_classification.py:1272: UndefinedMetricWarning: Recall and F-score are ill-defined and being set to 0.0 in labels with no true samples. Use `zero_division` parameter to control this behavior.\n",
            "  _warn_prf(average, modifier, msg_start, len(result))\n"
          ],
          "name": "stderr"
        }
      ]
    },
    {
      "cell_type": "code",
      "metadata": {
        "colab": {
          "base_uri": "https://localhost:8080/"
        },
        "id": "cr7o6G_SnW_O",
        "outputId": "4de7cf20-d075-479c-ec2f-8761b02496c4"
      },
      "source": [
        "train_cutoff,train_f1"
      ],
      "execution_count": 43,
      "outputs": [
        {
          "output_type": "execute_result",
          "data": {
            "text/plain": [
              "(0.11, 0.23016898846282735)"
            ]
          },
          "metadata": {
            "tags": []
          },
          "execution_count": 43
        }
      ]
    },
    {
      "cell_type": "code",
      "metadata": {
        "id": "4zhpl5OcnjEL"
      },
      "source": [
        "preds_train_ideal = (preds_train>=train_cutoff)*1"
      ],
      "execution_count": 44,
      "outputs": []
    },
    {
      "cell_type": "code",
      "metadata": {
        "colab": {
          "base_uri": "https://localhost:8080/"
        },
        "id": "DPP81ye5njEN",
        "outputId": "c7b9e9fd-862d-4e42-c071-d49dc0c1138d"
      },
      "source": [
        "print(classification_report(preds_train_ideal,y_train_np))"
      ],
      "execution_count": 45,
      "outputs": [
        {
          "output_type": "stream",
          "text": [
            "              precision    recall  f1-score   support\n",
            "\n",
            "           0       0.89      0.96      0.93    104971\n",
            "           1       0.38      0.16      0.23     14609\n",
            "\n",
            "    accuracy                           0.87    119580\n",
            "   macro avg       0.64      0.56      0.58    119580\n",
            "weighted avg       0.83      0.87      0.84    119580\n",
            "\n"
          ],
          "name": "stdout"
        }
      ]
    },
    {
      "cell_type": "code",
      "metadata": {
        "id": "bMJzTRaDnXEr"
      },
      "source": [
        ""
      ],
      "execution_count": 45,
      "outputs": []
    },
    {
      "cell_type": "code",
      "metadata": {
        "id": "PzEK_zwEZXZT"
      },
      "source": [
        "model.eval()\n",
        "preds = []\n",
        "with torch.no_grad():\n",
        "   for i,data in enumerate(test_loader):\n",
        "     test_x,test_y = data\n",
        "     y_hat = model.forward(test_x)\n",
        "     preds.append(y_hat)"
      ],
      "execution_count": 46,
      "outputs": []
    },
    {
      "cell_type": "code",
      "metadata": {
        "colab": {
          "base_uri": "https://localhost:8080/"
        },
        "id": "n7RGgiWSGYe0",
        "outputId": "38f3b7ea-82f7-4632-aac9-63f339b7ec4a"
      },
      "source": [
        "np.array(preds)"
      ],
      "execution_count": 47,
      "outputs": [
        {
          "output_type": "execute_result",
          "data": {
            "text/plain": [
              "array([0.01258692, 0.01299697, 0.1805474 , ..., 0.08722918, 0.08851077,\n",
              "       0.14764693], dtype=float32)"
            ]
          },
          "metadata": {
            "tags": []
          },
          "execution_count": 47
        }
      ]
    },
    {
      "cell_type": "code",
      "metadata": {
        "colab": {
          "base_uri": "https://localhost:8080/"
        },
        "id": "FUgPQ-cpiV_z",
        "outputId": "7462fd84-b752-4c4c-d6c1-e93ac58e8203"
      },
      "source": [
        "preds = np.array(preds)\n",
        "np.unique(preds)"
      ],
      "execution_count": 48,
      "outputs": [
        {
          "output_type": "execute_result",
          "data": {
            "text/plain": [
              "array([9.6162848e-06, 5.6802673e-05, 8.3449238e-05, ..., 5.4567313e-01,\n",
              "       5.5683380e-01, 6.1660248e-01], dtype=float32)"
            ]
          },
          "metadata": {
            "tags": []
          },
          "execution_count": 48
        }
      ]
    },
    {
      "cell_type": "code",
      "metadata": {
        "id": "f5XnvDV-jz8R"
      },
      "source": [
        "preds_dummy = (preds>=0.5)*1"
      ],
      "execution_count": 49,
      "outputs": []
    },
    {
      "cell_type": "code",
      "metadata": {
        "colab": {
          "base_uri": "https://localhost:8080/"
        },
        "id": "5L8P-jT4jyRw",
        "outputId": "bbdc9183-55c0-4e31-a75d-98385c9d4738"
      },
      "source": [
        "sklearn.metrics.precision_recall_fscore_support(preds_dummy,y_test_np)"
      ],
      "execution_count": 50,
      "outputs": [
        {
          "output_type": "execute_result",
          "data": {
            "text/plain": [
              "(array([0.99992724, 0.00132275]),\n",
              " array([0.94792385, 0.5       ]),\n",
              " array([0.97323136, 0.00263852]),\n",
              " array([28996,     4]))"
            ]
          },
          "metadata": {
            "tags": []
          },
          "execution_count": 50
        }
      ]
    },
    {
      "cell_type": "code",
      "metadata": {
        "colab": {
          "base_uri": "https://localhost:8080/"
        },
        "id": "SzIBq2WNkVdS",
        "outputId": "8acffb22-ebd0-4bd1-cbe6-dd12accac748"
      },
      "source": [
        "sklearn.metrics.precision_recall_fscore_support(preds_dummy,y_test_np)[2][1]"
      ],
      "execution_count": 51,
      "outputs": [
        {
          "output_type": "execute_result",
          "data": {
            "text/plain": [
              "0.002638522427440633"
            ]
          },
          "metadata": {
            "tags": []
          },
          "execution_count": 51
        }
      ]
    },
    {
      "cell_type": "code",
      "metadata": {
        "colab": {
          "base_uri": "https://localhost:8080/"
        },
        "id": "4i0-9eJhjKhP",
        "outputId": "22493238-ed23-448f-b0e3-424d910099fa"
      },
      "source": [
        "np.arange(0.01,1,0.01)"
      ],
      "execution_count": 52,
      "outputs": [
        {
          "output_type": "execute_result",
          "data": {
            "text/plain": [
              "array([0.01, 0.02, 0.03, 0.04, 0.05, 0.06, 0.07, 0.08, 0.09, 0.1 , 0.11,\n",
              "       0.12, 0.13, 0.14, 0.15, 0.16, 0.17, 0.18, 0.19, 0.2 , 0.21, 0.22,\n",
              "       0.23, 0.24, 0.25, 0.26, 0.27, 0.28, 0.29, 0.3 , 0.31, 0.32, 0.33,\n",
              "       0.34, 0.35, 0.36, 0.37, 0.38, 0.39, 0.4 , 0.41, 0.42, 0.43, 0.44,\n",
              "       0.45, 0.46, 0.47, 0.48, 0.49, 0.5 , 0.51, 0.52, 0.53, 0.54, 0.55,\n",
              "       0.56, 0.57, 0.58, 0.59, 0.6 , 0.61, 0.62, 0.63, 0.64, 0.65, 0.66,\n",
              "       0.67, 0.68, 0.69, 0.7 , 0.71, 0.72, 0.73, 0.74, 0.75, 0.76, 0.77,\n",
              "       0.78, 0.79, 0.8 , 0.81, 0.82, 0.83, 0.84, 0.85, 0.86, 0.87, 0.88,\n",
              "       0.89, 0.9 , 0.91, 0.92, 0.93, 0.94, 0.95, 0.96, 0.97, 0.98, 0.99])"
            ]
          },
          "metadata": {
            "tags": []
          },
          "execution_count": 52
        }
      ]
    },
    {
      "cell_type": "code",
      "metadata": {
        "id": "xPgbAh5RmW7O",
        "colab": {
          "base_uri": "https://localhost:8080/"
        },
        "outputId": "df0ec5fb-d7e9-4545-f5e4-ec1569074873"
      },
      "source": [
        "cutoff,f1_max = best_f1(preds,y_test_np)"
      ],
      "execution_count": 53,
      "outputs": [
        {
          "output_type": "stream",
          "text": [
            "0.11820541943858509\n",
            "0.13657190717840076\n",
            "0.15276886269475407\n",
            "0.1662820686846749\n",
            "0.17770825185764566\n",
            "0.18710720057460944\n",
            "0.19157873168732711\n",
            "0.19651947436959866\n",
            "0.20564908863225265\n",
            "0.21256198347107438\n",
            "0.21522207004500096\n",
            "0.21551132463967054\n",
            "0.21049840933191943\n",
            "0.20316701523752612\n",
            "0.19752259792433882\n",
            "0.18155090040426317\n",
            "0.17585931254996\n",
            "0.167453842851009\n",
            "0.15576036866359447\n",
            "0.14417924987822697\n",
            "0.1327207759060745\n",
            "0.11205073995771668\n",
            "0.10038188761593016\n",
            "0.0931537598204265\n",
            "0.08735632183908046\n",
            "0.07971864009378662\n",
            "0.07619047619047618\n",
            "0.06751054852320675\n",
            "0.05162876459741856\n",
            "0.0460772104607721\n",
            "0.03780718336483932\n",
            "0.031746031746031744\n",
            "0.026837060702875396\n",
            "0.024484536082474227\n",
            "0.020711974110032363\n",
            "0.016894087069525665\n",
            "0.014341590612777051\n",
            "0.013054830287206266\n",
            "0.009162303664921465\n",
            "0.006557377049180327\n",
            "0.005252790544977018\n",
            "0.0052596975673898745\n",
            "0.005263157894736841\n",
            "0.005263157894736841\n",
            "0.003949967083607636\n",
            "0.003952569169960474\n",
            "0.002638522427440633\n",
            "0.002638522427440633\n",
            "0.002638522427440633\n",
            "0.002638522427440633\n",
            "0.0026402640264026403\n",
            "0.0026402640264026403\n",
            "0.0026402640264026403\n",
            "0.0026402640264026403\n",
            "0.0026420079260237777\n",
            "0.0013218770654329147\n",
            "0.0013218770654329147\n",
            "0.0013218770654329147\n",
            "0.0013218770654329147\n",
            "0.0013218770654329147\n",
            "0.0013218770654329147\n",
            "0.0\n"
          ],
          "name": "stdout"
        },
        {
          "output_type": "stream",
          "text": [
            "/usr/local/lib/python3.7/dist-packages/sklearn/metrics/_classification.py:1272: UndefinedMetricWarning: Recall and F-score are ill-defined and being set to 0.0 in labels with no true samples. Use `zero_division` parameter to control this behavior.\n",
            "  _warn_prf(average, modifier, msg_start, len(result))\n"
          ],
          "name": "stderr"
        }
      ]
    },
    {
      "cell_type": "code",
      "metadata": {
        "colab": {
          "base_uri": "https://localhost:8080/"
        },
        "id": "KhGhKEO-myMF",
        "outputId": "62b04e1a-c1e2-4039-9e90-9377ec028618"
      },
      "source": [
        "print(cutoff,f1_max)"
      ],
      "execution_count": 54,
      "outputs": [
        {
          "output_type": "stream",
          "text": [
            "0.12 0.21551132463967054\n"
          ],
          "name": "stdout"
        }
      ]
    },
    {
      "cell_type": "code",
      "metadata": {
        "id": "52FCW9zcoN6o"
      },
      "source": [
        "preds_ideal = (preds>=cutoff)*1"
      ],
      "execution_count": 55,
      "outputs": []
    },
    {
      "cell_type": "code",
      "metadata": {
        "id": "YUnzaot8GB2W",
        "colab": {
          "base_uri": "https://localhost:8080/"
        },
        "outputId": "63d2e6b3-4eac-4883-9c63-1983bafa666f"
      },
      "source": [
        "print(classification_report(preds_ideal,y_test_np))"
      ],
      "execution_count": 56,
      "outputs": [
        {
          "output_type": "stream",
          "text": [
            "              precision    recall  f1-score   support\n",
            "\n",
            "           0       0.91      0.96      0.94     26141\n",
            "           1       0.31      0.16      0.22      2859\n",
            "\n",
            "    accuracy                           0.88     29000\n",
            "   macro avg       0.61      0.56      0.58     29000\n",
            "weighted avg       0.85      0.88      0.87     29000\n",
            "\n"
          ],
          "name": "stdout"
        }
      ]
    },
    {
      "cell_type": "code",
      "metadata": {
        "id": "8BooV-hSKu8n"
      },
      "source": [
        ""
      ],
      "execution_count": 56,
      "outputs": []
    }
  ]
}