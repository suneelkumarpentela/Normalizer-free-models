{
  "nbformat": 4,
  "nbformat_minor": 0,
  "metadata": {
    "colab": {
      "name": "NF_oversampling_pytorch.ipynb",
      "provenance": [],
      "authorship_tag": "ABX9TyPrbdqjTSo3yoIWQ0fgT7qd",
      "include_colab_link": true
    },
    "kernelspec": {
      "name": "python3",
      "display_name": "Python 3"
    },
    "language_info": {
      "name": "python"
    }
  },
  "cells": [
    {
      "cell_type": "markdown",
      "metadata": {
        "id": "view-in-github",
        "colab_type": "text"
      },
      "source": [
        "<a href=\"https://colab.research.google.com/github/suneelkumarpentela/Normalizer-free-models/blob/master/NF_oversampling_pytorch.ipynb\" target=\"_parent\"><img src=\"https://colab.research.google.com/assets/colab-badge.svg\" alt=\"Open In Colab\"/></a>"
      ]
    },
    {
      "cell_type": "code",
      "metadata": {
        "id": "WXlHXCmtSxao"
      },
      "source": [
        "import torch\n",
        "import torch.nn as nn\n",
        "from torch.utils.data import DataLoader, TensorDataset\n",
        "import torch.nn.functional as F\n",
        "import matplotlib.pyplot as plt\n",
        "import pandas as pd\n",
        "import os\n",
        "import numpy as np\n",
        "import sklearn\n",
        "from sklearn.metrics import classification_report, confusion_matrix,precision_recall_fscore_support"
      ],
      "execution_count": 2,
      "outputs": []
    },
    {
      "cell_type": "code",
      "metadata": {
        "id": "wW10KB-QR7z8",
        "colab": {
          "base_uri": "https://localhost:8080/",
          "height": 35
        },
        "outputId": "08354fe5-bb5d-4e23-dbc3-09ec5bbd2187"
      },
      "source": [
        "os.getcwd()"
      ],
      "execution_count": 3,
      "outputs": [
        {
          "output_type": "execute_result",
          "data": {
            "application/vnd.google.colaboratory.intrinsic+json": {
              "type": "string"
            },
            "text/plain": [
              "'/content'"
            ]
          },
          "metadata": {
            "tags": []
          },
          "execution_count": 3
        }
      ]
    },
    {
      "cell_type": "code",
      "metadata": {
        "colab": {
          "base_uri": "https://localhost:8080/"
        },
        "id": "maPOG8dQTKMT",
        "outputId": "05f94691-b761-4328-b4db-7181f3fe76f3"
      },
      "source": [
        "from google.colab import drive\n",
        "drive.mount('/content/drive')"
      ],
      "execution_count": 4,
      "outputs": [
        {
          "output_type": "stream",
          "text": [
            "Mounted at /content/drive\n"
          ],
          "name": "stdout"
        }
      ]
    },
    {
      "cell_type": "code",
      "metadata": {
        "id": "WS8zd5uTTtli"
      },
      "source": [
        "os.chdir(\"/content/drive/MyDrive/Colab Notebooks/Mathlogic\")"
      ],
      "execution_count": 5,
      "outputs": []
    },
    {
      "cell_type": "code",
      "metadata": {
        "colab": {
          "base_uri": "https://localhost:8080/"
        },
        "id": "oPUzZeJzTb5K",
        "outputId": "52878594-5d71-4ca6-9a7d-63fb9721bfa8"
      },
      "source": [
        "train = pd.read_csv(\"./Data/train.csv\")\n",
        "train_target_new = np.where(train['target']==0,0,1)\n",
        "train['target'] = train_target_new\n",
        "print(train.shape)"
      ],
      "execution_count": 16,
      "outputs": [
        {
          "output_type": "stream",
          "text": [
            "(90000, 95)\n"
          ],
          "name": "stdout"
        }
      ]
    },
    {
      "cell_type": "code",
      "metadata": {
        "colab": {
          "base_uri": "https://localhost:8080/"
        },
        "id": "Y0EcvGb4Tf4J",
        "outputId": "4a1e11d7-d420-48f6-f70d-cd1b151c9289"
      },
      "source": [
        "val = pd.read_csv(\"./Data/valid.csv\")\n",
        "val_target_new = np.where(val['target']==0,0,1)\n",
        "val['target'] = val_target_new\n",
        "print(val.shape)"
      ],
      "execution_count": 20,
      "outputs": [
        {
          "output_type": "stream",
          "text": [
            "(29000, 95)\n"
          ],
          "name": "stdout"
        }
      ]
    },
    {
      "cell_type": "code",
      "metadata": {
        "colab": {
          "base_uri": "https://localhost:8080/"
        },
        "id": "uhRkdSRoTf7Y",
        "outputId": "09c70bb1-b602-4d12-e283-1d04931a26ef"
      },
      "source": [
        "test = pd.read_csv(\"./Data/test.csv\")\n",
        "test_target_new = np.where(test['target']==0,0,1)\n",
        "test['target'] = test_target_new\n",
        "print(test.shape)"
      ],
      "execution_count": 21,
      "outputs": [
        {
          "output_type": "stream",
          "text": [
            "(29580, 95)\n"
          ],
          "name": "stdout"
        }
      ]
    },
    {
      "cell_type": "code",
      "metadata": {
        "id": "CGffhGuxWqMk"
      },
      "source": [
        "frames = [train,test]\n",
        "X = pd.concat(frames)"
      ],
      "execution_count": 22,
      "outputs": []
    },
    {
      "cell_type": "code",
      "metadata": {
        "colab": {
          "base_uri": "https://localhost:8080/"
        },
        "id": "F_t9c7zKTKI-",
        "outputId": "4abf1f7c-ed13-4bec-ea4e-158493c4a4a1"
      },
      "source": [
        "# Class count\n",
        "count_class_0, count_class_1 = X.target.value_counts()\n",
        "\n",
        "# Divide by class\n",
        "df_class_0 = X[X['target'] == 0]\n",
        "df_class_1 = X[X['target'] == 1]\n",
        "\n",
        "print(count_class_0, count_class_1)"
      ],
      "execution_count": 24,
      "outputs": [
        {
          "output_type": "stream",
          "text": [
            "113300 6280\n"
          ],
          "name": "stdout"
        }
      ]
    },
    {
      "cell_type": "code",
      "metadata": {
        "id": "wpjVFvcgTegX"
      },
      "source": [
        "df_class_1_over  = df_class_1.sample(count_class_0,replace=True)"
      ],
      "execution_count": 35,
      "outputs": []
    },
    {
      "cell_type": "code",
      "metadata": {
        "id": "g3FwpVWvUfoS"
      },
      "source": [
        "X = pd.concat([df_class_0,df_class_1_over])"
      ],
      "execution_count": 36,
      "outputs": []
    },
    {
      "cell_type": "code",
      "metadata": {
        "colab": {
          "base_uri": "https://localhost:8080/"
        },
        "id": "A6zP0gSdTf-m",
        "outputId": "a5561c43-5a5a-4bfd-8bfc-9664d8903e40"
      },
      "source": [
        "X_train = X.drop(\"target\",axis=1)\n",
        "X_test = val.drop(\"target\",axis=1)\n",
        "print(X_train.shape,X_test.shape)"
      ],
      "execution_count": 37,
      "outputs": [
        {
          "output_type": "stream",
          "text": [
            "(226600, 94) (29000, 94)\n"
          ],
          "name": "stdout"
        }
      ]
    },
    {
      "cell_type": "code",
      "metadata": {
        "colab": {
          "base_uri": "https://localhost:8080/"
        },
        "id": "IgqGEXDxSzvn",
        "outputId": "85dd2c1e-62e7-42e2-8be0-1e3784708a47"
      },
      "source": [
        "y_train = np.array([X['target']]).reshape(-1,1)\n",
        "y_test = np.array([val['target']]).reshape(-1,1)\n",
        "print(y_train.shape,y_test.shape)"
      ],
      "execution_count": 38,
      "outputs": [
        {
          "output_type": "stream",
          "text": [
            "(226600, 1) (29000, 1)\n"
          ],
          "name": "stdout"
        }
      ]
    },
    {
      "cell_type": "code",
      "metadata": {
        "id": "X1uK6JYYaxrQ"
      },
      "source": [
        "from collections import Counter"
      ],
      "execution_count": 39,
      "outputs": []
    },
    {
      "cell_type": "code",
      "metadata": {
        "colab": {
          "base_uri": "https://localhost:8080/"
        },
        "id": "79XQUzBKa1jC",
        "outputId": "b4a5a1d5-cce2-43c1-8761-6f2f8cb04f77"
      },
      "source": [
        "Counter(y_test.flatten())"
      ],
      "execution_count": 40,
      "outputs": [
        {
          "output_type": "execute_result",
          "data": {
            "text/plain": [
              "Counter({0: 27488, 1: 1512})"
            ]
          },
          "metadata": {
            "tags": []
          },
          "execution_count": 40
        }
      ]
    },
    {
      "cell_type": "code",
      "metadata": {
        "colab": {
          "base_uri": "https://localhost:8080/"
        },
        "id": "247ITGH6a1mS",
        "outputId": "b1546c3b-ee0b-48af-f9df-b1f42cdf1300"
      },
      "source": [
        "Counter(y_train.flatten())"
      ],
      "execution_count": 41,
      "outputs": [
        {
          "output_type": "execute_result",
          "data": {
            "text/plain": [
              "Counter({0: 113300, 1: 113300})"
            ]
          },
          "metadata": {
            "tags": []
          },
          "execution_count": 41
        }
      ]
    },
    {
      "cell_type": "code",
      "metadata": {
        "colab": {
          "base_uri": "https://localhost:8080/"
        },
        "id": "M3kEObXVbLm-",
        "outputId": "e242f944-5ce0-4ff7-bf77-a4bcda82e8bd"
      },
      "source": [
        "6280/(6280+113300)"
      ],
      "execution_count": 42,
      "outputs": [
        {
          "output_type": "execute_result",
          "data": {
            "text/plain": [
              "0.05251714333500585"
            ]
          },
          "metadata": {
            "tags": []
          },
          "execution_count": 42
        }
      ]
    },
    {
      "cell_type": "code",
      "metadata": {
        "colab": {
          "base_uri": "https://localhost:8080/"
        },
        "id": "xINXH2CKasrd",
        "outputId": "20445465-94ea-4b5c-d1a3-23b9997b6b25"
      },
      "source": [
        "y_test.shape"
      ],
      "execution_count": 43,
      "outputs": [
        {
          "output_type": "execute_result",
          "data": {
            "text/plain": [
              "(29000, 1)"
            ]
          },
          "metadata": {
            "tags": []
          },
          "execution_count": 43
        }
      ]
    },
    {
      "cell_type": "code",
      "metadata": {
        "id": "KKBnt4FwVaFs"
      },
      "source": [
        "from sklearn.preprocessing import StandardScaler\n",
        "\n",
        "scaler = StandardScaler().fit(X_train)\n",
        "\n",
        "X_train_np = scaler.transform(X_train)\n",
        "\n",
        "X_test_np = scaler.transform(X_test)"
      ],
      "execution_count": 44,
      "outputs": []
    },
    {
      "cell_type": "code",
      "metadata": {
        "id": "1jRp6fiDZFPk"
      },
      "source": [
        "y_train_np = y_train\n",
        "y_test_np = y_test"
      ],
      "execution_count": 45,
      "outputs": []
    },
    {
      "cell_type": "code",
      "metadata": {
        "id": "Rflwcjgg9Kf9"
      },
      "source": [
        "X_train = torch.FloatTensor(X_train_np)\n",
        "\n",
        "X_test = torch.FloatTensor(X_test_np)\n",
        "\n",
        "y_train = torch.FloatTensor(y_train_np)\n",
        "y_test = torch.FloatTensor(y_test_np)"
      ],
      "execution_count": 46,
      "outputs": []
    },
    {
      "cell_type": "code",
      "metadata": {
        "colab": {
          "base_uri": "https://localhost:8080/"
        },
        "id": "N5kGUJzdZwJn",
        "outputId": "138dbc70-4ccf-484d-cc71-dae8829d4ff2"
      },
      "source": [
        "print(y_train.shape)"
      ],
      "execution_count": 47,
      "outputs": [
        {
          "output_type": "stream",
          "text": [
            "torch.Size([226600, 1])\n"
          ],
          "name": "stdout"
        }
      ]
    },
    {
      "cell_type": "code",
      "metadata": {
        "colab": {
          "base_uri": "https://localhost:8080/"
        },
        "id": "qC-bpytQrLwJ",
        "outputId": "37663465-9bf7-4f5b-a665-d760618a40dc"
      },
      "source": [
        "X_train_np.shape"
      ],
      "execution_count": 48,
      "outputs": [
        {
          "output_type": "execute_result",
          "data": {
            "text/plain": [
              "(226600, 94)"
            ]
          },
          "metadata": {
            "tags": []
          },
          "execution_count": 48
        }
      ]
    },
    {
      "cell_type": "code",
      "metadata": {
        "colab": {
          "base_uri": "https://localhost:8080/"
        },
        "id": "l18ZTOEWZ83z",
        "outputId": "4d2ea013-5ec3-47cd-e679-98e97f852859"
      },
      "source": [
        "X_test_np.shape"
      ],
      "execution_count": 49,
      "outputs": [
        {
          "output_type": "execute_result",
          "data": {
            "text/plain": [
              "(29000, 94)"
            ]
          },
          "metadata": {
            "tags": []
          },
          "execution_count": 49
        }
      ]
    },
    {
      "cell_type": "code",
      "metadata": {
        "colab": {
          "base_uri": "https://localhost:8080/"
        },
        "id": "-g1AiaelrFZC",
        "outputId": "06d7dd5b-caeb-4291-e919-cee4bb92c146"
      },
      "source": [
        "batch_size = 64\n",
        "num_train_batches = int(X_train_np.shape[0]/batch_size)+1\n",
        "num_test_batches = int(X_test_np.shape[0]/batch_size)+1\n",
        "train_data_size = X_train_np.shape[0]\n",
        "test_data_size = X_test_np.shape[0]\n",
        "print(\"Train :\",num_train_batches,train_data_size)\n",
        "print(\"Test :\",num_test_batches,test_data_size)"
      ],
      "execution_count": 50,
      "outputs": [
        {
          "output_type": "stream",
          "text": [
            "Train : 3541 226600\n",
            "Test : 454 29000\n"
          ],
          "name": "stdout"
        }
      ]
    },
    {
      "cell_type": "code",
      "metadata": {
        "id": "EuEI8aCuiSKY"
      },
      "source": [
        "train_dataset = TensorDataset(X_train,y_train)\n",
        "train_dataloader = DataLoader(train_dataset,batch_size=batch_size,shuffle=True)"
      ],
      "execution_count": 51,
      "outputs": []
    },
    {
      "cell_type": "code",
      "metadata": {
        "id": "eVWd9vjVR6VT"
      },
      "source": [
        "test_dataset = TensorDataset(X_test,y_test)\n",
        "test_dataloader = DataLoader(test_dataset,batch_size=batch_size,shuffle=True)"
      ],
      "execution_count": 52,
      "outputs": []
    },
    {
      "cell_type": "code",
      "metadata": {
        "id": "db0tP1mVC9No"
      },
      "source": [
        "train_loader = DataLoader(train_dataset)\n",
        "test_loader = DataLoader(test_dataset)"
      ],
      "execution_count": 53,
      "outputs": []
    },
    {
      "cell_type": "code",
      "metadata": {
        "id": "CNg-XMB0qJet"
      },
      "source": [
        "# dataiter = iter(train_dataloader)\n",
        "# images, labels = dataiter.next()\n",
        "# print(type(images))\n",
        "# print(images.shape)\n",
        "# print(labels.shape)"
      ],
      "execution_count": 54,
      "outputs": []
    },
    {
      "cell_type": "code",
      "metadata": {
        "id": "gKr2bNZoXrGC"
      },
      "source": [
        ""
      ],
      "execution_count": null,
      "outputs": []
    },
    {
      "cell_type": "code",
      "metadata": {
        "id": "AX24qTTy_qPC"
      },
      "source": [
        "class WSLinear(nn.Linear):\n",
        "\n",
        "    def __init__(self, in_channels, out_channels,bias=True):\n",
        "        super().__init__(in_channels, out_channels,bias=bias)\n",
        "\n",
        "        nn.init.kaiming_normal_(self.weight)\n",
        "        self.gain = nn.Parameter(torch.ones(\n",
        "            self.weight.size()[0], requires_grad=True))\n",
        "\n",
        "    def standardize_weight(self, eps):\n",
        "        mean = torch.mean(self.weight, dim=(1), keepdims=True)\n",
        "        var = torch.std(self.weight, dim=(1), keepdims=True, unbiased=False) ** 2\n",
        "        fan_in = torch.prod(torch.tensor(self.weight.shape))\n",
        "\n",
        "        scale = torch.rsqrt(torch.max(\n",
        "            var * fan_in, torch.tensor(eps))) * self.gain.view_as(var)\n",
        "        shift = mean * scale\n",
        "        return self.weight * scale - shift\n",
        "\n",
        "    def forward(self, input, eps=1e-4):\n",
        "        weight = self.standardize_weight(eps)\n",
        "        return F.linear(input, weight, self.bias)"
      ],
      "execution_count": 67,
      "outputs": []
    },
    {
      "cell_type": "code",
      "metadata": {
        "id": "KnQqey9Z-2kn"
      },
      "source": [
        "class nf_block(nn.Module):\n",
        "\n",
        "  def __init__(self,in_units,out_units,alpha,beta):\n",
        "    super().__init__()\n",
        "\n",
        "    self.nn = WSLinear(in_units,out_units)\n",
        "    self.relu = nn.ReLU()\n",
        "\n",
        "    self.alpha = alpha\n",
        "    self.beta = beta\n",
        "    self.skip_gain = nn.Parameter(torch.zeros(()))\n",
        "\n",
        "  def forward(self,input):\n",
        "\n",
        "    shortcut = input\n",
        "\n",
        "    x = input*self.beta\n",
        "    x = self.nn(x)\n",
        "    out = shortcut + x*self.alpha*self.skip_gain\n",
        "\n",
        "    out = self.relu(out)\n",
        "\n",
        "    return out"
      ],
      "execution_count": 68,
      "outputs": []
    },
    {
      "cell_type": "code",
      "metadata": {
        "id": "VefpYW_c9PK_"
      },
      "source": [
        "class feedforward_nfnet(nn.Module):\n",
        "\n",
        "  def __init__(self,layers = [94,64,64,64,64,64,64,1],alpha=0.2,beta=1.0):\n",
        "    super().__init__()\n",
        "\n",
        "    self.layers = layers\n",
        "    self.layers = [94,64,64,64,64,64,64,64,64,64,64,1]\n",
        "    self.relu = nn.ReLU()\n",
        "    self.sigmoid = nn.Sigmoid()\n",
        "    self.alpha = alpha #rate of change of variance at res bock\n",
        "    self.expected_std = 1.0\n",
        "    self.beta = 1.0\n",
        "\n",
        "    self.first_nn = WSLinear(self.layers[0],self.layers[1])\n",
        "\n",
        "    blocks = []\n",
        "\n",
        "    for i in range(len(self.layers)-3):\n",
        "      self.beta = 1/(self.expected_std)\n",
        "      blocks.append(nf_block(self.layers[i+1],self.layers[i+2],self.alpha,self.beta))\n",
        "      self.expected_std = (self.expected_std **2 + self.alpha**2)**0.5\n",
        "\n",
        "    self.body = nn.Sequential(*blocks)\n",
        "\n",
        "    self.last_nn = WSLinear(self.layers[-2],self.layers[-1])\n",
        "\n",
        "  def forward(self,input):\n",
        "\n",
        "    x = self.first_nn(input)\n",
        "    x = self.relu(x)\n",
        "\n",
        "    x = self.body(x)\n",
        "\n",
        "    out = self.last_nn(x)\n",
        "    out = self.sigmoid(out)\n",
        "\n",
        "    return out"
      ],
      "execution_count": 77,
      "outputs": []
    },
    {
      "cell_type": "code",
      "metadata": {
        "id": "CIDHT9crX8eS"
      },
      "source": [
        "model = feedforward_nfnet()"
      ],
      "execution_count": 78,
      "outputs": []
    },
    {
      "cell_type": "code",
      "metadata": {
        "colab": {
          "base_uri": "https://localhost:8080/"
        },
        "id": "HEZEGX0PiH3b",
        "outputId": "cd3c2679-8b0e-4f65-fde7-0a76c3fa49a5"
      },
      "source": [
        "total_params = sum(p.numel() for p in model.parameters())\n",
        "total_params"
      ],
      "execution_count": 79,
      "outputs": [
        {
          "output_type": "execute_result",
          "data": {
            "text/plain": [
              "44235"
            ]
          },
          "metadata": {
            "tags": []
          },
          "execution_count": 79
        }
      ]
    },
    {
      "cell_type": "code",
      "metadata": {
        "colab": {
          "base_uri": "https://localhost:8080/"
        },
        "id": "87LEfcnJl0IS",
        "outputId": "8859ee47-f08b-4d91-98a5-98922b53c2ed"
      },
      "source": [
        "print(model.forward)"
      ],
      "execution_count": 80,
      "outputs": [
        {
          "output_type": "stream",
          "text": [
            "<bound method feedforward_nfnet.forward of feedforward_nfnet(\n",
            "  (relu): ReLU()\n",
            "  (sigmoid): Sigmoid()\n",
            "  (first_nn): WSLinear(in_features=94, out_features=64, bias=True)\n",
            "  (body): Sequential(\n",
            "    (0): nf_block(\n",
            "      (nn): WSLinear(in_features=64, out_features=64, bias=True)\n",
            "      (relu): ReLU()\n",
            "    )\n",
            "    (1): nf_block(\n",
            "      (nn): WSLinear(in_features=64, out_features=64, bias=True)\n",
            "      (relu): ReLU()\n",
            "    )\n",
            "    (2): nf_block(\n",
            "      (nn): WSLinear(in_features=64, out_features=64, bias=True)\n",
            "      (relu): ReLU()\n",
            "    )\n",
            "    (3): nf_block(\n",
            "      (nn): WSLinear(in_features=64, out_features=64, bias=True)\n",
            "      (relu): ReLU()\n",
            "    )\n",
            "    (4): nf_block(\n",
            "      (nn): WSLinear(in_features=64, out_features=64, bias=True)\n",
            "      (relu): ReLU()\n",
            "    )\n",
            "    (5): nf_block(\n",
            "      (nn): WSLinear(in_features=64, out_features=64, bias=True)\n",
            "      (relu): ReLU()\n",
            "    )\n",
            "    (6): nf_block(\n",
            "      (nn): WSLinear(in_features=64, out_features=64, bias=True)\n",
            "      (relu): ReLU()\n",
            "    )\n",
            "    (7): nf_block(\n",
            "      (nn): WSLinear(in_features=64, out_features=64, bias=True)\n",
            "      (relu): ReLU()\n",
            "    )\n",
            "    (8): nf_block(\n",
            "      (nn): WSLinear(in_features=64, out_features=64, bias=True)\n",
            "      (relu): ReLU()\n",
            "    )\n",
            "  )\n",
            "  (last_nn): WSLinear(in_features=64, out_features=1, bias=True)\n",
            ")>\n"
          ],
          "name": "stdout"
        }
      ]
    },
    {
      "cell_type": "code",
      "metadata": {
        "colab": {
          "base_uri": "https://localhost:8080/",
          "height": 35
        },
        "id": "SJYW3ERhEWpm",
        "outputId": "c8d24bdf-8d79-4cce-bda7-4359bc3c74a1"
      },
      "source": [
        "os.getcwd()"
      ],
      "execution_count": 81,
      "outputs": [
        {
          "output_type": "execute_result",
          "data": {
            "application/vnd.google.colaboratory.intrinsic+json": {
              "type": "string"
            },
            "text/plain": [
              "'/content/drive/My Drive/Colab Notebooks/Mathlogic/nfnets_pytorch'"
            ]
          },
          "metadata": {
            "tags": []
          },
          "execution_count": 81
        }
      ]
    },
    {
      "cell_type": "code",
      "metadata": {
        "id": "IkeqnuP7EN3_"
      },
      "source": [
        "if(os.getcwd() != r\"/content/drive/My Drive/Colab Notebooks/Mathlogic/nfnets_pytorch\"):\n",
        "  os.chdir(r\"./nfnets_pytorch\")"
      ],
      "execution_count": 82,
      "outputs": []
    },
    {
      "cell_type": "code",
      "metadata": {
        "colab": {
          "base_uri": "https://localhost:8080/",
          "height": 35
        },
        "id": "D7QsGU1FEuhY",
        "outputId": "aa1a3763-6ccd-410e-a595-cea6b97c3521"
      },
      "source": [
        "os.getcwd()"
      ],
      "execution_count": 83,
      "outputs": [
        {
          "output_type": "execute_result",
          "data": {
            "application/vnd.google.colaboratory.intrinsic+json": {
              "type": "string"
            },
            "text/plain": [
              "'/content/drive/My Drive/Colab Notebooks/Mathlogic/nfnets_pytorch'"
            ]
          },
          "metadata": {
            "tags": []
          },
          "execution_count": 83
        }
      ]
    },
    {
      "cell_type": "code",
      "metadata": {
        "id": "DAIXHFbbERmG"
      },
      "source": [
        "from nfnets import SGD_AGC"
      ],
      "execution_count": 84,
      "outputs": []
    },
    {
      "cell_type": "code",
      "metadata": {
        "id": "eAUXQ1arWFxV"
      },
      "source": [
        "# loss_func = nn.BCELoss(reduction=\"sum\")\n",
        "# optimizer = torch.optim.SGD(model.parameters(),lr=0.001)\n",
        "loss_func = nn.BCELoss()\n",
        "optimizer = SGD_AGC(\n",
        "        named_params=model.named_parameters(), # Pass named parameters\n",
        "        lr=1e-3,\n",
        "        momentum=0.9,\n",
        "        clipping=0.1, # New clipping parameter\n",
        "        weight_decay=2e-5, \n",
        "        nesterov=True)"
      ],
      "execution_count": 85,
      "outputs": []
    },
    {
      "cell_type": "code",
      "metadata": {
        "colab": {
          "base_uri": "https://localhost:8080/"
        },
        "id": "Ihr0n9jFaK9J",
        "outputId": "46f39503-1a13-4d8b-8f2f-4bf3784d0693"
      },
      "source": [
        "X_train_np.shape"
      ],
      "execution_count": 86,
      "outputs": [
        {
          "output_type": "execute_result",
          "data": {
            "text/plain": [
              "(226600, 94)"
            ]
          },
          "metadata": {
            "tags": []
          },
          "execution_count": 86
        }
      ]
    },
    {
      "cell_type": "code",
      "metadata": {
        "id": "-d-20hn-WekE"
      },
      "source": [
        "epochs = 100"
      ],
      "execution_count": 87,
      "outputs": []
    },
    {
      "cell_type": "code",
      "metadata": {
        "id": "LfiU-nlLWi0i",
        "colab": {
          "base_uri": "https://localhost:8080/"
        },
        "outputId": "bfb3a5c4-cdf9-439d-9dfd-982ce64009f9"
      },
      "source": [
        "losses = []\n",
        "accuracy = []\n",
        "val_losses = []\n",
        "val_accuracy = []\n",
        "\n",
        "for epoch in range(epochs):\n",
        "\n",
        "  model.train()\n",
        "  running_loss = 0\n",
        "  running_val_loss = 0\n",
        "  running_acc = 0\n",
        "  running_val_acc = 0\n",
        "\n",
        "  for i,data in enumerate(train_dataloader):\n",
        "    train_x,train_y = data\n",
        "    y_pred = model(train_x)\n",
        "    loss = loss_func(y_pred,train_y)\n",
        "    # predicted = model(torch.tensor(X_train_np,dtype=torch.float32))\n",
        "    acc = (y_pred.reshape(-1).detach().numpy().round() == \n",
        "           train_y.reshape(-1).detach().numpy().round()).mean()\n",
        "    running_loss += loss.item()/(num_train_batches)\n",
        "    running_acc += acc/(num_train_batches)\n",
        "    \n",
        "    #reset grads\n",
        "    optimizer.zero_grad()\n",
        "    \n",
        "    #backward\n",
        "    loss.backward()\n",
        "\n",
        "    #weight updates\n",
        "    optimizer.step()\n",
        "\n",
        "  print(f'Epoch: {epoch+1} Loss: {running_loss} Accuracy: {running_acc}',end = \" \")\n",
        "\n",
        "  model.eval()  \n",
        "  for i,data in enumerate(test_dataloader):\n",
        "    X_val,y_val = data\n",
        "    y_pred_val = model(X_val)\n",
        "    val_loss = loss_func(y_pred_val,y_val)\n",
        "    val_acc = (y_pred_val.reshape(-1).detach().numpy().round() == \n",
        "           y_val.reshape(-1).detach().numpy().round()).mean()\n",
        "\n",
        "    running_val_loss += val_loss.item()/(num_test_batches)\n",
        "    running_val_acc += val_acc/(num_test_batches)\n",
        "    \n",
        "  print(f'Val Loss: {running_val_loss} Val Accuracy: {running_val_acc}')\n",
        "\n",
        "\n",
        "  losses.append(running_loss)\n",
        "  accuracy.append(running_acc)\n",
        "  val_losses.append(running_val_loss)\n",
        "  val_accuracy.append(running_val_acc)  "
      ],
      "execution_count": 88,
      "outputs": [
        {
          "output_type": "stream",
          "text": [
            "Epoch: 1 Loss: 0.6712793281979884 Accuracy: 0.6180757554363016 Val Loss: 0.6489857364331044 Val Accuracy: 0.5999449339207047\n",
            "Epoch: 2 Loss: 0.6259798586065558 Accuracy: 0.6638996752329676 Val Loss: 0.6070688716115415 Val Accuracy: 0.6234856828193841\n",
            "Epoch: 3 Loss: 0.6047550748967405 Accuracy: 0.6762134637107985 Val Loss: 0.6063813681381908 Val Accuracy: 0.6170498348017626\n",
            "Epoch: 4 Loss: 0.5959887092260279 Accuracy: 0.6813920855690334 Val Loss: 0.6006252719048357 Val Accuracy: 0.6209732929515432\n",
            "Epoch: 5 Loss: 0.5916507051543831 Accuracy: 0.6851622070036532 Val Loss: 0.602430104815488 Val Accuracy: 0.6231415198237885\n",
            "Epoch: 6 Loss: 0.5889857617248702 Accuracy: 0.687146992375018 Val Loss: 0.5970056744267763 Val Accuracy: 0.6265143171806182\n",
            "Epoch: 7 Loss: 0.5870053879338041 Accuracy: 0.6886022663089326 Val Loss: 0.5942477520210632 Val Accuracy: 0.6297494493392085\n",
            "Epoch: 8 Loss: 0.5853671730574627 Accuracy: 0.6901087263484732 Val Loss: 0.5927320267791794 Val Accuracy: 0.6299559471365654\n",
            "Epoch: 9 Loss: 0.5839251046108682 Accuracy: 0.6910115433493198 Val Loss: 0.5977941810559602 Val Accuracy: 0.6291299559471377\n",
            "Epoch: 10 Loss: 0.5825373461710402 Accuracy: 0.692348559728872 Val Loss: 0.5886772720692962 Val Accuracy: 0.636873623348019\n",
            "Epoch: 11 Loss: 0.5812754641983745 Accuracy: 0.6927624611691467 Val Loss: 0.5840578654264038 Val Accuracy: 0.6394204295154206\n",
            "Epoch: 12 Loss: 0.5800381239458378 Accuracy: 0.693388167184392 Val Loss: 0.5864770506315816 Val Accuracy: 0.6369768722466982\n",
            "Epoch: 13 Loss: 0.5788502190467235 Accuracy: 0.6945283818130302 Val Loss: 0.5812982638501905 Val Accuracy: 0.6429997246696054\n",
            "Epoch: 14 Loss: 0.5777075455724707 Accuracy: 0.694801962722378 Val Loss: 0.5844748070061476 Val Accuracy: 0.6402808370044075\n",
            "Epoch: 15 Loss: 0.5765675170143546 Accuracy: 0.6952335145438971 Val Loss: 0.5888789022415213 Val Accuracy: 0.63615088105727\n",
            "Epoch: 16 Loss: 0.5754831952753791 Accuracy: 0.6963225430669127 Val Loss: 0.5871513414356678 Val Accuracy: 0.6386288546255521\n",
            "Epoch: 17 Loss: 0.574464910079516 Accuracy: 0.6969032406099784 Val Loss: 0.5825047003934037 Val Accuracy: 0.6426211453744515\n",
            "Epoch: 18 Loss: 0.5734563859479993 Accuracy: 0.6980655182151768 Val Loss: 0.5887622007451917 Val Accuracy: 0.6373554515418527\n",
            "Epoch: 19 Loss: 0.5724812754464331 Accuracy: 0.6992436811634967 Val Loss: 0.5948993875460479 Val Accuracy: 0.632709251101323\n",
            "Epoch: 20 Loss: 0.5715644794377651 Accuracy: 0.7002824060999552 Val Loss: 0.5760881560752047 Val Accuracy: 0.6470952643171834\n",
            "Epoch: 21 Loss: 0.5706386537630651 Accuracy: 0.7005930528099253 Val Loss: 0.5994581834860312 Val Accuracy: 0.6293708700440541\n",
            "Epoch: 22 Loss: 0.5697042670198785 Accuracy: 0.7013167184411001 Val Loss: 0.5818935597257996 Val Accuracy: 0.6438257158590333\n",
            "Epoch: 23 Loss: 0.5688583304049852 Accuracy: 0.7020006707144717 Val Loss: 0.5820467080182445 Val Accuracy: 0.6442731277533058\n",
            "Epoch: 24 Loss: 0.567950531735122 Accuracy: 0.7027366916125217 Val Loss: 0.5800514260577736 Val Accuracy: 0.6459251101321604\n",
            "Epoch: 25 Loss: 0.5670477185956972 Accuracy: 0.703643038689619 Val Loss: 0.5834306724008488 Val Accuracy: 0.6459939427312794\n",
            "Epoch: 26 Loss: 0.5662785473010593 Accuracy: 0.7046376376729575 Val Loss: 0.5783620929009059 Val Accuracy: 0.6475426762114563\n",
            "Epoch: 27 Loss: 0.5654188974265235 Accuracy: 0.7054477901722495 Val Loss: 0.5837963312733014 Val Accuracy: 0.644204295154187\n",
            "Epoch: 28 Loss: 0.5646001676808167 Accuracy: 0.706395615645281 Val Loss: 0.5773403751561292 Val Accuracy: 0.6511908039647605\n",
            "Epoch: 29 Loss: 0.56384997166203 Accuracy: 0.707461698672674 Val Loss: 0.5808836897170491 Val Accuracy: 0.6473705947136582\n",
            "Epoch: 30 Loss: 0.5631026443924073 Accuracy: 0.7075481855407915 Val Loss: 0.5676535253088902 Val Accuracy: 0.658314977973571\n",
            "Epoch: 31 Loss: 0.5623784905114906 Accuracy: 0.7080882872069857 Val Loss: 0.5700521698213358 Val Accuracy: 0.6563532488986812\n",
            "Epoch: 32 Loss: 0.5616197424465496 Accuracy: 0.7088984397062775 Val Loss: 0.5703665637759912 Val Accuracy: 0.655320759911897\n",
            "Epoch: 33 Loss: 0.5609246960840334 Accuracy: 0.7093317565659246 Val Loss: 0.5865789486448153 Val Accuracy: 0.6431373898678436\n",
            "Epoch: 34 Loss: 0.5602760164793589 Accuracy: 0.7098127294549387 Val Loss: 0.5671731747588392 Val Accuracy: 0.6613780286343646\n",
            "Epoch: 35 Loss: 0.5595739127653051 Accuracy: 0.7100351242586674 Val Loss: 0.5816274549204876 Val Accuracy: 0.6494699889867864\n",
            "Epoch: 36 Loss: 0.5588419504318489 Accuracy: 0.7104269627223775 Val Loss: 0.5872248737428685 Val Accuracy: 0.6436536343612358\n",
            "Epoch: 37 Loss: 0.5582429247029046 Accuracy: 0.7110959121716854 Val Loss: 0.5724249746699689 Val Accuracy: 0.6581084801762143\n",
            "Epoch: 38 Loss: 0.5576023471301579 Accuracy: 0.7117675091781803 Val Loss: 0.5671830452354996 Val Accuracy: 0.6616533590308398\n",
            "Epoch: 39 Loss: 0.5569719132630379 Accuracy: 0.7121134566506452 Val Loss: 0.5599324180691256 Val Accuracy: 0.6681236233480201\n",
            "Epoch: 40 Loss: 0.5563653749922715 Accuracy: 0.7127197472465221 Val Loss: 0.5769056010220018 Val Accuracy: 0.654116189427315\n",
            "Epoch: 41 Loss: 0.5557657273786603 Accuracy: 0.7131018780005492 Val Loss: 0.5585997149282615 Val Accuracy: 0.6691905286343641\n",
            "Epoch: 42 Loss: 0.555140371394677 Accuracy: 0.7134460604348881 Val Loss: 0.5788270142503772 Val Accuracy: 0.6547012665198264\n",
            "Epoch: 43 Loss: 0.5545370504617761 Accuracy: 0.7139870446201454 Val Loss: 0.5661924436754064 Val Accuracy: 0.6636150881057291\n",
            "Epoch: 44 Loss: 0.5539098703837658 Accuracy: 0.7141053021745091 Val Loss: 0.5765371764415159 Val Accuracy: 0.656800660792954\n",
            "Epoch: 45 Loss: 0.5533010473917236 Accuracy: 0.714562447048838 Val Loss: 0.5577791494026058 Val Accuracy: 0.6733893171806199\n",
            "Epoch: 46 Loss: 0.552686062910503 Accuracy: 0.7151228466534706 Val Loss: 0.5763311056576115 Val Accuracy: 0.6574201541850249\n",
            "Epoch: 47 Loss: 0.552093258199637 Accuracy: 0.7151969782547134 Val Loss: 0.5659909246382733 Val Accuracy: 0.6665060572687258\n",
            "Epoch: 48 Loss: 0.5515386249782743 Accuracy: 0.7157061917537244 Val Loss: 0.5747099533874033 Val Accuracy: 0.6594851321585931\n",
            "Epoch: 49 Loss: 0.5509591596892776 Accuracy: 0.7163124823496004 Val Loss: 0.5655862112664962 Val Accuracy: 0.665680066079298\n",
            "Epoch: 50 Loss: 0.5504003346336666 Accuracy: 0.7164175021180272 Val Loss: 0.5693452574870663 Val Accuracy: 0.661722191629959\n",
            "Epoch: 51 Loss: 0.5498629201774842 Accuracy: 0.7174288689635544 Val Loss: 0.5771135127229313 Val Accuracy: 0.6572136563876677\n",
            "Epoch: 52 Loss: 0.5493310226016515 Accuracy: 0.717156170573266 Val Loss: 0.5667609014437588 Val Accuracy: 0.6653703193832624\n",
            "Epoch: 53 Loss: 0.548801594612392 Accuracy: 0.7177351030782081 Val Loss: 0.5737744073510702 Val Accuracy: 0.6602422907489013\n",
            "Epoch: 54 Loss: 0.5482617812586242 Accuracy: 0.7184658288618869 Val Loss: 0.562288674620279 Val Accuracy: 0.6685710352422933\n",
            "Epoch: 55 Loss: 0.5477604311389848 Accuracy: 0.7187358796949836 Val Loss: 0.5691387865380569 Val Accuracy: 0.6650605726872278\n",
            "Epoch: 56 Loss: 0.5472290008814122 Accuracy: 0.7190456438858897 Val Loss: 0.5467926175189968 Val Accuracy: 0.6822687224669635\n",
            "Epoch: 57 Loss: 0.5466635306485462 Accuracy: 0.7200587757695395 Val Loss: 0.5805862446844844 Val Accuracy: 0.6554584251101342\n",
            "Epoch: 58 Loss: 0.5461782119227683 Accuracy: 0.7205062129341813 Val Loss: 0.5669568680587846 Val Accuracy: 0.6648540748898709\n",
            "Epoch: 59 Loss: 0.5456066127131137 Accuracy: 0.7203252965263897 Val Loss: 0.5674420643089098 Val Accuracy: 0.6653014867841442\n",
            "Epoch: 60 Loss: 0.5450971078835646 Accuracy: 0.7207674385766539 Val Loss: 0.5639568699876643 Val Accuracy: 0.6687087004405311\n",
            "Epoch: 61 Loss: 0.544519704905178 Accuracy: 0.7214610985597117 Val Loss: 0.5647079951174986 Val Accuracy: 0.6667125550660825\n",
            "Epoch: 62 Loss: 0.5439751787025422 Accuracy: 0.7216393674103184 Val Loss: 0.5633425694861596 Val Accuracy: 0.66877753303965\n",
            "Epoch: 63 Loss: 0.5434256118423216 Accuracy: 0.7219508966393493 Val Loss: 0.5389710468473943 Val Accuracy: 0.6901844713656424\n",
            "Epoch: 64 Loss: 0.5428764637968901 Accuracy: 0.7225386543349164 Val Loss: 0.5734185451715532 Val Accuracy: 0.6627202643171836\n",
            "Epoch: 65 Loss: 0.542356545037719 Accuracy: 0.722865186388009 Val Loss: 0.5495966279034046 Val Accuracy: 0.6806855726872281\n",
            "Epoch: 66 Loss: 0.541806522052998 Accuracy: 0.7234132307257664 Val Loss: 0.5621243085761425 Val Accuracy: 0.6711178414096945\n",
            "Epoch: 67 Loss: 0.5412747938395278 Accuracy: 0.7238077167466641 Val Loss: 0.5609329807600788 Val Accuracy: 0.6715308370044083\n",
            "Epoch: 68 Loss: 0.5407145041861938 Accuracy: 0.7239480372775894 Val Loss: 0.5544422064058576 Val Accuracy: 0.6777257709251139\n",
            "Epoch: 69 Loss: 0.5402278107409759 Accuracy: 0.724306340016926 Val Loss: 0.5622345166453179 Val Accuracy: 0.6720470814978008\n",
            "Epoch: 70 Loss: 0.5397458777307157 Accuracy: 0.7247661324484415 Val Loss: 0.575159679491089 Val Accuracy: 0.6615845264317207\n",
            "Epoch: 71 Loss: 0.5391806259528282 Accuracy: 0.7251085498446591 Val Loss: 0.5651850946542978 Val Accuracy: 0.6700165198237912\n",
            "Epoch: 72 Loss: 0.5388362631559451 Accuracy: 0.7255595170855519 Val Loss: 0.5643797524043646 Val Accuracy: 0.669672356828197\n",
            "Epoch: 73 Loss: 0.5383701515935018 Accuracy: 0.7257333733408469 Val Loss: 0.5623394150434613 Val Accuracy: 0.670498348017624\n",
            "Epoch: 74 Loss: 0.5378006008158834 Accuracy: 0.725951355549263 Val Loss: 0.5746983225387623 Val Accuracy: 0.6605176211453768\n",
            "Epoch: 75 Loss: 0.5373497960157433 Accuracy: 0.7267676856819946 Val Loss: 0.5517206250439659 Val Accuracy: 0.6823719713656421\n",
            "Epoch: 76 Loss: 0.5368710391452781 Accuracy: 0.7270333239197783 Val Loss: 0.5508443148650787 Val Accuracy: 0.681373898678417\n",
            "Epoch: 77 Loss: 0.5364069503533969 Accuracy: 0.7271109855972713 Val Loss: 0.559716864960835 Val Accuracy: 0.6752133810572714\n",
            "Epoch: 78 Loss: 0.5359563190059736 Accuracy: 0.7273148475006909 Val Loss: 0.5626968392191473 Val Accuracy: 0.6724600770925137\n",
            "Epoch: 79 Loss: 0.5354444672330153 Accuracy: 0.7277472818412708 Val Loss: 0.5577927829804395 Val Accuracy: 0.6751445484581524\n",
            "Epoch: 80 Loss: 0.534921280814577 Accuracy: 0.7285936176221244 Val Loss: 0.563296342539367 Val Accuracy: 0.670429515418505\n",
            "Epoch: 81 Loss: 0.5344392440811256 Accuracy: 0.7288469005930361 Val Loss: 0.5681220592381144 Val Accuracy: 0.6686054515418532\n",
            "Epoch: 82 Loss: 0.5338882355914207 Accuracy: 0.7287242304433603 Val Loss: 0.5697732019004315 Val Accuracy: 0.667607378854628\n",
            "Epoch: 83 Loss: 0.5333129097869319 Accuracy: 0.7293331685964264 Val Loss: 0.5436307355958458 Val Accuracy: 0.6872935022026464\n",
            "Epoch: 84 Loss: 0.5328334871489117 Accuracy: 0.7300188859079193 Val Loss: 0.5549326612560758 Val Accuracy: 0.6800316629955978\n",
            "Epoch: 85 Loss: 0.5323166258420632 Accuracy: 0.7299721123976115 Val Loss: 0.5467873307576787 Val Accuracy: 0.6873623348017656\n",
            "Epoch: 86 Loss: 0.5317914281582237 Accuracy: 0.7305175091781808 Val Loss: 0.5737723840096975 Val Accuracy: 0.6650949889867864\n",
            "Epoch: 87 Loss: 0.5312808454962509 Accuracy: 0.7312173467946725 Val Loss: 0.5611839654162072 Val Accuracy: 0.6754542951541883\n",
            "Epoch: 88 Loss: 0.5307885398722688 Accuracy: 0.7315703544196369 Val Loss: 0.5661502937388317 Val Accuracy: 0.6721503303964791\n",
            "Epoch: 89 Loss: 0.5303273365696887 Accuracy: 0.7318915913583567 Val Loss: 0.5669004629624572 Val Accuracy: 0.6723224118942757\n",
            "Epoch: 90 Loss: 0.5297581670446532 Accuracy: 0.7320310293702179 Val Loss: 0.5540757085389503 Val Accuracy: 0.6803414096916335\n",
            "Epoch: 91 Loss: 0.52924693496811 Accuracy: 0.7321951779158271 Val Loss: 0.5642507292231802 Val Accuracy: 0.6733893171806191\n",
            "Epoch: 92 Loss: 0.5287291584244489 Accuracy: 0.7325164148545429 Val Loss: 0.5605949664956144 Val Accuracy: 0.6764179515418529\n",
            "Epoch: 93 Loss: 0.5282376525985163 Accuracy: 0.7333027393391511 Val Loss: 0.5667567062089102 Val Accuracy: 0.6695002753303991\n",
            "Epoch: 94 Loss: 0.5277140142385047 Accuracy: 0.7340519980231406 Val Loss: 0.5507486618825516 Val Accuracy: 0.6844713656387698\n",
            "Epoch: 95 Loss: 0.5271337048982506 Accuracy: 0.7338684340581578 Val Loss: 0.5505002272286605 Val Accuracy: 0.6829914647577128\n",
            "Epoch: 96 Loss: 0.5266873796202982 Accuracy: 0.7346053374752737 Val Loss: 0.5414256783702825 Val Accuracy: 0.69097604625551\n",
            "Epoch: 97 Loss: 0.5261457176388254 Accuracy: 0.7348392050268138 Val Loss: 0.5334808378755254 Val Accuracy: 0.697411894273131\n",
            "Epoch: 98 Loss: 0.5256485762703195 Accuracy: 0.7351013131883467 Val Loss: 0.5505959121141142 Val Accuracy: 0.6857447687224705\n",
            "Epoch: 99 Loss: 0.5250928808541252 Accuracy: 0.7350563047161641 Val Loss: 0.5341778369333252 Val Accuracy: 0.6980313876652016\n",
            "Epoch: 100 Loss: 0.5245989592642268 Accuracy: 0.7362053445354232 Val Loss: 0.5513188315120563 Val Accuracy: 0.6830947136563909\n"
          ],
          "name": "stdout"
        }
      ]
    },
    {
      "cell_type": "code",
      "metadata": {
        "colab": {
          "base_uri": "https://localhost:8080/",
          "height": 312
        },
        "id": "CtyhJrb_6Atu",
        "outputId": "4e8dfaa2-b798-420b-e556-f39ec5f23a6c"
      },
      "source": [
        "plt.plot(losses,'r',label='train')\n",
        "plt.plot(val_losses,'b',label='val')\n",
        "plt.legend()\n",
        "plt.title('Loss vs Epochs')\n",
        "plt.xlabel('Epochs')\n",
        "plt.ylabel('loss')"
      ],
      "execution_count": 89,
      "outputs": [
        {
          "output_type": "execute_result",
          "data": {
            "text/plain": [
              "Text(0, 0.5, 'loss')"
            ]
          },
          "metadata": {
            "tags": []
          },
          "execution_count": 89
        },
        {
          "output_type": "display_data",
          "data": {
            "image/png": "[encoded data removed]",
            "text/plain": [
              "<Figure size 432x288 with 1 Axes>"
            ]
          },
          "metadata": {
            "tags": [],
            "needs_background": "light"
          }
        }
      ]
    },
    {
      "cell_type": "code",
      "metadata": {
        "colab": {
          "base_uri": "https://localhost:8080/",
          "height": 312
        },
        "id": "AzSuJ9x-7l8x",
        "outputId": "04fef46b-4539-49c7-e40b-fa2c2c629f81"
      },
      "source": [
        "plt.plot(accuracy,'r',label='train')\n",
        "plt.plot(val_accuracy,'b',label='val')\n",
        "plt.legend()\n",
        "plt.title('Accuracy vs Epochs')\n",
        "plt.xlabel('Accuracy')\n",
        "plt.ylabel('loss')"
      ],
      "execution_count": 90,
      "outputs": [
        {
          "output_type": "execute_result",
          "data": {
            "text/plain": [
              "Text(0, 0.5, 'loss')"
            ]
          },
          "metadata": {
            "tags": []
          },
          "execution_count": 90
        },
        {
          "output_type": "display_data",
          "data": {
            "image/png": "[encoded data removed]",
            "text/plain": [
              "<Figure size 432x288 with 1 Axes>"
            ]
          },
          "metadata": {
            "tags": [],
            "needs_background": "light"
          }
        }
      ]
    },
    {
      "cell_type": "code",
      "metadata": {
        "id": "bhkcr8esml5p"
      },
      "source": [
        ""
      ],
      "execution_count": 90,
      "outputs": []
    },
    {
      "cell_type": "code",
      "metadata": {
        "id": "C6yL3SPrmmN_"
      },
      "source": [
        "model.eval()\n",
        "preds_train = []\n",
        "with torch.no_grad():\n",
        "   for i,data in enumerate(train_loader):\n",
        "     trainx,trainy = data\n",
        "     y_hat = model.forward(trainx)\n",
        "     preds_train.append(y_hat)"
      ],
      "execution_count": 91,
      "outputs": []
    },
    {
      "cell_type": "code",
      "metadata": {
        "colab": {
          "base_uri": "https://localhost:8080/"
        },
        "id": "6jflFkP_mmOA",
        "outputId": "c52f8e7d-5df6-40e6-b35f-1876f83539d6"
      },
      "source": [
        "preds_train = np.array(preds_train)\n",
        "preds_train"
      ],
      "execution_count": 92,
      "outputs": [
        {
          "output_type": "execute_result",
          "data": {
            "text/plain": [
              "array([0.390394  , 0.02049743, 0.5286685 , ..., 0.7377672 , 0.20417993,\n",
              "       0.42468458], dtype=float32)"
            ]
          },
          "metadata": {
            "tags": []
          },
          "execution_count": 92
        }
      ]
    },
    {
      "cell_type": "code",
      "metadata": {
        "id": "VafrbPmbhNxa"
      },
      "source": [
        "def best_f1(preds,y_test_np):\n",
        "  f1_max = 0\n",
        "  cutoff = -1\n",
        "  for i in np.arange(0.01,1,0.01):\n",
        "    preds1 = (preds>=i)*1 \n",
        "    #print(sum(preds1))\n",
        "    f1_score = sklearn.metrics.precision_recall_fscore_support(preds1,y_test_np)[2][1]\n",
        "    print(f1_score)\n",
        "    if (not f1_score):\n",
        "      break\n",
        "    if (f1_score > f1_max):\n",
        "      f1_max = f1_score\n",
        "      cutoff = i\n",
        "  return cutoff,f1_max"
      ],
      "execution_count": 93,
      "outputs": []
    },
    {
      "cell_type": "code",
      "metadata": {
        "id": "eMWeHhaOnJov",
        "colab": {
          "base_uri": "https://localhost:8080/"
        },
        "outputId": "94f7d946-e235-4c17-db26-c892f2ae273c"
      },
      "source": [
        "train_cutoff,train_f1 = best_f1(preds_train,y_train_np)"
      ],
      "execution_count": 94,
      "outputs": [
        {
          "output_type": "stream",
          "text": [
            "0.6686732766761095\n",
            "0.6722619270124098\n",
            "0.6766325774772407\n",
            "0.6809344140956439\n",
            "0.6856961066505075\n",
            "0.6900505223079175\n",
            "0.6942632516430194\n",
            "0.6986399206027759\n",
            "0.7026707376663959\n",
            "0.7066559321343655\n",
            "0.7105390905250948\n",
            "0.7144560962767003\n",
            "0.7181147412749952\n",
            "0.7214270338348642\n",
            "0.7246613044589119\n",
            "0.7281368635755902\n",
            "0.7310525936646605\n",
            "0.7334526646822062\n",
            "0.7360977049811098\n",
            "0.7390610817448876\n",
            "0.7412843543449698\n",
            "0.7436379498069237\n",
            "0.7456036158069029\n",
            "0.7482623790513104\n",
            "0.7505894031517558\n",
            "0.7525359050856865\n",
            "0.7543777546501638\n",
            "0.7557957586263885\n",
            "0.7573690526338146\n",
            "0.7590132692136433\n",
            "0.7596201468593209\n",
            "0.7599960952046944\n",
            "0.7616867662792306\n",
            "0.7625392309271698\n",
            "0.7628247293152507\n",
            "0.7630959300159461\n",
            "0.7634566862910008\n",
            "0.7621515347811758\n",
            "0.7617374164887258\n",
            "0.7618816608143905\n",
            "0.7615088744765165\n",
            "0.7604620203602191\n",
            "0.7602016843884122\n",
            "0.7600829812734677\n",
            "0.7572392035668871\n",
            "0.7558462437883658\n",
            "0.7544758604588293\n",
            "0.7539232412023974\n",
            "0.7518743663452673\n",
            "0.7489667504512558\n",
            "0.7455995634732864\n",
            "0.7417103192567204\n",
            "0.7394472000731608\n",
            "0.7346829061938167\n",
            "0.731062631447617\n",
            "0.7260407456195751\n",
            "0.7207776782940779\n",
            "0.7139603566237396\n",
            "0.708441707555968\n",
            "0.698298981103495\n",
            "0.6906337139902283\n",
            "0.6812185034922442\n",
            "0.6702016542142484\n",
            "0.6546241299777518\n",
            "0.6423636722524076\n",
            "0.6297850275924466\n",
            "0.611785461098454\n",
            "0.5945653015406054\n",
            "0.5758691900760984\n",
            "0.5568429890848027\n",
            "0.5333380831938063\n",
            "0.5072938882456889\n",
            "0.4852231021827313\n",
            "0.46450972658685225\n",
            "0.4410232394778435\n",
            "0.41909363633950136\n",
            "0.39405239748318505\n",
            "0.37162050091225746\n",
            "0.3481427223169134\n",
            "0.3257394858556523\n",
            "0.3010862657150579\n",
            "0.2769573946018291\n",
            "0.2573745144624203\n",
            "0.23730913986720112\n",
            "0.2115233447741795\n",
            "0.18770554009612953\n",
            "0.16494746129782625\n",
            "0.13989704828305208\n",
            "0.11595304380870557\n",
            "0.09786775575655833\n",
            "0.08261481537670569\n",
            "0.06685668098864167\n",
            "0.05239051000977819\n",
            "0.03858420847919097\n",
            "0.0266388272652138\n",
            "0.016412230436113905\n",
            "0.009500728798974413\n",
            "0.004630974705721807\n",
            "0.001305321832389621\n"
          ],
          "name": "stdout"
        }
      ]
    },
    {
      "cell_type": "code",
      "metadata": {
        "colab": {
          "base_uri": "https://localhost:8080/"
        },
        "id": "cr7o6G_SnW_O",
        "outputId": "64d8c03c-3c85-4396-b68d-67f4de3e5717"
      },
      "source": [
        "train_cutoff,train_f1"
      ],
      "execution_count": 95,
      "outputs": [
        {
          "output_type": "execute_result",
          "data": {
            "text/plain": [
              "(0.37, 0.7634566862910008)"
            ]
          },
          "metadata": {
            "tags": []
          },
          "execution_count": 95
        }
      ]
    },
    {
      "cell_type": "code",
      "metadata": {
        "id": "4zhpl5OcnjEL"
      },
      "source": [
        "preds_train_ideal = (preds_train>=train_cutoff)*1"
      ],
      "execution_count": 96,
      "outputs": []
    },
    {
      "cell_type": "code",
      "metadata": {
        "colab": {
          "base_uri": "https://localhost:8080/"
        },
        "id": "DPP81ye5njEN",
        "outputId": "457da26a-22d0-4d26-b02e-d5f1bfe6d8eb"
      },
      "source": [
        "print(classification_report(preds_train_ideal,y_train_np))"
      ],
      "execution_count": 97,
      "outputs": [
        {
          "output_type": "stream",
          "text": [
            "              precision    recall  f1-score   support\n",
            "\n",
            "           0       0.55      0.84      0.66     73564\n",
            "           1       0.90      0.66      0.76    153036\n",
            "\n",
            "    accuracy                           0.72    226600\n",
            "   macro avg       0.72      0.75      0.71    226600\n",
            "weighted avg       0.78      0.72      0.73    226600\n",
            "\n"
          ],
          "name": "stdout"
        }
      ]
    },
    {
      "cell_type": "code",
      "metadata": {
        "id": "bMJzTRaDnXEr"
      },
      "source": [
        ""
      ],
      "execution_count": 97,
      "outputs": []
    },
    {
      "cell_type": "code",
      "metadata": {
        "id": "PzEK_zwEZXZT"
      },
      "source": [
        "model.eval()\n",
        "preds = []\n",
        "with torch.no_grad():\n",
        "   for i,data in enumerate(test_loader):\n",
        "     test_x,test_y = data\n",
        "     y_hat = model.forward(test_x)\n",
        "     preds.append(y_hat)"
      ],
      "execution_count": 98,
      "outputs": []
    },
    {
      "cell_type": "code",
      "metadata": {
        "colab": {
          "base_uri": "https://localhost:8080/"
        },
        "id": "n7RGgiWSGYe0",
        "outputId": "d0bca6f5-ce1e-416a-a935-7800d456885c"
      },
      "source": [
        "np.array(preds)"
      ],
      "execution_count": 99,
      "outputs": [
        {
          "output_type": "execute_result",
          "data": {
            "text/plain": [
              "array([0.03406788, 0.1822631 , 0.84227943, ..., 0.37760302, 0.71518785,\n",
              "       0.75600237], dtype=float32)"
            ]
          },
          "metadata": {
            "tags": []
          },
          "execution_count": 99
        }
      ]
    },
    {
      "cell_type": "code",
      "metadata": {
        "id": "vLacuU0ECiF2"
      },
      "source": [
        "preds = np.array(preds)\n",
        "# preds[preds>=0.5] = 1\n",
        "# preds[preds<=0.5] = 0\n"
      ],
      "execution_count": 100,
      "outputs": []
    },
    {
      "cell_type": "code",
      "metadata": {
        "colab": {
          "base_uri": "https://localhost:8080/"
        },
        "id": "FUgPQ-cpiV_z",
        "outputId": "53f74690-5ef2-47a7-abe5-8f0dffa76120"
      },
      "source": [
        "np.unique(preds)"
      ],
      "execution_count": 101,
      "outputs": [
        {
          "output_type": "execute_result",
          "data": {
            "text/plain": [
              "array([3.8132821e-06, 8.7150893e-06, 4.2071879e-05, ..., 9.9256295e-01,\n",
              "       9.9476200e-01, 9.9559033e-01], dtype=float32)"
            ]
          },
          "metadata": {
            "tags": []
          },
          "execution_count": 101
        }
      ]
    },
    {
      "cell_type": "code",
      "metadata": {
        "id": "f5XnvDV-jz8R"
      },
      "source": [
        "preds_dummy = (preds>=0.5)*1"
      ],
      "execution_count": 102,
      "outputs": []
    },
    {
      "cell_type": "code",
      "metadata": {
        "colab": {
          "base_uri": "https://localhost:8080/"
        },
        "id": "5L8P-jT4jyRw",
        "outputId": "3ec035d7-98d0-4122-ffd7-347bfa4188f3"
      },
      "source": [
        "sklearn.metrics.precision_recall_fscore_support(preds_dummy,y_test_np)"
      ],
      "execution_count": 103,
      "outputs": [
        {
          "output_type": "execute_result",
          "data": {
            "text/plain": [
              "(array([0.68197031, 0.71031746]),\n",
              " array([0.97716847, 0.1094132 ]),\n",
              " array([0.80330819, 0.18961864]),\n",
              " array([19184,  9816]))"
            ]
          },
          "metadata": {
            "tags": []
          },
          "execution_count": 103
        }
      ]
    },
    {
      "cell_type": "code",
      "metadata": {
        "colab": {
          "base_uri": "https://localhost:8080/"
        },
        "id": "SzIBq2WNkVdS",
        "outputId": "27601ab1-157e-4a6d-f3dd-a44f68c5f87c"
      },
      "source": [
        "sklearn.metrics.precision_recall_fscore_support(preds_dummy,y_test_np)[2][1]"
      ],
      "execution_count": 104,
      "outputs": [
        {
          "output_type": "execute_result",
          "data": {
            "text/plain": [
              "0.1896186440677966"
            ]
          },
          "metadata": {
            "tags": []
          },
          "execution_count": 104
        }
      ]
    },
    {
      "cell_type": "code",
      "metadata": {
        "colab": {
          "base_uri": "https://localhost:8080/"
        },
        "id": "4i0-9eJhjKhP",
        "outputId": "4cf93770-d2e3-4fbb-eb9e-706f1449850c"
      },
      "source": [
        "np.arange(0.01,1,0.01)"
      ],
      "execution_count": 105,
      "outputs": [
        {
          "output_type": "execute_result",
          "data": {
            "text/plain": [
              "array([0.01, 0.02, 0.03, 0.04, 0.05, 0.06, 0.07, 0.08, 0.09, 0.1 , 0.11,\n",
              "       0.12, 0.13, 0.14, 0.15, 0.16, 0.17, 0.18, 0.19, 0.2 , 0.21, 0.22,\n",
              "       0.23, 0.24, 0.25, 0.26, 0.27, 0.28, 0.29, 0.3 , 0.31, 0.32, 0.33,\n",
              "       0.34, 0.35, 0.36, 0.37, 0.38, 0.39, 0.4 , 0.41, 0.42, 0.43, 0.44,\n",
              "       0.45, 0.46, 0.47, 0.48, 0.49, 0.5 , 0.51, 0.52, 0.53, 0.54, 0.55,\n",
              "       0.56, 0.57, 0.58, 0.59, 0.6 , 0.61, 0.62, 0.63, 0.64, 0.65, 0.66,\n",
              "       0.67, 0.68, 0.69, 0.7 , 0.71, 0.72, 0.73, 0.74, 0.75, 0.76, 0.77,\n",
              "       0.78, 0.79, 0.8 , 0.81, 0.82, 0.83, 0.84, 0.85, 0.86, 0.87, 0.88,\n",
              "       0.89, 0.9 , 0.91, 0.92, 0.93, 0.94, 0.95, 0.96, 0.97, 0.98, 0.99])"
            ]
          },
          "metadata": {
            "tags": []
          },
          "execution_count": 105
        }
      ]
    },
    {
      "cell_type": "code",
      "metadata": {
        "id": "xPgbAh5RmW7O",
        "colab": {
          "base_uri": "https://localhost:8080/"
        },
        "outputId": "1123c996-5bbc-4f9c-c7c9-8c8f8636dc0f"
      },
      "source": [
        "cutoff,f1_max = best_f1(preds,y_test_np)"
      ],
      "execution_count": 106,
      "outputs": [
        {
          "output_type": "stream",
          "text": [
            "0.0997918250008261\n",
            "0.10106971597196608\n",
            "0.10304273504273503\n",
            "0.10480775940269345\n",
            "0.10620097256238242\n",
            "0.10824518185770178\n",
            "0.11004024962150585\n",
            "0.1119186593861796\n",
            "0.1137000499021151\n",
            "0.11539213768824565\n",
            "0.1171498066111089\n",
            "0.11900113876687815\n",
            "0.12046396023198011\n",
            "0.1221187476296827\n",
            "0.12405498281786942\n",
            "0.1261158760721162\n",
            "0.1274907502340302\n",
            "0.12948921679909192\n",
            "0.13135514882603067\n",
            "0.13320163679977423\n",
            "0.13530736428537207\n",
            "0.1367496339677892\n",
            "0.13840727308857867\n",
            "0.1402157945392837\n",
            "0.1419874109998968\n",
            "0.14367484114897863\n",
            "0.14475722450723782\n",
            "0.14602587800369687\n",
            "0.1480374245695621\n",
            "0.1501721899170101\n",
            "0.1522550991094513\n",
            "0.15387313650979245\n",
            "0.15557280162378365\n",
            "0.15753883643009442\n",
            "0.1591643869684158\n",
            "0.1609122584732341\n",
            "0.164238067482676\n",
            "0.16570710078750578\n",
            "0.16797403299972952\n",
            "0.16992200980053832\n",
            "0.1730714891212207\n",
            "0.17488789237668162\n",
            "0.17583555161194914\n",
            "0.17733393856861854\n",
            "0.18001395457012173\n",
            "0.18190468638490206\n",
            "0.18382591750568367\n",
            "0.18617865797610092\n",
            "0.18793443748390973\n",
            "0.1896186440677966\n",
            "0.1924367461684955\n",
            "0.19403682587157675\n",
            "0.19644059644059642\n",
            "0.19866891824774016\n",
            "0.20112647209421403\n",
            "0.20315310549148236\n",
            "0.20694946837663047\n",
            "0.20816744397679443\n",
            "0.20949917705149304\n",
            "0.21092508859831358\n",
            "0.21220562167637375\n",
            "0.21434220933298181\n",
            "0.21556227660159474\n",
            "0.21484992101105846\n",
            "0.21516701775504063\n",
            "0.21765264156912367\n",
            "0.22188755020080322\n",
            "0.22329403358342265\n",
            "0.22036156041864888\n",
            "0.21727695731337243\n",
            "0.22039045553145334\n",
            "0.22377622377622375\n",
            "0.22585513078470826\n",
            "0.22400427693130176\n",
            "0.22310756972111556\n",
            "0.2205483579391383\n",
            "0.21392081736909324\n",
            "0.2072714916751614\n",
            "0.20503597122302158\n",
            "0.20666161998485996\n",
            "0.19385719984044678\n",
            "0.18105263157894738\n",
            "0.17557583659278575\n",
            "0.1630979498861048\n",
            "0.14983404457088667\n",
            "0.14391325776244454\n",
            "0.12724474089276552\n",
            "0.11358811040339703\n",
            "0.10335349092908193\n",
            "0.09168081494057725\n",
            "0.08284714119019836\n",
            "0.06096832038254632\n",
            "0.04910988336402701\n",
            "0.042473454091193005\n",
            "0.034198860037998734\n",
            "0.028205128205128206\n",
            "0.01815823605706874\n",
            "0.009180327868852457\n",
            "0.0013201320132013201\n"
          ],
          "name": "stdout"
        }
      ]
    },
    {
      "cell_type": "code",
      "metadata": {
        "colab": {
          "base_uri": "https://localhost:8080/"
        },
        "id": "KhGhKEO-myMF",
        "outputId": "a581e4c9-f4e6-42d5-c0d8-7730762a51d9"
      },
      "source": [
        "print(cutoff,f1_max)"
      ],
      "execution_count": 107,
      "outputs": [
        {
          "output_type": "stream",
          "text": [
            "0.73 0.22585513078470826\n"
          ],
          "name": "stdout"
        }
      ]
    },
    {
      "cell_type": "code",
      "metadata": {
        "id": "52FCW9zcoN6o"
      },
      "source": [
        "preds_ideal = (preds>=cutoff)*1"
      ],
      "execution_count": 108,
      "outputs": []
    },
    {
      "cell_type": "code",
      "metadata": {
        "id": "YUnzaot8GB2W",
        "colab": {
          "base_uri": "https://localhost:8080/"
        },
        "outputId": "d2cfbdf9-9a5a-454a-cac3-84f05e836b1b"
      },
      "source": [
        "print(classification_report(preds_ideal,y_test_np))"
      ],
      "execution_count": 109,
      "outputs": [
        {
          "output_type": "stream",
          "text": [
            "              precision    recall  f1-score   support\n",
            "\n",
            "           0       0.93      0.96      0.94     26536\n",
            "           1       0.30      0.18      0.23      2464\n",
            "\n",
            "    accuracy                           0.89     29000\n",
            "   macro avg       0.61      0.57      0.58     29000\n",
            "weighted avg       0.87      0.89      0.88     29000\n",
            "\n"
          ],
          "name": "stdout"
        }
      ]
    },
    {
      "cell_type": "code",
      "metadata": {
        "id": "8BooV-hSKu8n"
      },
      "source": [
        ""
      ],
      "execution_count": null,
      "outputs": []
    }
  ]
}