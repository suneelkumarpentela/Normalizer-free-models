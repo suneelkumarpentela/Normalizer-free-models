{
  "nbformat": 4,
  "nbformat_minor": 0,
  "metadata": {
    "colab": {
      "name": "NF_pytorch.ipynb",
      "provenance": [],
      "authorship_tag": "ABX9TyMeGKUp8bydLlWH2GPAVGph",
      "include_colab_link": true
    },
    "kernelspec": {
      "name": "python3",
      "display_name": "Python 3"
    },
    "language_info": {
      "name": "python"
    }
  },
  "cells": [
    {
      "cell_type": "markdown",
      "metadata": {
        "id": "view-in-github",
        "colab_type": "text"
      },
      "source": [
        "<a href=\"https://colab.research.google.com/github/suneelkumarpentela/Normalizer-free-models/blob/master/NF_pytorch.ipynb\" target=\"_parent\"><img src=\"https://colab.research.google.com/assets/colab-badge.svg\" alt=\"Open In Colab\"/></a>"
      ]
    },
    {
      "cell_type": "code",
      "metadata": {
        "id": "WXlHXCmtSxao"
      },
      "source": [
        "import torch\n",
        "import torch.nn as nn\n",
        "from torch.utils.data import DataLoader, TensorDataset\n",
        "import torch.nn.functional as F\n",
        "import matplotlib.pyplot as plt\n",
        "import pandas as pd\n",
        "import os\n",
        "import numpy as np\n",
        "import sklearn\n",
        "from sklearn.metrics import classification_report, confusion_matrix,precision_recall_fscore_support"
      ],
      "execution_count": 112,
      "outputs": []
    },
    {
      "cell_type": "code",
      "metadata": {
        "id": "wW10KB-QR7z8",
        "colab": {
          "base_uri": "https://localhost:8080/",
          "height": 35
        },
        "outputId": "30a15017-a2ae-49fc-8e62-d65d19c9faa8"
      },
      "source": [
        "os.getcwd()"
      ],
      "execution_count": 113,
      "outputs": [
        {
          "output_type": "execute_result",
          "data": {
            "application/vnd.google.colaboratory.intrinsic+json": {
              "type": "string"
            },
            "text/plain": [
              "'/content/drive/My Drive/Colab Notebooks/Mathlogic/nfnets_pytorch'"
            ]
          },
          "metadata": {
            "tags": []
          },
          "execution_count": 113
        }
      ]
    },
    {
      "cell_type": "code",
      "metadata": {
        "colab": {
          "base_uri": "https://localhost:8080/"
        },
        "id": "maPOG8dQTKMT",
        "outputId": "58f12983-0a07-4e95-a1c1-c3cdba812e01"
      },
      "source": [
        "from google.colab import drive\n",
        "drive.mount('/content/drive')"
      ],
      "execution_count": 114,
      "outputs": [
        {
          "output_type": "stream",
          "text": [
            "Drive already mounted at /content/drive; to attempt to forcibly remount, call drive.mount(\"/content/drive\", force_remount=True).\n"
          ],
          "name": "stdout"
        }
      ]
    },
    {
      "cell_type": "code",
      "metadata": {
        "id": "WS8zd5uTTtli"
      },
      "source": [
        "os.chdir(\"/content/drive/MyDrive/Colab Notebooks/Mathlogic\")"
      ],
      "execution_count": 115,
      "outputs": []
    },
    {
      "cell_type": "code",
      "metadata": {
        "colab": {
          "base_uri": "https://localhost:8080/"
        },
        "id": "oPUzZeJzTb5K",
        "outputId": "b2c847ab-55b3-408c-9456-ed4c5ca19f8c"
      },
      "source": [
        "train = pd.read_csv(\"./Data/train.csv\")\n",
        "print(train.shape)"
      ],
      "execution_count": 116,
      "outputs": [
        {
          "output_type": "stream",
          "text": [
            "(90000, 95)\n"
          ],
          "name": "stdout"
        }
      ]
    },
    {
      "cell_type": "code",
      "metadata": {
        "id": "AP_Z-Cp1Tf1z"
      },
      "source": [
        "train['target_new'] = np.where(train['target']==0,0,1)\n",
        "train.drop(['target'],axis=1,inplace=True)"
      ],
      "execution_count": 117,
      "outputs": []
    },
    {
      "cell_type": "code",
      "metadata": {
        "colab": {
          "base_uri": "https://localhost:8080/"
        },
        "id": "Y0EcvGb4Tf4J",
        "outputId": "7f3fce2c-e220-4111-d252-54b151f9ee07"
      },
      "source": [
        "val = pd.read_csv(\"./Data/valid.csv\")\n",
        "print(val.shape)\n",
        "val['target_new'] = np.where(val['target']==0,0,1)\n",
        "val.drop('target',axis=1,inplace=True)"
      ],
      "execution_count": 118,
      "outputs": [
        {
          "output_type": "stream",
          "text": [
            "(29000, 95)\n"
          ],
          "name": "stdout"
        }
      ]
    },
    {
      "cell_type": "code",
      "metadata": {
        "colab": {
          "base_uri": "https://localhost:8080/"
        },
        "id": "uhRkdSRoTf7Y",
        "outputId": "0843503c-ffac-4c05-e0d9-47ff6ea4969a"
      },
      "source": [
        "test = pd.read_csv(\"./Data/test.csv\")\n",
        "print(test.shape)\n",
        "test['target_new'] = np.where(test['target']==0,0,1)\n",
        "test.drop('target',axis=1,inplace=True)"
      ],
      "execution_count": 119,
      "outputs": [
        {
          "output_type": "stream",
          "text": [
            "(29580, 95)\n"
          ],
          "name": "stdout"
        }
      ]
    },
    {
      "cell_type": "code",
      "metadata": {
        "id": "CGffhGuxWqMk"
      },
      "source": [
        "frames = [train,test]\n",
        "X = pd.concat(frames)"
      ],
      "execution_count": 120,
      "outputs": []
    },
    {
      "cell_type": "code",
      "metadata": {
        "colab": {
          "base_uri": "https://localhost:8080/"
        },
        "id": "A6zP0gSdTf-m",
        "outputId": "12e94243-a70f-4e15-83f3-17db6f103001"
      },
      "source": [
        "X_train = X.drop('target_new',axis=1)\n",
        "y_train = np.array([X['target_new']]).reshape(-1,1)\n",
        "X_train.shape"
      ],
      "execution_count": 121,
      "outputs": [
        {
          "output_type": "execute_result",
          "data": {
            "text/plain": [
              "(119580, 94)"
            ]
          },
          "metadata": {
            "tags": []
          },
          "execution_count": 121
        }
      ]
    },
    {
      "cell_type": "code",
      "metadata": {
        "colab": {
          "base_uri": "https://localhost:8080/"
        },
        "id": "clSYNWxLTgBF",
        "outputId": "c643b087-e4bb-43ee-ee46-1dad03b78b72"
      },
      "source": [
        "X_test = val.drop('target_new',axis=1)\n",
        "y_test = np.array([val['target_new']]).reshape(-1,1)\n",
        "X_test.shape"
      ],
      "execution_count": 122,
      "outputs": [
        {
          "output_type": "execute_result",
          "data": {
            "text/plain": [
              "(29000, 94)"
            ]
          },
          "metadata": {
            "tags": []
          },
          "execution_count": 122
        }
      ]
    },
    {
      "cell_type": "code",
      "metadata": {
        "id": "_3JJvRaaaXPF"
      },
      "source": [
        "a = y_test.flatten()"
      ],
      "execution_count": 123,
      "outputs": []
    },
    {
      "cell_type": "code",
      "metadata": {
        "id": "X1uK6JYYaxrQ"
      },
      "source": [
        "from collections import Counter"
      ],
      "execution_count": 124,
      "outputs": []
    },
    {
      "cell_type": "code",
      "metadata": {
        "colab": {
          "base_uri": "https://localhost:8080/"
        },
        "id": "79XQUzBKa1jC",
        "outputId": "3db590f3-449a-4518-81db-c760697d5de4"
      },
      "source": [
        "Counter(y_test.flatten())"
      ],
      "execution_count": 125,
      "outputs": [
        {
          "output_type": "execute_result",
          "data": {
            "text/plain": [
              "Counter({0: 27488, 1: 1512})"
            ]
          },
          "metadata": {
            "tags": []
          },
          "execution_count": 125
        }
      ]
    },
    {
      "cell_type": "code",
      "metadata": {
        "colab": {
          "base_uri": "https://localhost:8080/"
        },
        "id": "247ITGH6a1mS",
        "outputId": "d836f8a1-2943-45fa-e5da-e6d174bf16fc"
      },
      "source": [
        "Counter(y_train.flatten())"
      ],
      "execution_count": 126,
      "outputs": [
        {
          "output_type": "execute_result",
          "data": {
            "text/plain": [
              "Counter({0: 113300, 1: 6280})"
            ]
          },
          "metadata": {
            "tags": []
          },
          "execution_count": 126
        }
      ]
    },
    {
      "cell_type": "code",
      "metadata": {
        "colab": {
          "base_uri": "https://localhost:8080/"
        },
        "id": "M3kEObXVbLm-",
        "outputId": "490e48cd-df83-4e95-b136-38464bc45ade"
      },
      "source": [
        "6280/(6280+113300)"
      ],
      "execution_count": 127,
      "outputs": [
        {
          "output_type": "execute_result",
          "data": {
            "text/plain": [
              "0.05251714333500585"
            ]
          },
          "metadata": {
            "tags": []
          },
          "execution_count": 127
        }
      ]
    },
    {
      "cell_type": "code",
      "metadata": {
        "colab": {
          "base_uri": "https://localhost:8080/"
        },
        "id": "xINXH2CKasrd",
        "outputId": "f578adfa-e46c-403b-bb2d-8617e70adca0"
      },
      "source": [
        "y_test.shape"
      ],
      "execution_count": 128,
      "outputs": [
        {
          "output_type": "execute_result",
          "data": {
            "text/plain": [
              "(29000, 1)"
            ]
          },
          "metadata": {
            "tags": []
          },
          "execution_count": 128
        }
      ]
    },
    {
      "cell_type": "code",
      "metadata": {
        "id": "KKBnt4FwVaFs"
      },
      "source": [
        "from sklearn.preprocessing import StandardScaler\n",
        "\n",
        "scaler = StandardScaler().fit(X_train)\n",
        "\n",
        "X_train_np = scaler.transform(X_train)\n",
        "\n",
        "X_test_np = scaler.transform(X_test)"
      ],
      "execution_count": 129,
      "outputs": []
    },
    {
      "cell_type": "code",
      "metadata": {
        "id": "1jRp6fiDZFPk"
      },
      "source": [
        "y_train_np = y_train\n",
        "y_test_np = y_test"
      ],
      "execution_count": 130,
      "outputs": []
    },
    {
      "cell_type": "code",
      "metadata": {
        "id": "Rflwcjgg9Kf9"
      },
      "source": [
        "X_train = torch.FloatTensor(X_train_np)\n",
        "\n",
        "X_test = torch.FloatTensor(X_test_np)\n",
        "\n",
        "y_train = torch.FloatTensor(y_train_np)\n",
        "y_test = torch.FloatTensor(y_test_np)"
      ],
      "execution_count": 131,
      "outputs": []
    },
    {
      "cell_type": "code",
      "metadata": {
        "colab": {
          "base_uri": "https://localhost:8080/"
        },
        "id": "N5kGUJzdZwJn",
        "outputId": "75b5fb57-1090-4a51-e464-d1a2beaa583b"
      },
      "source": [
        "print(y_train.shape)"
      ],
      "execution_count": 132,
      "outputs": [
        {
          "output_type": "stream",
          "text": [
            "torch.Size([119580, 1])\n"
          ],
          "name": "stdout"
        }
      ]
    },
    {
      "cell_type": "code",
      "metadata": {
        "colab": {
          "base_uri": "https://localhost:8080/"
        },
        "id": "qC-bpytQrLwJ",
        "outputId": "41a1aef8-9da9-4943-d677-68e435010352"
      },
      "source": [
        "X_train_np.shape"
      ],
      "execution_count": 133,
      "outputs": [
        {
          "output_type": "execute_result",
          "data": {
            "text/plain": [
              "(119580, 94)"
            ]
          },
          "metadata": {
            "tags": []
          },
          "execution_count": 133
        }
      ]
    },
    {
      "cell_type": "code",
      "metadata": {
        "colab": {
          "base_uri": "https://localhost:8080/"
        },
        "id": "l18ZTOEWZ83z",
        "outputId": "115e523e-e69b-4c21-e9f3-769e68f08d0e"
      },
      "source": [
        "X_test_np.shape"
      ],
      "execution_count": 134,
      "outputs": [
        {
          "output_type": "execute_result",
          "data": {
            "text/plain": [
              "(29000, 94)"
            ]
          },
          "metadata": {
            "tags": []
          },
          "execution_count": 134
        }
      ]
    },
    {
      "cell_type": "code",
      "metadata": {
        "colab": {
          "base_uri": "https://localhost:8080/"
        },
        "id": "-g1AiaelrFZC",
        "outputId": "b07907c3-098c-41de-89bb-1e6ddbd351da"
      },
      "source": [
        "batch_size = 64\n",
        "num_train_batches = int(X_train_np.shape[0]/batch_size)+1\n",
        "num_test_batches = int(X_test_np.shape[0]/batch_size)+1\n",
        "train_data_size = X_train_np.shape[0]\n",
        "test_data_size = X_test_np.shape[0]\n",
        "print(\"Train :\",num_train_batches,train_data_size)\n",
        "print(\"Test :\",num_test_batches,test_data_size)"
      ],
      "execution_count": 135,
      "outputs": [
        {
          "output_type": "stream",
          "text": [
            "Train : 1869 119580\n",
            "Test : 454 29000\n"
          ],
          "name": "stdout"
        }
      ]
    },
    {
      "cell_type": "code",
      "metadata": {
        "id": "EuEI8aCuiSKY"
      },
      "source": [
        "train_dataset = TensorDataset(X_train,y_train)\n",
        "train_dataloader = DataLoader(train_dataset,batch_size=batch_size,shuffle=True)"
      ],
      "execution_count": 136,
      "outputs": []
    },
    {
      "cell_type": "code",
      "metadata": {
        "id": "eVWd9vjVR6VT"
      },
      "source": [
        "test_dataset = TensorDataset(X_test,y_test)\n",
        "test_dataloader = DataLoader(test_dataset,batch_size=batch_size,shuffle=True)"
      ],
      "execution_count": 137,
      "outputs": []
    },
    {
      "cell_type": "code",
      "metadata": {
        "id": "db0tP1mVC9No"
      },
      "source": [
        "train_loader = DataLoader(train_dataset)\n",
        "test_loader = DataLoader(test_dataset)"
      ],
      "execution_count": 138,
      "outputs": []
    },
    {
      "cell_type": "code",
      "metadata": {
        "id": "CNg-XMB0qJet"
      },
      "source": [
        "# dataiter = iter(train_dataloader)\n",
        "# images, labels = dataiter.next()\n",
        "# print(type(images))\n",
        "# print(images.shape)\n",
        "# print(labels.shape)"
      ],
      "execution_count": 139,
      "outputs": []
    },
    {
      "cell_type": "code",
      "metadata": {
        "id": "AX24qTTy_qPC"
      },
      "source": [
        "class WSLinear(nn.Linear):\n",
        "\n",
        "    def __init__(self, in_channels, out_channels,bias=True):\n",
        "        super().__init__(in_channels, out_channels,bias=bias)\n",
        "\n",
        "        nn.init.kaiming_normal_(self.weight)\n",
        "        self.gain = nn.Parameter(torch.ones(\n",
        "            self.weight.size()[0], requires_grad=True))\n",
        "\n",
        "    def standardize_weight(self, eps):\n",
        "        mean = torch.mean(self.weight, dim=(1), keepdims=True)\n",
        "        var = torch.std(self.weight, dim=(1), keepdims=True, unbiased=False) ** 2\n",
        "        fan_in = torch.prod(torch.tensor(self.weight.shape))\n",
        "\n",
        "        scale = torch.rsqrt(torch.max(\n",
        "            var * fan_in, torch.tensor(eps))) * self.gain.view_as(var)\n",
        "        shift = mean * scale\n",
        "        return self.weight * scale - shift\n",
        "\n",
        "    def forward(self, input, eps=1e-4):\n",
        "        weight = self.standardize_weight(eps)\n",
        "        return F.linear(input, weight, self.bias)"
      ],
      "execution_count": 140,
      "outputs": []
    },
    {
      "cell_type": "code",
      "metadata": {
        "id": "noHCjWpR6Vev"
      },
      "source": [
        "class nf_block(nn.Module):\n",
        "\n",
        "  def __init__(self,alpha=0.2,beta=1.0):\n",
        "    super().__init__()\n",
        "\n",
        "    self.nn1 = WSLinear(94,64)\n",
        "    self.nn2 = WSLinear(64,64)\n",
        "    self.nn3 = WSLinear(64,64)\n",
        "    self.nn4 = WSLinear(64,1)\n",
        "    self.relu1 = nn.ReLU()\n",
        "    self.relu2 = nn.ReLU()\n",
        "    self.relu3 = nn.ReLU()\n",
        "    self.sigmoid = nn.Sigmoid()\n",
        "    self.alpha = alpha #rate of change of variance at res bock\n",
        "    self.expected_std = 1.0\n",
        "    self.beta = 1.0\n",
        "    self.skip_gain1 = nn.Parameter(torch.zeros(()))\n",
        "    self.skip_gain2 = nn.Parameter(torch.zeros(()))\n",
        "\n",
        "  def forward(self,x):\n",
        "\n",
        "    x = self.nn1(x)\n",
        "    x = self.relu1(x)\n",
        "\n",
        "    shortcut1 = x\n",
        "\n",
        "    self.beta = 1/(self.expected_std)\n",
        "    out1 = x*self.beta\n",
        "\n",
        "    out1 = self.nn2(x)\n",
        "    out1 = shortcut1 + out1*self.alpha*self.skip_gain1\n",
        "\n",
        "    self.expected_std = (self.expected_std **2 + self.alpha**2)**0.5\n",
        "    out1 = self.relu2(out1)\n",
        "\n",
        "    shortcut2 = out1\n",
        "\n",
        "    self.beta = 1/(self.expected_std)\n",
        "    out2 = out1*self.beta\n",
        "\n",
        "    out2 = self.nn3(out1)\n",
        "    out2 += shortcut2 + out2*self.alpha*self.skip_gain2\n",
        "    \n",
        "    self.expected_std = (self.expected_std **2 + self.alpha**2)**0.5\n",
        "    out2 = self.relu3(out2)\n",
        "\n",
        "    out3 = self.nn4(out2)\n",
        "    out3 = self.sigmoid(out3)\n",
        "\n",
        "    return out3"
      ],
      "execution_count": 141,
      "outputs": []
    },
    {
      "cell_type": "code",
      "metadata": {
        "id": "IpsewlmNCsBh"
      },
      "source": [
        "# class feedforward_nfnet(nn.Module):\n",
        "\n",
        "#   def __init__(self,layers = [94,64,64,64,1],alpha=0.2,beta=1.0):\n",
        "#     super().__init__()\n",
        "\n",
        "#     self.layers = layers\n",
        "#     self.sigmoid = nn.Sigmoid()\n",
        "#     self.alpha = alpha #rate of change of variance at res bock\n",
        "#     self.expected_std = 1.0\n",
        "#     self.beta = 1.0\n",
        "\n",
        "#     self.first_nn = WSLinear(self.layers[0],self.layers[1])\n",
        "#     self.layer2 = \n",
        "#     self.last_nn = WSLinear(self.layers[-2],self.layers[-1])\n",
        "\n",
        "#   def _NF_block(self,in_units,out_units,input):\n",
        "\n",
        "#     nn = WSLinear(in_units,out_units)\n",
        "#     relu = nn.ReLU()\n",
        "#     sigmoid = nn.Sigmoid()\n",
        "#     skip_gain = nn.Parameter(torch.zeros(()))\n",
        "#     self.beta = 1/(self.expected_std)\n",
        "\n",
        "#     shortcut = input\n",
        "\n",
        "#     x = input*self.beta\n",
        "#     x = nn(x)\n",
        "#     out = shortcut + x*self.alpha*skip_gain\n",
        "\n",
        "#     self.expected_std = (self.expected_std **2 + self.alpha**2)**0.5\n",
        "#     out = relu(out)\n",
        "\n",
        "#     return out\n",
        "\n",
        "#   def forward(self,input):\n",
        "\n",
        "#     x = self.first_nn(input)\n",
        "#     x = nn.ReLU(x)\n",
        "\n",
        "#     #for i in range(len(self.layers)-3):\n",
        "#     # x = self._NF_block(self.layers[1],self.layers[2],x)\n",
        "#     # x = self._NF_block(self.layers[2],self.layers[3],x)\n",
        "\n",
        "#     out = self.last_nn(x)\n",
        "#     out = self.sigmoid(out)\n",
        "\n",
        "#     return out"
      ],
      "execution_count": 142,
      "outputs": []
    },
    {
      "cell_type": "code",
      "metadata": {
        "id": "KnQqey9Z-2kn"
      },
      "source": [
        "class nf_block(nn.Module):\n",
        "\n",
        "  def __init__(self,in_units,out_units,alpha,beta):\n",
        "    super().__init__()\n",
        "\n",
        "    self.nn = WSLinear(in_units,out_units)\n",
        "    self.relu = nn.ReLU()\n",
        "\n",
        "    self.alpha = alpha\n",
        "    self.beta = beta\n",
        "    self.skip_gain = nn.Parameter(torch.zeros(()))\n",
        "\n",
        "  def forward(self,input):\n",
        "\n",
        "    shortcut = input\n",
        "\n",
        "    x = input*self.beta\n",
        "    x = self.nn(x)\n",
        "    out = shortcut + x*self.alpha*self.skip_gain\n",
        "\n",
        "    out = self.relu(out)\n",
        "\n",
        "    return out"
      ],
      "execution_count": 143,
      "outputs": []
    },
    {
      "cell_type": "code",
      "metadata": {
        "id": "RY0iQKvTG17R"
      },
      "source": [
        ""
      ],
      "execution_count": 143,
      "outputs": []
    },
    {
      "cell_type": "code",
      "metadata": {
        "id": "VefpYW_c9PK_"
      },
      "source": [
        "class feedforward_nfnet(nn.Module):\n",
        "\n",
        "  def __init__(self,layers = [94,64,64,64,64,64,64,64,64,64,64,64,1],alpha=0.2,beta=1.0):\n",
        "    super().__init__()\n",
        "\n",
        "    self.layers = layers\n",
        "    #self.layers = [94,64,64,64,32,32,32,16,16,16,1]\n",
        "    self.relu = nn.ReLU()\n",
        "    self.sigmoid = nn.Sigmoid()\n",
        "    self.alpha = alpha #rate of change of variance at res bock\n",
        "    self.expected_std = 1.0\n",
        "    self.beta = 1.0\n",
        "\n",
        "    self.first_nn = WSLinear(self.layers[0],self.layers[1])\n",
        "\n",
        "    blocks = []\n",
        "\n",
        "    for i in range(len(self.layers)-3):\n",
        "      self.beta = 1/(self.expected_std)\n",
        "      blocks.append(nf_block(self.layers[i+1],self.layers[i+2],self.alpha,self.beta))\n",
        "      self.expected_std = (self.expected_std **2 + self.alpha**2)**0.5\n",
        "\n",
        "    self.body = nn.Sequential(*blocks)\n",
        "\n",
        "    self.last_nn = WSLinear(self.layers[-2],self.layers[-1])\n",
        "\n",
        "  def forward(self,input):\n",
        "\n",
        "    x = self.first_nn(input)\n",
        "    x = self.relu(x)\n",
        "\n",
        "    x = self.body(x)\n",
        "\n",
        "    out = self.last_nn(x)\n",
        "    out = self.sigmoid(out)\n",
        "\n",
        "    return out"
      ],
      "execution_count": 144,
      "outputs": []
    },
    {
      "cell_type": "code",
      "metadata": {
        "id": "qeqYoKhm6ecu"
      },
      "source": [
        "# model = nf_block()"
      ],
      "execution_count": 145,
      "outputs": []
    },
    {
      "cell_type": "code",
      "metadata": {
        "id": "3N3VAXM4jlxD"
      },
      "source": [
        "model = feedforward_nfnet()"
      ],
      "execution_count": 146,
      "outputs": []
    },
    {
      "cell_type": "code",
      "metadata": {
        "colab": {
          "base_uri": "https://localhost:8080/"
        },
        "id": "HEZEGX0PiH3b",
        "outputId": "7882e8f3-4f13-4b6b-e176-51db56a79add"
      },
      "source": [
        "total_params = sum(p.numel() for p in model.parameters())\n",
        "total_params"
      ],
      "execution_count": 147,
      "outputs": [
        {
          "output_type": "execute_result",
          "data": {
            "text/plain": [
              "48460"
            ]
          },
          "metadata": {
            "tags": []
          },
          "execution_count": 147
        }
      ]
    },
    {
      "cell_type": "code",
      "metadata": {
        "colab": {
          "base_uri": "https://localhost:8080/"
        },
        "id": "87LEfcnJl0IS",
        "outputId": "65579e6f-6c2c-459f-8ec2-f95241a086ab"
      },
      "source": [
        "print(model.forward)"
      ],
      "execution_count": 148,
      "outputs": [
        {
          "output_type": "stream",
          "text": [
            "<bound method feedforward_nfnet.forward of feedforward_nfnet(\n",
            "  (relu): ReLU()\n",
            "  (sigmoid): Sigmoid()\n",
            "  (first_nn): WSLinear(in_features=94, out_features=64, bias=True)\n",
            "  (body): Sequential(\n",
            "    (0): nf_block(\n",
            "      (nn): WSLinear(in_features=64, out_features=64, bias=True)\n",
            "      (relu): ReLU()\n",
            "    )\n",
            "    (1): nf_block(\n",
            "      (nn): WSLinear(in_features=64, out_features=64, bias=True)\n",
            "      (relu): ReLU()\n",
            "    )\n",
            "    (2): nf_block(\n",
            "      (nn): WSLinear(in_features=64, out_features=64, bias=True)\n",
            "      (relu): ReLU()\n",
            "    )\n",
            "    (3): nf_block(\n",
            "      (nn): WSLinear(in_features=64, out_features=64, bias=True)\n",
            "      (relu): ReLU()\n",
            "    )\n",
            "    (4): nf_block(\n",
            "      (nn): WSLinear(in_features=64, out_features=64, bias=True)\n",
            "      (relu): ReLU()\n",
            "    )\n",
            "    (5): nf_block(\n",
            "      (nn): WSLinear(in_features=64, out_features=64, bias=True)\n",
            "      (relu): ReLU()\n",
            "    )\n",
            "    (6): nf_block(\n",
            "      (nn): WSLinear(in_features=64, out_features=64, bias=True)\n",
            "      (relu): ReLU()\n",
            "    )\n",
            "    (7): nf_block(\n",
            "      (nn): WSLinear(in_features=64, out_features=64, bias=True)\n",
            "      (relu): ReLU()\n",
            "    )\n",
            "    (8): nf_block(\n",
            "      (nn): WSLinear(in_features=64, out_features=64, bias=True)\n",
            "      (relu): ReLU()\n",
            "    )\n",
            "    (9): nf_block(\n",
            "      (nn): WSLinear(in_features=64, out_features=64, bias=True)\n",
            "      (relu): ReLU()\n",
            "    )\n",
            "  )\n",
            "  (last_nn): WSLinear(in_features=64, out_features=1, bias=True)\n",
            ")>\n"
          ],
          "name": "stdout"
        }
      ]
    },
    {
      "cell_type": "code",
      "metadata": {
        "colab": {
          "base_uri": "https://localhost:8080/",
          "height": 35
        },
        "id": "SJYW3ERhEWpm",
        "outputId": "f030b5c3-c18e-4390-b27d-cae37f519e79"
      },
      "source": [
        "os.getcwd()"
      ],
      "execution_count": 149,
      "outputs": [
        {
          "output_type": "execute_result",
          "data": {
            "application/vnd.google.colaboratory.intrinsic+json": {
              "type": "string"
            },
            "text/plain": [
              "'/content/drive/MyDrive/Colab Notebooks/Mathlogic'"
            ]
          },
          "metadata": {
            "tags": []
          },
          "execution_count": 149
        }
      ]
    },
    {
      "cell_type": "code",
      "metadata": {
        "id": "IkeqnuP7EN3_"
      },
      "source": [
        "if(os.getcwd() != r\"/content/drive/My Drive/Colab Notebooks/Mathlogic/nfnets_pytorch\"):\n",
        "  os.chdir(r\"./nfnets_pytorch\")"
      ],
      "execution_count": 150,
      "outputs": []
    },
    {
      "cell_type": "code",
      "metadata": {
        "colab": {
          "base_uri": "https://localhost:8080/",
          "height": 35
        },
        "id": "D7QsGU1FEuhY",
        "outputId": "d60a435f-5e86-4f06-9971-7e6450c0791b"
      },
      "source": [
        "os.getcwd()"
      ],
      "execution_count": 151,
      "outputs": [
        {
          "output_type": "execute_result",
          "data": {
            "application/vnd.google.colaboratory.intrinsic+json": {
              "type": "string"
            },
            "text/plain": [
              "'/content/drive/MyDrive/Colab Notebooks/Mathlogic/nfnets_pytorch'"
            ]
          },
          "metadata": {
            "tags": []
          },
          "execution_count": 151
        }
      ]
    },
    {
      "cell_type": "code",
      "metadata": {
        "id": "DAIXHFbbERmG"
      },
      "source": [
        "from nfnets import SGD_AGC"
      ],
      "execution_count": 152,
      "outputs": []
    },
    {
      "cell_type": "code",
      "metadata": {
        "id": "eAUXQ1arWFxV"
      },
      "source": [
        "# loss_func = nn.BCELoss(reduction=\"sum\")\n",
        "# optimizer = torch.optim.SGD(model.parameters(),lr=0.001)\n",
        "loss_func = nn.BCELoss()\n",
        "optimizer = SGD_AGC(\n",
        "        named_params=model.named_parameters(), # Pass named parameters\n",
        "        lr=1e-3,\n",
        "        momentum=0.9,\n",
        "        clipping=0.1, # New clipping parameter\n",
        "        weight_decay=2e-5, \n",
        "        nesterov=True)"
      ],
      "execution_count": 153,
      "outputs": []
    },
    {
      "cell_type": "code",
      "metadata": {
        "colab": {
          "base_uri": "https://localhost:8080/"
        },
        "id": "Ihr0n9jFaK9J",
        "outputId": "69f93107-949e-4d23-a972-af3b0b5b8d45"
      },
      "source": [
        "X_train_np.shape"
      ],
      "execution_count": 154,
      "outputs": [
        {
          "output_type": "execute_result",
          "data": {
            "text/plain": [
              "(119580, 94)"
            ]
          },
          "metadata": {
            "tags": []
          },
          "execution_count": 154
        }
      ]
    },
    {
      "cell_type": "code",
      "metadata": {
        "id": "-d-20hn-WekE"
      },
      "source": [
        "epochs = 100"
      ],
      "execution_count": 155,
      "outputs": []
    },
    {
      "cell_type": "code",
      "metadata": {
        "id": "LfiU-nlLWi0i",
        "colab": {
          "base_uri": "https://localhost:8080/"
        },
        "outputId": "fc1d8a75-dbe7-4205-a363-d008387aac8d"
      },
      "source": [
        "losses = []\n",
        "accuracy = []\n",
        "val_losses = []\n",
        "val_accuracy = []\n",
        "\n",
        "for epoch in range(epochs):\n",
        "\n",
        "  model.train()\n",
        "  running_loss = 0\n",
        "  running_val_loss = 0\n",
        "  running_acc = 0\n",
        "  running_val_acc = 0\n",
        "\n",
        "  for i,data in enumerate(train_dataloader):\n",
        "    train_x,train_y = data\n",
        "    y_pred = model(train_x)\n",
        "    loss = loss_func(y_pred,train_y)\n",
        "    # predicted = model(torch.tensor(X_train_np,dtype=torch.float32))\n",
        "    acc = (y_pred.reshape(-1).detach().numpy().round() == \n",
        "           train_y.reshape(-1).detach().numpy().round()).mean()\n",
        "    running_loss += loss.item()/(num_train_batches)\n",
        "    running_acc += acc/(num_train_batches)\n",
        "    \n",
        "    #reset grads\n",
        "    optimizer.zero_grad()\n",
        "    \n",
        "    #backward\n",
        "    loss.backward()\n",
        "\n",
        "    #weight updates\n",
        "    optimizer.step()\n",
        "\n",
        "  print(f'Epoch: {epoch+1} Loss: {running_loss} Accuracy: {running_acc}',end = \" \")\n",
        "\n",
        "  model.eval()  \n",
        "  for i,data in enumerate(test_dataloader):\n",
        "    X_val,y_val = data\n",
        "    y_pred_val = model(X_val)\n",
        "    val_loss = loss_func(y_pred_val,y_val)\n",
        "    val_acc = (y_pred_val.reshape(-1).detach().numpy().round() == \n",
        "           y_val.reshape(-1).detach().numpy().round()).mean()\n",
        "\n",
        "    running_val_loss += val_loss.item()/(num_test_batches)\n",
        "    running_val_acc += val_acc/(num_test_batches)\n",
        "    \n",
        "  print(f'Val Loss: {running_val_loss} Val Accuracy: {running_val_acc}')\n",
        "\n",
        "\n",
        "  losses.append(running_loss)\n",
        "  accuracy.append(running_acc)\n",
        "  val_losses.append(running_val_loss)\n",
        "  val_accuracy.append(running_val_acc)  "
      ],
      "execution_count": 156,
      "outputs": [
        {
          "output_type": "stream",
          "text": [
            "Epoch: 1 Loss: 0.44756251552833415 Accuracy: 0.8949531357486828 Val Loss: 0.20788483781173908 Val Accuracy: 0.9479625550660862\n",
            "Epoch: 2 Loss: 0.20300963331450447 Accuracy: 0.9474688049377072 Val Loss: 0.1991403619738271 Val Accuracy: 0.9479625550660862\n",
            "Epoch: 3 Loss: 0.19866090904723988 Accuracy: 0.9474771650233131 Val Loss: 0.19665881211865327 Val Accuracy: 0.9477216409691698\n",
            "Epoch: 4 Loss: 0.19624491938459135 Accuracy: 0.947477165023313 Val Loss: 0.19405065662338367 Val Accuracy: 0.9479625550660863\n",
            "Epoch: 5 Loss: 0.19452476235372707 Accuracy: 0.9474879137048109 Val Loss: 0.1926413846616571 Val Accuracy: 0.9479625550660862\n",
            "Epoch: 6 Loss: 0.19324837711730902 Accuracy: 0.9474771650233148 Val Loss: 0.19149745245041558 Val Accuracy: 0.947962555066086\n",
            "Epoch: 7 Loss: 0.1921667728280085 Accuracy: 0.9474879137048093 Val Loss: 0.1905791826611836 Val Accuracy: 0.9479625550660861\n",
            "Epoch: 8 Loss: 0.19131954752183866 Accuracy: 0.9474771650233148 Val Loss: 0.19051612141472377 Val Accuracy: 0.9477216409691698\n",
            "Epoch: 9 Loss: 0.19051644158409567 Accuracy: 0.9474879137048094 Val Loss: 0.18911117144618278 Val Accuracy: 0.9479625550660861\n",
            "Epoch: 10 Loss: 0.1899594534338002 Accuracy: 0.9474556676603223 Val Loss: 0.18928618442743086 Val Accuracy: 0.9477216409691699\n",
            "Epoch: 11 Loss: 0.1893326245355954 Accuracy: 0.9474879137048106 Val Loss: 0.18809318075588355 Val Accuracy: 0.9479625550660862\n",
            "Epoch: 12 Loss: 0.1889052857441054 Accuracy: 0.9474664163418187 Val Loss: 0.1877598205113595 Val Accuracy: 0.9479625550660863\n",
            "Epoch: 13 Loss: 0.18850973394583256 Accuracy: 0.9474664163418186 Val Loss: 0.18736466571754298 Val Accuracy: 0.9479625550660862\n",
            "Epoch: 14 Loss: 0.18806485233179623 Accuracy: 0.9474986623863031 Val Loss: 0.18702966056862594 Val Accuracy: 0.9479625550660863\n",
            "Epoch: 15 Loss: 0.1877857145757167 Accuracy: 0.9474795536192026 Val Loss: 0.1868929643315235 Val Accuracy: 0.9479625550660862\n",
            "Epoch: 16 Loss: 0.1874977810684053 Accuracy: 0.947490302300697 Val Loss: 0.18720774024331088 Val Accuracy: 0.9477216409691698\n",
            "Epoch: 17 Loss: 0.1873422106812668 Accuracy: 0.9474496961706045 Val Loss: 0.18634862421564566 Val Accuracy: 0.9479625550660862\n",
            "Epoch: 18 Loss: 0.18707273911272143 Accuracy: 0.9474819422150911 Val Loss: 0.18670758899580284 Val Accuracy: 0.9477216409691699\n",
            "Epoch: 19 Loss: 0.1869308519002236 Accuracy: 0.9474711935335951 Val Loss: 0.1860351413078114 Val Accuracy: 0.9479625550660862\n",
            "Epoch: 20 Loss: 0.18684252390389802 Accuracy: 0.9474496961706045 Val Loss: 0.18587267234724533 Val Accuracy: 0.9479625550660862\n",
            "Epoch: 21 Loss: 0.1866137639999617 Accuracy: 0.947471193533596 Val Loss: 0.1858272270139487 Val Accuracy: 0.9479625550660862\n",
            "Epoch: 22 Loss: 0.18648923411885618 Accuracy: 0.9474711935335923 Val Loss: 0.18567622193681005 Val Accuracy: 0.9479625550660861\n",
            "Epoch: 23 Loss: 0.1864089706465164 Accuracy: 0.9474604448521012 Val Loss: 0.1866207201247173 Val Accuracy: 0.9477216409691699\n",
            "Epoch: 24 Loss: 0.18635094473153407 Accuracy: 0.947447307574717 Val Loss: 0.18545852933850315 Val Accuracy: 0.9479625550660862\n",
            "Epoch: 25 Loss: 0.186205517496653 Accuracy: 0.9474580562562109 Val Loss: 0.1861787418453311 Val Accuracy: 0.9477216409691699\n",
            "Epoch: 26 Loss: 0.18610188604565217 Accuracy: 0.9474580562562115 Val Loss: 0.18690310697592294 Val Accuracy: 0.9472398127753372\n",
            "Epoch: 27 Loss: 0.1860257046762606 Accuracy: 0.9474688049377059 Val Loss: 0.18530833768752702 Val Accuracy: 0.9479625550660862\n",
            "Epoch: 28 Loss: 0.18589691010315262 Accuracy: 0.9474903023006969 Val Loss: 0.1865403258574034 Val Accuracy: 0.9474807268722536\n",
            "Epoch: 29 Loss: 0.18585267795549815 Accuracy: 0.9474795536192007 Val Loss: 0.18515415570907912 Val Accuracy: 0.9479625550660863\n",
            "Epoch: 30 Loss: 0.18575558946166484 Accuracy: 0.9474795536192023 Val Loss: 0.18505584645507603 Val Accuracy: 0.9479625550660861\n",
            "Epoch: 31 Loss: 0.18569920541506357 Accuracy: 0.9474795536192033 Val Loss: 0.18560163310774103 Val Accuracy: 0.9477216409691699\n",
            "Epoch: 32 Loss: 0.18566868236361148 Accuracy: 0.9474688049377078 Val Loss: 0.18493758781201775 Val Accuracy: 0.9479625550660862\n",
            "Epoch: 33 Loss: 0.18564585184129292 Accuracy: 0.9474473075747154 Val Loss: 0.18534310006163188 Val Accuracy: 0.9477216409691698\n",
            "Epoch: 34 Loss: 0.18564621704930057 Accuracy: 0.9474365588932218 Val Loss: 0.18529554572169743 Val Accuracy: 0.9477216409691699\n",
            "Epoch: 35 Loss: 0.18552921958558669 Accuracy: 0.9474580562562117 Val Loss: 0.18476450534348704 Val Accuracy: 0.9479625550660863\n",
            "Epoch: 36 Loss: 0.18541497003273122 Accuracy: 0.9474795536192031 Val Loss: 0.18477849335725602 Val Accuracy: 0.9479625550660861\n",
            "Epoch: 37 Loss: 0.18533069859052054 Accuracy: 0.9474903023006962 Val Loss: 0.18471124626302243 Val Accuracy: 0.9479625550660862\n",
            "Epoch: 38 Loss: 0.18527480822361517 Accuracy: 0.9474903023006963 Val Loss: 0.18467528531368863 Val Accuracy: 0.9479625550660863\n",
            "Epoch: 39 Loss: 0.18531737763608044 Accuracy: 0.9474580562562118 Val Loss: 0.18531765606631778 Val Accuracy: 0.9477216409691699\n",
            "Epoch: 40 Loss: 0.18521830936472233 Accuracy: 0.9474795536192036 Val Loss: 0.18510699047325477 Val Accuracy: 0.9477216409691699\n",
            "Epoch: 41 Loss: 0.18514889467720846 Accuracy: 0.9474903023006969 Val Loss: 0.1845228560761209 Val Accuracy: 0.9479625550660862\n",
            "Epoch: 42 Loss: 0.18511701482878828 Accuracy: 0.9474711935335962 Val Loss: 0.18452540620964522 Val Accuracy: 0.9479625550660863\n",
            "Epoch: 43 Loss: 0.18505670741567193 Accuracy: 0.9474903023006973 Val Loss: 0.18553759796864924 Val Accuracy: 0.9474807268722536\n",
            "Epoch: 44 Loss: 0.1850739864741115 Accuracy: 0.9474473075747174 Val Loss: 0.18494438657348397 Val Accuracy: 0.9477216409691698\n",
            "Epoch: 45 Loss: 0.18497566744852573 Accuracy: 0.9474903023006962 Val Loss: 0.18443199384153405 Val Accuracy: 0.9479625550660862\n",
            "Epoch: 46 Loss: 0.1849668225569479 Accuracy: 0.9474795536192018 Val Loss: 0.18436880087242 Val Accuracy: 0.9479625550660862\n",
            "Epoch: 47 Loss: 0.18491131744565273 Accuracy: 0.947487913704809 Val Loss: 0.18550374756858462 Val Accuracy: 0.9474807268722536\n",
            "Epoch: 48 Loss: 0.18488167203592074 Accuracy: 0.947479553619202 Val Loss: 0.18425872568287247 Val Accuracy: 0.9479625550660863\n",
            "Epoch: 49 Loss: 0.18482194608899596 Accuracy: 0.9474986623863055 Val Loss: 0.18550738320575147 Val Accuracy: 0.9474807268722537\n",
            "Epoch: 50 Loss: 0.1848078170953715 Accuracy: 0.9474795536192024 Val Loss: 0.18493643074833868 Val Accuracy: 0.9477216409691697\n",
            "Epoch: 51 Loss: 0.18479011794816314 Accuracy: 0.9474688049377056 Val Loss: 0.1848340694698205 Val Accuracy: 0.9477216409691698\n",
            "Epoch: 52 Loss: 0.18482815051713417 Accuracy: 0.9474449189788297 Val Loss: 0.18420776980826511 Val Accuracy: 0.9479625550660861\n",
            "Epoch: 53 Loss: 0.18472540745518667 Accuracy: 0.9474771650233136 Val Loss: 0.18483048287683904 Val Accuracy: 0.9477216409691697\n",
            "Epoch: 54 Loss: 0.18466061573334056 Accuracy: 0.9474795536192016 Val Loss: 0.18410268801752688 Val Accuracy: 0.9479625550660862\n",
            "Epoch: 55 Loss: 0.18463765949792152 Accuracy: 0.9474879137048094 Val Loss: 0.18470437070642007 Val Accuracy: 0.9477216409691699\n",
            "Epoch: 56 Loss: 0.18465510171570515 Accuracy: 0.9474580562562136 Val Loss: 0.18405183418633383 Val Accuracy: 0.9479625550660861\n",
            "Epoch: 57 Loss: 0.18461164587350273 Accuracy: 0.9474771650233144 Val Loss: 0.18402972956093683 Val Accuracy: 0.947962555066086\n",
            "Epoch: 58 Loss: 0.1845159538293537 Accuracy: 0.9474903023006993 Val Loss: 0.18394951550248967 Val Accuracy: 0.9479625550660863\n",
            "Epoch: 59 Loss: 0.18448110202047344 Accuracy: 0.947490302300697 Val Loss: 0.18405344359379763 Val Accuracy: 0.9479625550660862\n",
            "Epoch: 60 Loss: 0.18446270945701707 Accuracy: 0.9474795536192037 Val Loss: 0.18398253157702046 Val Accuracy: 0.9479625550660862\n",
            "Epoch: 61 Loss: 0.18445270166295377 Accuracy: 0.9474795536192032 Val Loss: 0.18454115228144866 Val Accuracy: 0.9477216409691699\n",
            "Epoch: 62 Loss: 0.18440646241299932 Accuracy: 0.9474879137048094 Val Loss: 0.18390042656450034 Val Accuracy: 0.9479625550660862\n",
            "Epoch: 63 Loss: 0.1844310243242785 Accuracy: 0.947466416341819 Val Loss: 0.18400534728156306 Val Accuracy: 0.9479625550660861\n",
            "Epoch: 64 Loss: 0.1843977517753826 Accuracy: 0.9474771650233144 Val Loss: 0.18453877191941406 Val Accuracy: 0.94772164096917\n",
            "Epoch: 65 Loss: 0.18440123633698302 Accuracy: 0.9474556676603241 Val Loss: 0.18375484018877877 Val Accuracy: 0.9479625550660862\n",
            "Epoch: 66 Loss: 0.18429012490768273 Accuracy: 0.9474879137048096 Val Loss: 0.18380827767700617 Val Accuracy: 0.9479625550660862\n",
            "Epoch: 67 Loss: 0.18433843397198035 Accuracy: 0.9474664163418192 Val Loss: 0.18378034472006 Val Accuracy: 0.9479625550660861\n",
            "Epoch: 68 Loss: 0.1843076289206376 Accuracy: 0.9474771650233162 Val Loss: 0.18376760773098158 Val Accuracy: 0.9479625550660861\n",
            "Epoch: 69 Loss: 0.18425334716557548 Accuracy: 0.9474688049377061 Val Loss: 0.18386331202240755 Val Accuracy: 0.9479625550660862\n",
            "Epoch: 70 Loss: 0.18418246646570638 Accuracy: 0.9474903023006982 Val Loss: 0.18372943802913133 Val Accuracy: 0.9479625550660862\n",
            "Epoch: 71 Loss: 0.184143110105161 Accuracy: 0.9474795536192003 Val Loss: 0.18416935996468367 Val Accuracy: 0.94772164096917\n",
            "Epoch: 72 Loss: 0.18420757012468703 Accuracy: 0.9474664163418198 Val Loss: 0.18363386598551062 Val Accuracy: 0.9479625550660862\n",
            "Epoch: 73 Loss: 0.18420990305136026 Accuracy: 0.9474473075747154 Val Loss: 0.18372025458133967 Val Accuracy: 0.9479625550660862\n",
            "Epoch: 74 Loss: 0.18408203324319972 Accuracy: 0.9474879137048084 Val Loss: 0.1836696701198159 Val Accuracy: 0.9479625550660861\n",
            "Epoch: 75 Loss: 0.18407575000195084 Accuracy: 0.9474879137048097 Val Loss: 0.18442574642303222 Val Accuracy: 0.9477216409691699\n",
            "Epoch: 76 Loss: 0.18401047920857014 Accuracy: 0.9474903023006986 Val Loss: 0.1836502968624955 Val Accuracy: 0.9479625550660862\n",
            "Epoch: 77 Loss: 0.1841050682498723 Accuracy: 0.9474473075747181 Val Loss: 0.1836825622664148 Val Accuracy: 0.9479625550660861\n",
            "Epoch: 78 Loss: 0.18414936569873686 Accuracy: 0.9474258102117261 Val Loss: 0.18409801635579395 Val Accuracy: 0.9477216409691698\n",
            "Epoch: 79 Loss: 0.18398515069074914 Accuracy: 0.9474688049377068 Val Loss: 0.18359935154834747 Val Accuracy: 0.9479625550660861\n",
            "Epoch: 80 Loss: 0.18396725873335754 Accuracy: 0.9474795536192024 Val Loss: 0.18361676124125598 Val Accuracy: 0.9479625550660861\n",
            "Epoch: 81 Loss: 0.18391130325659014 Accuracy: 0.9474903023006973 Val Loss: 0.18420249794810875 Val Accuracy: 0.94772164096917\n",
            "Epoch: 82 Loss: 0.18396065280104504 Accuracy: 0.9474580562562123 Val Loss: 0.18399106170407753 Val Accuracy: 0.9477216409691698\n",
            "Epoch: 83 Loss: 0.18390729507743325 Accuracy: 0.947468804937708 Val Loss: 0.1835811445284387 Val Accuracy: 0.9479625550660862\n",
            "Epoch: 84 Loss: 0.18381925123365486 Accuracy: 0.9474903023006976 Val Loss: 0.18353666237961624 Val Accuracy: 0.9479625550660861\n",
            "Epoch: 85 Loss: 0.1838222345075167 Accuracy: 0.9474903023006983 Val Loss: 0.1839997302084373 Val Accuracy: 0.9477216409691699\n",
            "Epoch: 86 Loss: 0.18383640296051645 Accuracy: 0.9474795536192018 Val Loss: 0.1839796025470097 Val Accuracy: 0.9477216409691699\n",
            "Epoch: 87 Loss: 0.18378669466203423 Accuracy: 0.947490302300698 Val Loss: 0.18346687653286597 Val Accuracy: 0.9479625550660861\n",
            "Epoch: 88 Loss: 0.18374933157297585 Accuracy: 0.9474986623863065 Val Loss: 0.18459631727458606 Val Accuracy: 0.9474807268722536\n",
            "Epoch: 89 Loss: 0.18373530957032605 Accuracy: 0.947490302300698 Val Loss: 0.18383513660978354 Val Accuracy: 0.9477216409691697\n",
            "Epoch: 90 Loss: 0.18375953294859035 Accuracy: 0.9474879137048108 Val Loss: 0.1846085721175574 Val Accuracy: 0.9474807268722536\n",
            "Epoch: 91 Loss: 0.1837765315598413 Accuracy: 0.9474664163418194 Val Loss: 0.18346592449964677 Val Accuracy: 0.9479625550660862\n",
            "Epoch: 92 Loss: 0.1837102012113813 Accuracy: 0.9474879137048083 Val Loss: 0.18338229671317566 Val Accuracy: 0.9479625550660861\n",
            "Epoch: 93 Loss: 0.18370732067500695 Accuracy: 0.9474771650233152 Val Loss: 0.18342125284514224 Val Accuracy: 0.9479625550660862\n",
            "Epoch: 94 Loss: 0.18363080133667523 Accuracy: 0.9474986623863039 Val Loss: 0.18388331299114336 Val Accuracy: 0.9477216409691698\n",
            "Epoch: 95 Loss: 0.18364598103955873 Accuracy: 0.9474879137048093 Val Loss: 0.1833889532817879 Val Accuracy: 0.9479625550660863\n",
            "Epoch: 96 Loss: 0.18363672517610777 Accuracy: 0.9474771650233127 Val Loss: 0.1847937329865104 Val Accuracy: 0.9474807268722535\n",
            "Epoch: 97 Loss: 0.18361231683488835 Accuracy: 0.9474879137048098 Val Loss: 0.18341860049588823 Val Accuracy: 0.9479625550660861\n",
            "Epoch: 98 Loss: 0.18356843198833492 Accuracy: 0.947487913704811 Val Loss: 0.18343230127664661 Val Accuracy: 0.9479625550660862\n",
            "Epoch: 99 Loss: 0.18362187004586863 Accuracy: 0.9474580562562113 Val Loss: 0.18330107132867304 Val Accuracy: 0.9479625550660862\n",
            "Epoch: 100 Loss: 0.18359320430177764 Accuracy: 0.9474664163418186 Val Loss: 0.1833063271060783 Val Accuracy: 0.947962555066086\n"
          ],
          "name": "stdout"
        }
      ]
    },
    {
      "cell_type": "code",
      "metadata": {
        "id": "CtyhJrb_6Atu",
        "colab": {
          "base_uri": "https://localhost:8080/",
          "height": 312
        },
        "outputId": "f96d05ff-2b06-48d8-d672-ed18525fd3d6"
      },
      "source": [
        "plt.plot(losses,'r',label='train')\n",
        "plt.plot(val_losses,'b',label='val')\n",
        "plt.legend()\n",
        "plt.title('Loss vs Epochs')\n",
        "plt.xlabel('Epochs')\n",
        "plt.ylabel('loss')"
      ],
      "execution_count": 157,
      "outputs": [
        {
          "output_type": "execute_result",
          "data": {
            "text/plain": [
              "Text(0, 0.5, 'loss')"
            ]
          },
          "metadata": {
            "tags": []
          },
          "execution_count": 157
        },
        {
          "output_type": "display_data",
          "data": {
            "image/png": "[encoded data removed]",
            "text/plain": [
              "<Figure size 432x288 with 1 Axes>"
            ]
          },
          "metadata": {
            "tags": [],
            "needs_background": "light"
          }
        }
      ]
    },
    {
      "cell_type": "code",
      "metadata": {
        "id": "AzSuJ9x-7l8x",
        "colab": {
          "base_uri": "https://localhost:8080/",
          "height": 312
        },
        "outputId": "8621c13b-bba1-4e1f-f86f-75331cff280e"
      },
      "source": [
        "plt.plot(accuracy,'r',label='train')\n",
        "plt.plot(val_accuracy,'b',label='val')\n",
        "plt.legend()\n",
        "plt.title('Accuracy vs Epochs')\n",
        "plt.xlabel('Accuracy')\n",
        "plt.ylabel('loss')"
      ],
      "execution_count": 158,
      "outputs": [
        {
          "output_type": "execute_result",
          "data": {
            "text/plain": [
              "Text(0, 0.5, 'loss')"
            ]
          },
          "metadata": {
            "tags": []
          },
          "execution_count": 158
        },
        {
          "output_type": "display_data",
          "data": {
            "image/png": "[encoded data removed]",
            "text/plain": [
              "<Figure size 432x288 with 1 Axes>"
            ]
          },
          "metadata": {
            "tags": [],
            "needs_background": "light"
          }
        }
      ]
    },
    {
      "cell_type": "code",
      "metadata": {
        "id": "bhkcr8esml5p"
      },
      "source": [
        ""
      ],
      "execution_count": 158,
      "outputs": []
    },
    {
      "cell_type": "code",
      "metadata": {
        "id": "C6yL3SPrmmN_"
      },
      "source": [
        "model.eval()\n",
        "preds_train = []\n",
        "with torch.no_grad():\n",
        "   for i,data in enumerate(train_loader):\n",
        "     trainx,trainy = data\n",
        "     y_hat = model.forward(trainx)\n",
        "     preds_train.append(y_hat)"
      ],
      "execution_count": 159,
      "outputs": []
    },
    {
      "cell_type": "code",
      "metadata": {
        "colab": {
          "base_uri": "https://localhost:8080/"
        },
        "id": "6jflFkP_mmOA",
        "outputId": "d90e825e-4045-4210-baea-8bb1ef74fbe6"
      },
      "source": [
        "preds_train = np.array(preds_train)\n",
        "preds_train"
      ],
      "execution_count": 160,
      "outputs": [
        {
          "output_type": "execute_result",
          "data": {
            "text/plain": [
              "array([0.06302144, 0.00466951, 0.0366246 , ..., 0.02942211, 0.02463348,\n",
              "       0.05147825], dtype=float32)"
            ]
          },
          "metadata": {
            "tags": []
          },
          "execution_count": 160
        }
      ]
    },
    {
      "cell_type": "code",
      "metadata": {
        "id": "VafrbPmbhNxa"
      },
      "source": [
        "def best_f1(preds,y_test_np):\n",
        "  f1_max = 0\n",
        "  cutoff = -1\n",
        "  for i in np.arange(0.01,1,0.01):\n",
        "    preds1 = (preds>=i)*1 \n",
        "    #print(sum(preds1))\n",
        "    f1_score = sklearn.metrics.precision_recall_fscore_support(preds1,y_test_np)[2][1]\n",
        "    print(f1_score)\n",
        "    if (not f1_score):\n",
        "      break\n",
        "    if (f1_score > f1_max):\n",
        "      f1_max = f1_score\n",
        "      cutoff = i\n",
        "  return cutoff,f1_max"
      ],
      "execution_count": 161,
      "outputs": []
    },
    {
      "cell_type": "code",
      "metadata": {
        "id": "eMWeHhaOnJov",
        "colab": {
          "base_uri": "https://localhost:8080/"
        },
        "outputId": "2ecec23f-154c-4fd1-b35f-c1a6730bb10a"
      },
      "source": [
        "train_cutoff,train_f1 = best_f1(preds_train,y_train_np)"
      ],
      "execution_count": 162,
      "outputs": [
        {
          "output_type": "stream",
          "text": [
            "0.11504457790875518\n",
            "0.13309143036330243\n",
            "0.14931347824346503\n",
            "0.16351412765824075\n",
            "0.1757434741510943\n",
            "0.18756186424615123\n",
            "0.19722612273052004\n",
            "0.2056999011058168\n",
            "0.21674320560114435\n",
            "0.22077562326869804\n",
            "0.22026672496720595\n",
            "0.2167356029271397\n",
            "0.21106185042517625\n",
            "0.20214320506575742\n",
            "0.18775729371755862\n",
            "0.17807816632383192\n",
            "0.16712328767123288\n",
            "0.1502942507922137\n",
            "0.13545530692832355\n",
            "0.11786928598413299\n",
            "0.1064388961892247\n",
            "0.08902321747492788\n",
            "0.0757876809537326\n",
            "0.059157802710185045\n",
            "0.04558319678236258\n",
            "0.03785584494245911\n",
            "0.02792267566738263\n",
            "0.021695335502866883\n",
            "0.01590271281571562\n",
            "0.012537219871493498\n",
            "0.0091324200913242\n",
            "0.007891414141414142\n",
            "0.0066413662239089176\n",
            "0.004437400950871632\n",
            "0.0031735956839098697\n",
            "0.0022229279136233722\n",
            "0.0019068806610519626\n",
            "0.001589319771137953\n",
            "0.0009540467482906661\n",
            "0.0006361323155216284\n",
            "0.0003182179793158313\n",
            "0.0003182179793158313\n",
            "0.00031826861871419476\n",
            "0.00031826861871419476\n",
            "0.0003183192742320547\n",
            "0.0003183192742320547\n",
            "0.0003183192742320547\n",
            "0.00031836994587710915\n",
            "0.00031836994587710915\n",
            "0.00031836994587710915\n",
            "0.0\n"
          ],
          "name": "stdout"
        },
        {
          "output_type": "stream",
          "text": [
            "/usr/local/lib/python3.7/dist-packages/sklearn/metrics/_classification.py:1272: UndefinedMetricWarning: Recall and F-score are ill-defined and being set to 0.0 in labels with no true samples. Use `zero_division` parameter to control this behavior.\n",
            "  _warn_prf(average, modifier, msg_start, len(result))\n"
          ],
          "name": "stderr"
        }
      ]
    },
    {
      "cell_type": "code",
      "metadata": {
        "colab": {
          "base_uri": "https://localhost:8080/"
        },
        "id": "cr7o6G_SnW_O",
        "outputId": "f718e9ec-7eb0-446a-8e25-3b6e056bcfb6"
      },
      "source": [
        "train_cutoff,train_f1"
      ],
      "execution_count": 163,
      "outputs": [
        {
          "output_type": "execute_result",
          "data": {
            "text/plain": [
              "(0.09999999999999999, 0.22077562326869804)"
            ]
          },
          "metadata": {
            "tags": []
          },
          "execution_count": 163
        }
      ]
    },
    {
      "cell_type": "code",
      "metadata": {
        "id": "4zhpl5OcnjEL"
      },
      "source": [
        "preds_train_ideal = (preds_train>=train_cutoff)*1"
      ],
      "execution_count": 164,
      "outputs": []
    },
    {
      "cell_type": "code",
      "metadata": {
        "colab": {
          "base_uri": "https://localhost:8080/"
        },
        "id": "DPP81ye5njEN",
        "outputId": "4619b7bc-a4b1-4ccb-eda7-ffbd1fd4c11e"
      },
      "source": [
        "print(classification_report(preds_train_ideal,y_train_np))"
      ],
      "execution_count": 165,
      "outputs": [
        {
          "output_type": "stream",
          "text": [
            "              precision    recall  f1-score   support\n",
            "\n",
            "           0       0.89      0.96      0.92    104200\n",
            "           1       0.38      0.16      0.22     15380\n",
            "\n",
            "    accuracy                           0.86    119580\n",
            "   macro avg       0.63      0.56      0.57    119580\n",
            "weighted avg       0.82      0.86      0.83    119580\n",
            "\n"
          ],
          "name": "stdout"
        }
      ]
    },
    {
      "cell_type": "code",
      "metadata": {
        "id": "bMJzTRaDnXEr"
      },
      "source": [
        ""
      ],
      "execution_count": 165,
      "outputs": []
    },
    {
      "cell_type": "code",
      "metadata": {
        "id": "PzEK_zwEZXZT"
      },
      "source": [
        "model.eval()\n",
        "preds = []\n",
        "with torch.no_grad():\n",
        "   for i,data in enumerate(test_loader):\n",
        "     test_x,test_y = data\n",
        "     y_hat = model.forward(test_x)\n",
        "     preds.append(y_hat)"
      ],
      "execution_count": 166,
      "outputs": []
    },
    {
      "cell_type": "code",
      "metadata": {
        "colab": {
          "base_uri": "https://localhost:8080/"
        },
        "id": "n7RGgiWSGYe0",
        "outputId": "6efe1f5a-4f72-4cc4-aeaf-14105a79f256"
      },
      "source": [
        "np.array(preds)"
      ],
      "execution_count": 167,
      "outputs": [
        {
          "output_type": "execute_result",
          "data": {
            "text/plain": [
              "array([0.0261362 , 0.011601  , 0.2078072 , ..., 0.09130067, 0.07971888,\n",
              "       0.09565134], dtype=float32)"
            ]
          },
          "metadata": {
            "tags": []
          },
          "execution_count": 167
        }
      ]
    },
    {
      "cell_type": "code",
      "metadata": {
        "id": "vLacuU0ECiF2"
      },
      "source": [
        "preds = np.array(preds)\n",
        "# preds[preds>=0.5] = 1\n",
        "# preds[preds<=0.5] = 0\n"
      ],
      "execution_count": 168,
      "outputs": []
    },
    {
      "cell_type": "code",
      "metadata": {
        "colab": {
          "base_uri": "https://localhost:8080/"
        },
        "id": "FUgPQ-cpiV_z",
        "outputId": "eeefca84-18fd-4f9b-ac78-31d6dc791b1d"
      },
      "source": [
        "np.unique(preds)"
      ],
      "execution_count": 169,
      "outputs": [
        {
          "output_type": "execute_result",
          "data": {
            "text/plain": [
              "array([1.9784120e-05, 3.2744741e-05, 4.9837192e-05, ..., 3.9713138e-01,\n",
              "       3.9772868e-01, 4.2165336e-01], dtype=float32)"
            ]
          },
          "metadata": {
            "tags": []
          },
          "execution_count": 169
        }
      ]
    },
    {
      "cell_type": "code",
      "metadata": {
        "id": "f5XnvDV-jz8R"
      },
      "source": [
        "preds_dummy = (preds>=0.5)*1"
      ],
      "execution_count": 170,
      "outputs": []
    },
    {
      "cell_type": "code",
      "metadata": {
        "colab": {
          "base_uri": "https://localhost:8080/"
        },
        "id": "5L8P-jT4jyRw",
        "outputId": "a69d640c-930d-4769-b1ab-16629df7c06d"
      },
      "source": [
        "sklearn.metrics.precision_recall_fscore_support(preds_dummy,y_test_np)"
      ],
      "execution_count": 171,
      "outputs": [
        {
          "output_type": "stream",
          "text": [
            "/usr/local/lib/python3.7/dist-packages/sklearn/metrics/_classification.py:1272: UndefinedMetricWarning: Recall and F-score are ill-defined and being set to 0.0 in labels with no true samples. Use `zero_division` parameter to control this behavior.\n",
            "  _warn_prf(average, modifier, msg_start, len(result))\n"
          ],
          "name": "stderr"
        },
        {
          "output_type": "execute_result",
          "data": {
            "text/plain": [
              "(array([1., 0.]),\n",
              " array([0.94786207, 0.        ]),\n",
              " array([0.97323325, 0.        ]),\n",
              " array([29000,     0]))"
            ]
          },
          "metadata": {
            "tags": []
          },
          "execution_count": 171
        }
      ]
    },
    {
      "cell_type": "code",
      "metadata": {
        "colab": {
          "base_uri": "https://localhost:8080/"
        },
        "id": "SzIBq2WNkVdS",
        "outputId": "8af5c76f-adc2-4d39-e13d-04d7fbedb078"
      },
      "source": [
        "sklearn.metrics.precision_recall_fscore_support(preds_dummy,y_test_np)[2][1]"
      ],
      "execution_count": 172,
      "outputs": [
        {
          "output_type": "stream",
          "text": [
            "/usr/local/lib/python3.7/dist-packages/sklearn/metrics/_classification.py:1272: UndefinedMetricWarning: Recall and F-score are ill-defined and being set to 0.0 in labels with no true samples. Use `zero_division` parameter to control this behavior.\n",
            "  _warn_prf(average, modifier, msg_start, len(result))\n"
          ],
          "name": "stderr"
        },
        {
          "output_type": "execute_result",
          "data": {
            "text/plain": [
              "0.0"
            ]
          },
          "metadata": {
            "tags": []
          },
          "execution_count": 172
        }
      ]
    },
    {
      "cell_type": "code",
      "metadata": {
        "colab": {
          "base_uri": "https://localhost:8080/"
        },
        "id": "4i0-9eJhjKhP",
        "outputId": "6f0f7a95-385b-47a3-ea16-6de055bfcaa3"
      },
      "source": [
        "np.arange(0.01,1,0.01)"
      ],
      "execution_count": 173,
      "outputs": [
        {
          "output_type": "execute_result",
          "data": {
            "text/plain": [
              "array([0.01, 0.02, 0.03, 0.04, 0.05, 0.06, 0.07, 0.08, 0.09, 0.1 , 0.11,\n",
              "       0.12, 0.13, 0.14, 0.15, 0.16, 0.17, 0.18, 0.19, 0.2 , 0.21, 0.22,\n",
              "       0.23, 0.24, 0.25, 0.26, 0.27, 0.28, 0.29, 0.3 , 0.31, 0.32, 0.33,\n",
              "       0.34, 0.35, 0.36, 0.37, 0.38, 0.39, 0.4 , 0.41, 0.42, 0.43, 0.44,\n",
              "       0.45, 0.46, 0.47, 0.48, 0.49, 0.5 , 0.51, 0.52, 0.53, 0.54, 0.55,\n",
              "       0.56, 0.57, 0.58, 0.59, 0.6 , 0.61, 0.62, 0.63, 0.64, 0.65, 0.66,\n",
              "       0.67, 0.68, 0.69, 0.7 , 0.71, 0.72, 0.73, 0.74, 0.75, 0.76, 0.77,\n",
              "       0.78, 0.79, 0.8 , 0.81, 0.82, 0.83, 0.84, 0.85, 0.86, 0.87, 0.88,\n",
              "       0.89, 0.9 , 0.91, 0.92, 0.93, 0.94, 0.95, 0.96, 0.97, 0.98, 0.99])"
            ]
          },
          "metadata": {
            "tags": []
          },
          "execution_count": 173
        }
      ]
    },
    {
      "cell_type": "code",
      "metadata": {
        "id": "xPgbAh5RmW7O",
        "colab": {
          "base_uri": "https://localhost:8080/"
        },
        "outputId": "f5891a6a-4a57-40d7-af24-19b00cad9eee"
      },
      "source": [
        "cutoff,f1_max = best_f1(preds,y_test_np)"
      ],
      "execution_count": 174,
      "outputs": [
        {
          "output_type": "stream",
          "text": [
            "0.11395725638453826\n",
            "0.13104278570105576\n",
            "0.1475835404584369\n",
            "0.16231996885947841\n",
            "0.17341819543242232\n",
            "0.18607892673577836\n",
            "0.19791561266821817\n",
            "0.20778582831880144\n",
            "0.2129798903107861\n",
            "0.2171450151057402\n",
            "0.21436562989483107\n",
            "0.2062176165803109\n",
            "0.20053238686779062\n",
            "0.19610432485968968\n",
            "0.19277108433734938\n",
            "0.17722534081796312\n",
            "0.16241900647948163\n",
            "0.13986013986013984\n",
            "0.127826941986234\n",
            "0.10892116182572616\n",
            "0.0992984349703184\n",
            "0.08243929983060419\n",
            "0.07009345794392523\n",
            "0.059000602046959665\n",
            "0.046798029556650245\n",
            "0.037641154328732745\n",
            "0.02926208651399491\n",
            "0.021822849807445442\n",
            "0.019404915912031043\n",
            "0.014294996751137101\n",
            "0.01042345276872964\n",
            "0.009156311314584695\n",
            "0.009168303863785199\n",
            "0.00788436268068331\n",
            "0.005263157894736841\n",
            "0.003949967083607636\n",
            "0.0\n"
          ],
          "name": "stdout"
        }
      ]
    },
    {
      "cell_type": "code",
      "metadata": {
        "colab": {
          "base_uri": "https://localhost:8080/"
        },
        "id": "KhGhKEO-myMF",
        "outputId": "03437d88-0334-4236-d184-893041013e98"
      },
      "source": [
        "print(cutoff,f1_max)"
      ],
      "execution_count": 175,
      "outputs": [
        {
          "output_type": "stream",
          "text": [
            "0.09999999999999999 0.2171450151057402\n"
          ],
          "name": "stdout"
        }
      ]
    },
    {
      "cell_type": "code",
      "metadata": {
        "id": "52FCW9zcoN6o"
      },
      "source": [
        "preds_ideal = (preds>=cutoff)*1"
      ],
      "execution_count": 176,
      "outputs": []
    },
    {
      "cell_type": "code",
      "metadata": {
        "id": "YUnzaot8GB2W",
        "colab": {
          "base_uri": "https://localhost:8080/"
        },
        "outputId": "6dde6901-1d80-4500-8a67-3fa27c006684"
      },
      "source": [
        "print(classification_report(preds_ideal,y_test_np))"
      ],
      "execution_count": 177,
      "outputs": [
        {
          "output_type": "stream",
          "text": [
            "              precision    recall  f1-score   support\n",
            "\n",
            "           0       0.88      0.96      0.92     25216\n",
            "           1       0.38      0.15      0.22      3784\n",
            "\n",
            "    accuracy                           0.86     29000\n",
            "   macro avg       0.63      0.56      0.57     29000\n",
            "weighted avg       0.82      0.86      0.83     29000\n",
            "\n"
          ],
          "name": "stdout"
        }
      ]
    },
    {
      "cell_type": "code",
      "metadata": {
        "id": "8BooV-hSKu8n"
      },
      "source": [
        ""
      ],
      "execution_count": 177,
      "outputs": []
    }
  ]
}