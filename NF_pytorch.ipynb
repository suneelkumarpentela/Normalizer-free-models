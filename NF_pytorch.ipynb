{
  "nbformat": 4,
  "nbformat_minor": 0,
  "metadata": {
    "colab": {
      "name": "NF_pytorch.ipynb",
      "provenance": [],
      "authorship_tag": "ABX9TyO9W0C6e7BtcB0flQ+WvcJM",
      "include_colab_link": true
    },
    "kernelspec": {
      "name": "python3",
      "display_name": "Python 3"
    },
    "language_info": {
      "name": "python"
    }
  },
  "cells": [
    {
      "cell_type": "markdown",
      "metadata": {
        "id": "view-in-github",
        "colab_type": "text"
      },
      "source": [
        "<a href=\"https://colab.research.google.com/github/suneelkumarpentela/Normalizer-free-models/blob/master/NF_pytorch.ipynb\" target=\"_parent\"><img src=\"https://colab.research.google.com/assets/colab-badge.svg\" alt=\"Open In Colab\"/></a>"
      ]
    },
    {
      "cell_type": "code",
      "metadata": {
        "id": "WXlHXCmtSxao"
      },
      "source": [
        "import torch\n",
        "import torch.nn as nn\n",
        "from torch.utils.data import DataLoader, TensorDataset\n",
        "import torch.nn.functional as F\n",
        "import matplotlib.pyplot as plt\n",
        "import pandas as pd\n",
        "import os\n",
        "import numpy as np\n",
        "import sklearn\n",
        "from sklearn.metrics import classification_report, confusion_matrix,precision_recall_fscore_support"
      ],
      "execution_count": 1,
      "outputs": []
    },
    {
      "cell_type": "code",
      "metadata": {
        "id": "wW10KB-QR7z8",
        "colab": {
          "base_uri": "https://localhost:8080/",
          "height": 35
        },
        "outputId": "3e068fab-7aa5-44b7-b759-005ec7b91b02"
      },
      "source": [
        "os.getcwd()"
      ],
      "execution_count": 2,
      "outputs": [
        {
          "output_type": "execute_result",
          "data": {
            "application/vnd.google.colaboratory.intrinsic+json": {
              "type": "string"
            },
            "text/plain": [
              "'/content'"
            ]
          },
          "metadata": {
            "tags": []
          },
          "execution_count": 2
        }
      ]
    },
    {
      "cell_type": "code",
      "metadata": {
        "colab": {
          "base_uri": "https://localhost:8080/"
        },
        "id": "maPOG8dQTKMT",
        "outputId": "beea8996-ad49-415c-be59-cb5f4e6d5de3"
      },
      "source": [
        "from google.colab import drive\n",
        "drive.mount('/content/drive')"
      ],
      "execution_count": 3,
      "outputs": [
        {
          "output_type": "stream",
          "text": [
            "Mounted at /content/drive\n"
          ],
          "name": "stdout"
        }
      ]
    },
    {
      "cell_type": "code",
      "metadata": {
        "id": "WS8zd5uTTtli"
      },
      "source": [
        "os.chdir(\"/content/drive/MyDrive/Colab Notebooks/Mathlogic\")"
      ],
      "execution_count": 4,
      "outputs": []
    },
    {
      "cell_type": "code",
      "metadata": {
        "colab": {
          "base_uri": "https://localhost:8080/"
        },
        "id": "oPUzZeJzTb5K",
        "outputId": "4e73a165-6ded-4643-f37d-51a277d7ee26"
      },
      "source": [
        "train = pd.read_csv(\"./Data/train.csv\")\n",
        "print(train.shape)"
      ],
      "execution_count": 5,
      "outputs": [
        {
          "output_type": "stream",
          "text": [
            "(90000, 95)\n"
          ],
          "name": "stdout"
        }
      ]
    },
    {
      "cell_type": "code",
      "metadata": {
        "id": "AP_Z-Cp1Tf1z"
      },
      "source": [
        "train['target_new'] = np.where(train['target']==0,0,1)\n",
        "train.drop(['target'],axis=1,inplace=True)"
      ],
      "execution_count": 6,
      "outputs": []
    },
    {
      "cell_type": "code",
      "metadata": {
        "colab": {
          "base_uri": "https://localhost:8080/"
        },
        "id": "Y0EcvGb4Tf4J",
        "outputId": "133332e3-8837-42f7-c5a5-44367220f2b1"
      },
      "source": [
        "val = pd.read_csv(\"./Data/valid.csv\")\n",
        "print(val.shape)\n",
        "val['target_new'] = np.where(val['target']==0,0,1)\n",
        "val.drop('target',axis=1,inplace=True)"
      ],
      "execution_count": 7,
      "outputs": [
        {
          "output_type": "stream",
          "text": [
            "(29000, 95)\n"
          ],
          "name": "stdout"
        }
      ]
    },
    {
      "cell_type": "code",
      "metadata": {
        "colab": {
          "base_uri": "https://localhost:8080/"
        },
        "id": "uhRkdSRoTf7Y",
        "outputId": "68fa5494-8779-49d1-99c8-ba16ebf90444"
      },
      "source": [
        "test = pd.read_csv(\"./Data/test.csv\")\n",
        "print(test.shape)\n",
        "test['target_new'] = np.where(test['target']==0,0,1)\n",
        "test.drop('target',axis=1,inplace=True)"
      ],
      "execution_count": 8,
      "outputs": [
        {
          "output_type": "stream",
          "text": [
            "(29580, 95)\n"
          ],
          "name": "stdout"
        }
      ]
    },
    {
      "cell_type": "code",
      "metadata": {
        "id": "CGffhGuxWqMk"
      },
      "source": [
        "frames = [train,test]\n",
        "X = pd.concat(frames)"
      ],
      "execution_count": 9,
      "outputs": []
    },
    {
      "cell_type": "code",
      "metadata": {
        "colab": {
          "base_uri": "https://localhost:8080/"
        },
        "id": "A6zP0gSdTf-m",
        "outputId": "960dbf5d-0420-43cc-95a7-128c6eec9965"
      },
      "source": [
        "X_train = X.drop('target_new',axis=1)\n",
        "y_train = np.array([X['target_new']]).reshape(-1,1)\n",
        "X_train.shape"
      ],
      "execution_count": 10,
      "outputs": [
        {
          "output_type": "execute_result",
          "data": {
            "text/plain": [
              "(119580, 94)"
            ]
          },
          "metadata": {
            "tags": []
          },
          "execution_count": 10
        }
      ]
    },
    {
      "cell_type": "code",
      "metadata": {
        "colab": {
          "base_uri": "https://localhost:8080/"
        },
        "id": "clSYNWxLTgBF",
        "outputId": "02a37fe2-6a37-43b1-cc30-9a9009909681"
      },
      "source": [
        "X_test = val.drop('target_new',axis=1)\n",
        "y_test = np.array([val['target_new']]).reshape(-1,1)\n",
        "X_test.shape"
      ],
      "execution_count": 11,
      "outputs": [
        {
          "output_type": "execute_result",
          "data": {
            "text/plain": [
              "(29000, 94)"
            ]
          },
          "metadata": {
            "tags": []
          },
          "execution_count": 11
        }
      ]
    },
    {
      "cell_type": "code",
      "metadata": {
        "id": "_3JJvRaaaXPF"
      },
      "source": [
        "a = y_test.flatten()"
      ],
      "execution_count": 12,
      "outputs": []
    },
    {
      "cell_type": "code",
      "metadata": {
        "id": "X1uK6JYYaxrQ"
      },
      "source": [
        "from collections import Counter"
      ],
      "execution_count": 13,
      "outputs": []
    },
    {
      "cell_type": "code",
      "metadata": {
        "colab": {
          "base_uri": "https://localhost:8080/"
        },
        "id": "79XQUzBKa1jC",
        "outputId": "5b661d48-efc9-44e0-e22f-122902478630"
      },
      "source": [
        "Counter(y_test.flatten())"
      ],
      "execution_count": 14,
      "outputs": [
        {
          "output_type": "execute_result",
          "data": {
            "text/plain": [
              "Counter({0: 27488, 1: 1512})"
            ]
          },
          "metadata": {
            "tags": []
          },
          "execution_count": 14
        }
      ]
    },
    {
      "cell_type": "code",
      "metadata": {
        "colab": {
          "base_uri": "https://localhost:8080/"
        },
        "id": "247ITGH6a1mS",
        "outputId": "7f4cb6a0-976f-4a7e-cf7c-3a12ec35a5f0"
      },
      "source": [
        "Counter(y_train.flatten())"
      ],
      "execution_count": 15,
      "outputs": [
        {
          "output_type": "execute_result",
          "data": {
            "text/plain": [
              "Counter({0: 113300, 1: 6280})"
            ]
          },
          "metadata": {
            "tags": []
          },
          "execution_count": 15
        }
      ]
    },
    {
      "cell_type": "code",
      "metadata": {
        "colab": {
          "base_uri": "https://localhost:8080/"
        },
        "id": "M3kEObXVbLm-",
        "outputId": "6267358a-a76b-4c8e-a2c0-c63d776603a1"
      },
      "source": [
        "6280/(6280+113300)"
      ],
      "execution_count": 16,
      "outputs": [
        {
          "output_type": "execute_result",
          "data": {
            "text/plain": [
              "0.05251714333500585"
            ]
          },
          "metadata": {
            "tags": []
          },
          "execution_count": 16
        }
      ]
    },
    {
      "cell_type": "code",
      "metadata": {
        "colab": {
          "base_uri": "https://localhost:8080/"
        },
        "id": "xINXH2CKasrd",
        "outputId": "41ab5c79-a985-4d66-ad0a-82a6031e7579"
      },
      "source": [
        "y_test.shape"
      ],
      "execution_count": 17,
      "outputs": [
        {
          "output_type": "execute_result",
          "data": {
            "text/plain": [
              "(29000, 1)"
            ]
          },
          "metadata": {
            "tags": []
          },
          "execution_count": 17
        }
      ]
    },
    {
      "cell_type": "code",
      "metadata": {
        "id": "KKBnt4FwVaFs"
      },
      "source": [
        "from sklearn.preprocessing import StandardScaler\n",
        "\n",
        "scaler = StandardScaler().fit(X_train)\n",
        "\n",
        "X_train_np = scaler.transform(X_train)\n",
        "\n",
        "X_test_np = scaler.transform(X_test)"
      ],
      "execution_count": 18,
      "outputs": []
    },
    {
      "cell_type": "code",
      "metadata": {
        "id": "1jRp6fiDZFPk"
      },
      "source": [
        "y_train_np = y_train\n",
        "y_test_np = y_test"
      ],
      "execution_count": 19,
      "outputs": []
    },
    {
      "cell_type": "code",
      "metadata": {
        "id": "Rflwcjgg9Kf9"
      },
      "source": [
        "X_train = torch.FloatTensor(X_train_np)\n",
        "\n",
        "X_test = torch.FloatTensor(X_test_np)\n",
        "\n",
        "y_train = torch.FloatTensor(y_train_np)\n",
        "y_test = torch.FloatTensor(y_test_np)"
      ],
      "execution_count": 20,
      "outputs": []
    },
    {
      "cell_type": "code",
      "metadata": {
        "colab": {
          "base_uri": "https://localhost:8080/"
        },
        "id": "N5kGUJzdZwJn",
        "outputId": "00cb2fad-a4a4-4d59-a63f-799aec8217a0"
      },
      "source": [
        "print(y_train.shape)"
      ],
      "execution_count": 21,
      "outputs": [
        {
          "output_type": "stream",
          "text": [
            "torch.Size([119580, 1])\n"
          ],
          "name": "stdout"
        }
      ]
    },
    {
      "cell_type": "code",
      "metadata": {
        "colab": {
          "base_uri": "https://localhost:8080/"
        },
        "id": "qC-bpytQrLwJ",
        "outputId": "eadd3e84-3c95-48d2-b210-983169eeb7fb"
      },
      "source": [
        "X_train_np.shape"
      ],
      "execution_count": 22,
      "outputs": [
        {
          "output_type": "execute_result",
          "data": {
            "text/plain": [
              "(119580, 94)"
            ]
          },
          "metadata": {
            "tags": []
          },
          "execution_count": 22
        }
      ]
    },
    {
      "cell_type": "code",
      "metadata": {
        "colab": {
          "base_uri": "https://localhost:8080/"
        },
        "id": "l18ZTOEWZ83z",
        "outputId": "07669f64-0abd-413c-9854-9fa5a06b4453"
      },
      "source": [
        "X_test_np.shape"
      ],
      "execution_count": 23,
      "outputs": [
        {
          "output_type": "execute_result",
          "data": {
            "text/plain": [
              "(29000, 94)"
            ]
          },
          "metadata": {
            "tags": []
          },
          "execution_count": 23
        }
      ]
    },
    {
      "cell_type": "code",
      "metadata": {
        "colab": {
          "base_uri": "https://localhost:8080/"
        },
        "id": "-g1AiaelrFZC",
        "outputId": "7aa2ad81-5ce2-473e-aa97-27a19e60be89"
      },
      "source": [
        "batch_size = 64\n",
        "num_train_batches = int(X_train_np.shape[0]/batch_size)+1\n",
        "num_test_batches = int(X_test_np.shape[0]/batch_size)+1\n",
        "train_data_size = X_train_np.shape[0]\n",
        "test_data_size = X_test_np.shape[0]\n",
        "print(\"Train :\",num_train_batches,train_data_size)\n",
        "print(\"Test :\",num_test_batches,test_data_size)"
      ],
      "execution_count": 24,
      "outputs": [
        {
          "output_type": "stream",
          "text": [
            "Train : 1869 119580\n",
            "Test : 454 29000\n"
          ],
          "name": "stdout"
        }
      ]
    },
    {
      "cell_type": "code",
      "metadata": {
        "id": "EuEI8aCuiSKY"
      },
      "source": [
        "train_dataset = TensorDataset(X_train,y_train)\n",
        "train_dataloader = DataLoader(train_dataset,batch_size=batch_size,shuffle=True)"
      ],
      "execution_count": 25,
      "outputs": []
    },
    {
      "cell_type": "code",
      "metadata": {
        "id": "eVWd9vjVR6VT"
      },
      "source": [
        "test_dataset = TensorDataset(X_test,y_test)\n",
        "test_dataloader = DataLoader(test_dataset,batch_size=batch_size,shuffle=True)"
      ],
      "execution_count": 26,
      "outputs": []
    },
    {
      "cell_type": "code",
      "metadata": {
        "id": "db0tP1mVC9No"
      },
      "source": [
        "train_loader = DataLoader(train_dataset)\n",
        "test_loader = DataLoader(test_dataset)"
      ],
      "execution_count": 27,
      "outputs": []
    },
    {
      "cell_type": "code",
      "metadata": {
        "id": "CNg-XMB0qJet"
      },
      "source": [
        "# dataiter = iter(train_dataloader)\n",
        "# images, labels = dataiter.next()\n",
        "# print(type(images))\n",
        "# print(images.shape)\n",
        "# print(labels.shape)"
      ],
      "execution_count": 255,
      "outputs": []
    },
    {
      "cell_type": "code",
      "metadata": {
        "id": "AX24qTTy_qPC"
      },
      "source": [
        "class WSLinear(nn.Linear):\n",
        "\n",
        "    def __init__(self, in_channels, out_channels,bias=True):\n",
        "        super().__init__(in_channels, out_channels,bias=bias)\n",
        "\n",
        "        nn.init.kaiming_normal_(self.weight)\n",
        "        self.gain = nn.Parameter(torch.ones(\n",
        "            self.weight.size()[0], requires_grad=True))\n",
        "\n",
        "    def standardize_weight(self, eps):\n",
        "        mean = torch.mean(self.weight, dim=(1), keepdims=True)\n",
        "        var = torch.std(self.weight, dim=(1), keepdims=True, unbiased=False) ** 2\n",
        "        fan_in = torch.prod(torch.tensor(self.weight.shape))\n",
        "\n",
        "        scale = torch.rsqrt(torch.max(\n",
        "            var * fan_in, torch.tensor(eps))) * self.gain.view_as(var)\n",
        "        shift = mean * scale\n",
        "        return self.weight * scale - shift\n",
        "\n",
        "    def forward(self, input, eps=1e-4):\n",
        "        weight = self.standardize_weight(eps)\n",
        "        return F.linear(input, weight, self.bias)"
      ],
      "execution_count": 256,
      "outputs": []
    },
    {
      "cell_type": "code",
      "metadata": {
        "id": "Z1utHorVE4rw"
      },
      "source": [
        "class nf_block(nn.Module):\n",
        "\n",
        "  def __init__(self,in_units,out_units,alpha,beta):\n",
        "    super().__init__()\n",
        "\n",
        "    self.nn = WSLinear(in_units,out_units)\n",
        "    self.relu = nn.ReLU()\n",
        "\n",
        "    self.alpha = alpha\n",
        "    self.beta = beta\n",
        "    self.skip_gain = nn.Parameter(torch.zeros(()))\n",
        "\n",
        "  def forward(self,input):\n",
        "\n",
        "    shortcut = input\n",
        "\n",
        "    x = input*self.beta\n",
        "    x = self.nn(x)\n",
        "    out = shortcut + x*self.alpha*skip_gain\n",
        "\n",
        "    self.expected_std = (self.expected_std **2 + self.alpha**2)**0.5\n",
        "    out = relu(out)\n",
        "\n",
        "    return out"
      ],
      "execution_count": null,
      "outputs": []
    },
    {
      "cell_type": "code",
      "metadata": {
        "id": "IpsewlmNCsBh"
      },
      "source": [
        "class nf_net(nn.Module):\n",
        "\n",
        "  def __init__(self,alpha=0.2,beta=1.0):\n",
        "    super().__init__()\n",
        "\n",
        "    self.nn1 = WSLinear(94,64)\n",
        "    self.nn2 = WSLinear(64,64)\n",
        "    self.nn3 = WSLinear(64,64)\n",
        "    self.nn4 = WSLinear(64,1)\n",
        "    self.relu1 = nn.ReLU()\n",
        "    self.relu2 = nn.ReLU()\n",
        "    self.relu3 = nn.ReLU()\n",
        "    self.sigmoid = nn.Sigmoid()\n",
        "    self.alpha = alpha #rate of change of variance at res bock\n",
        "    self.expected_std = 1.0\n",
        "    self.beta = 1.0\n",
        "    self.skip_gain1 = nn.Parameter(torch.zeros(()))\n",
        "    self.skip_gain2 = nn.Parameter(torch.zeros(()))\n",
        "\n",
        "  def forward(self,x):\n",
        "\n",
        "    x = self.nn1(x)\n",
        "    x = self.relu1(x)\n",
        "\n",
        "    shortcut1 = x\n",
        "\n",
        "    self.beta = 1/(self.expected_std)\n",
        "    out1 = x*self.beta\n",
        "\n",
        "    out1 = self.nn2(x)\n",
        "    out1 = shortcut1 + out1*self.alpha*self.skip_gain1\n",
        "\n",
        "    self.expected_std = (self.expected_std **2 + self.alpha**2)**0.5\n",
        "    out1 = self.relu2(out1)\n",
        "\n",
        "    shortcut2 = out1\n",
        "\n",
        "    self.beta = 1/(self.expected_std)\n",
        "    out2 = out1*self.beta\n",
        "\n",
        "    out2 = self.nn3(out1)\n",
        "    out2 += shortcut2 + out2*self.alpha*self.skip_gain2\n",
        "    \n",
        "    self.expected_std = (self.expected_std **2 + self.alpha**2)**0.5\n",
        "    out2 = self.relu3(out2)\n",
        "\n",
        "    out3 = self.nn4(out2)\n",
        "    out3 = self.sigmoid(out3)\n",
        "\n",
        "    return out3"
      ],
      "execution_count": 257,
      "outputs": []
    },
    {
      "cell_type": "code",
      "metadata": {
        "id": "3N3VAXM4jlxD"
      },
      "source": [
        "model = nf_block()"
      ],
      "execution_count": 259,
      "outputs": []
    },
    {
      "cell_type": "code",
      "metadata": {
        "colab": {
          "base_uri": "https://localhost:8080/"
        },
        "id": "HEZEGX0PiH3b",
        "outputId": "178d5256-2d73-43f3-cef7-ec26f4e4ae0a"
      },
      "source": [
        "total_params = sum(p.numel() for p in model.parameters())\n",
        "total_params"
      ],
      "execution_count": 260,
      "outputs": [
        {
          "output_type": "execute_result",
          "data": {
            "text/plain": [
              "14660"
            ]
          },
          "metadata": {
            "tags": []
          },
          "execution_count": 260
        }
      ]
    },
    {
      "cell_type": "code",
      "metadata": {
        "colab": {
          "base_uri": "https://localhost:8080/"
        },
        "id": "87LEfcnJl0IS",
        "outputId": "c72db0a9-4fc2-4c22-a3e2-8d65bc05e029"
      },
      "source": [
        "print(model.forward)"
      ],
      "execution_count": 261,
      "outputs": [
        {
          "output_type": "stream",
          "text": [
            "<bound method nf_block.forward of nf_block(\n",
            "  (nn1): WSLinear(in_features=94, out_features=64, bias=True)\n",
            "  (nn2): WSLinear(in_features=64, out_features=64, bias=True)\n",
            "  (nn3): WSLinear(in_features=64, out_features=64, bias=True)\n",
            "  (nn4): WSLinear(in_features=64, out_features=1, bias=True)\n",
            "  (relu1): ReLU()\n",
            "  (relu2): ReLU()\n",
            "  (relu3): ReLU()\n",
            "  (sigmoid): Sigmoid()\n",
            ")>\n"
          ],
          "name": "stdout"
        }
      ]
    },
    {
      "cell_type": "code",
      "metadata": {
        "colab": {
          "base_uri": "https://localhost:8080/",
          "height": 35
        },
        "id": "SJYW3ERhEWpm",
        "outputId": "f9e0fc83-5780-413c-d0cb-501a87bdc368"
      },
      "source": [
        "os.getcwd()"
      ],
      "execution_count": 262,
      "outputs": [
        {
          "output_type": "execute_result",
          "data": {
            "application/vnd.google.colaboratory.intrinsic+json": {
              "type": "string"
            },
            "text/plain": [
              "'/content/drive/MyDrive/Colab Notebooks/Mathlogic'"
            ]
          },
          "metadata": {
            "tags": []
          },
          "execution_count": 262
        }
      ]
    },
    {
      "cell_type": "code",
      "metadata": {
        "id": "IkeqnuP7EN3_"
      },
      "source": [
        "if(os.getcwd() != r\"/content/drive/My Drive/Colab Notebooks/Mathlogic/nfnets_pytorch\"):\n",
        "  os.chdir(r\"./nfnets_pytorch\")"
      ],
      "execution_count": 263,
      "outputs": []
    },
    {
      "cell_type": "code",
      "metadata": {
        "colab": {
          "base_uri": "https://localhost:8080/",
          "height": 35
        },
        "id": "D7QsGU1FEuhY",
        "outputId": "cab5df5b-023b-4188-ba6f-440fefa4913d"
      },
      "source": [
        "os.getcwd()"
      ],
      "execution_count": 264,
      "outputs": [
        {
          "output_type": "execute_result",
          "data": {
            "application/vnd.google.colaboratory.intrinsic+json": {
              "type": "string"
            },
            "text/plain": [
              "'/content/drive/MyDrive/Colab Notebooks/Mathlogic/nfnets_pytorch'"
            ]
          },
          "metadata": {
            "tags": []
          },
          "execution_count": 264
        }
      ]
    },
    {
      "cell_type": "code",
      "metadata": {
        "id": "DAIXHFbbERmG"
      },
      "source": [
        "from nfnets import SGD_AGC"
      ],
      "execution_count": 265,
      "outputs": []
    },
    {
      "cell_type": "code",
      "metadata": {
        "id": "eAUXQ1arWFxV"
      },
      "source": [
        "# loss_func = nn.BCELoss(reduction=\"sum\")\n",
        "# optimizer = torch.optim.SGD(model.parameters(),lr=0.001)\n",
        "loss_func = nn.BCELoss()\n",
        "optimizer = SGD_AGC(\n",
        "        named_params=model.named_parameters(), # Pass named parameters\n",
        "        lr=1e-3,\n",
        "        momentum=0.9,\n",
        "        clipping=0.1, # New clipping parameter\n",
        "        weight_decay=2e-5, \n",
        "        nesterov=True)"
      ],
      "execution_count": 266,
      "outputs": []
    },
    {
      "cell_type": "code",
      "metadata": {
        "colab": {
          "base_uri": "https://localhost:8080/"
        },
        "id": "Ihr0n9jFaK9J",
        "outputId": "72450ec7-f760-4a06-d78e-ed47dc119e9e"
      },
      "source": [
        "X_train_np.shape"
      ],
      "execution_count": 267,
      "outputs": [
        {
          "output_type": "execute_result",
          "data": {
            "text/plain": [
              "(119580, 94)"
            ]
          },
          "metadata": {
            "tags": []
          },
          "execution_count": 267
        }
      ]
    },
    {
      "cell_type": "code",
      "metadata": {
        "id": "-d-20hn-WekE"
      },
      "source": [
        "epochs = 100"
      ],
      "execution_count": 268,
      "outputs": []
    },
    {
      "cell_type": "code",
      "metadata": {
        "id": "LfiU-nlLWi0i",
        "colab": {
          "base_uri": "https://localhost:8080/"
        },
        "outputId": "9384c0b7-2329-4e0f-c8b9-7c462626dafe"
      },
      "source": [
        "losses = []\n",
        "accuracy = []\n",
        "val_losses = []\n",
        "val_accuracy = []\n",
        "\n",
        "for epoch in range(epochs):\n",
        "\n",
        "  model.train()\n",
        "  running_loss = 0\n",
        "  running_val_loss = 0\n",
        "  running_acc = 0\n",
        "  running_val_acc = 0\n",
        "\n",
        "  for i,data in enumerate(train_dataloader):\n",
        "    train_x,train_y = data\n",
        "    y_pred = model(train_x)\n",
        "    loss = loss_func(y_pred,train_y)\n",
        "    # predicted = model(torch.tensor(X_train_np,dtype=torch.float32))\n",
        "    acc = (y_pred.reshape(-1).detach().numpy().round() == \n",
        "           train_y.reshape(-1).detach().numpy().round()).mean()\n",
        "    running_loss += loss.item()/(num_train_batches)\n",
        "    running_acc += acc/(num_train_batches)\n",
        "    \n",
        "    #reset grads\n",
        "    optimizer.zero_grad()\n",
        "    \n",
        "    #backward\n",
        "    loss.backward()\n",
        "\n",
        "    #weight updates\n",
        "    optimizer.step()\n",
        "\n",
        "  print(f'Epoch: {epoch+1} Loss: {running_loss} Accuracy: {running_acc}',end = \" \")\n",
        "\n",
        "  model.eval()  \n",
        "  for i,data in enumerate(test_dataloader):\n",
        "    X_val,y_val = data\n",
        "    y_pred_val = model(X_val)\n",
        "    val_loss = loss_func(y_pred_val,y_val)\n",
        "    val_acc = (y_pred_val.reshape(-1).detach().numpy().round() == \n",
        "           y_val.reshape(-1).detach().numpy().round()).mean()\n",
        "\n",
        "    running_val_loss += val_loss.item()/(num_test_batches)\n",
        "    running_val_acc += val_acc/(num_test_batches)\n",
        "    \n",
        "  print(f'Val Loss: {running_val_loss} Val Accuracy: {running_val_acc}')\n",
        "\n",
        "\n",
        "  losses.append(running_loss)\n",
        "  accuracy.append(running_acc)\n",
        "  val_losses.append(running_val_loss)\n",
        "  val_accuracy.append(running_val_acc)  "
      ],
      "execution_count": 269,
      "outputs": [
        {
          "output_type": "stream",
          "text": [
            "Epoch: 1 Loss: 0.35803694061938984 Accuracy: 0.8853987521975081 Val Loss: 0.2020885664969682 Val Accuracy: 0.9479625550660862\n",
            "Epoch: 2 Loss: 0.20219739222148642 Accuracy: 0.9474903023006992 Val Loss: 0.19947294902368257 Val Accuracy: 0.9479625550660861\n",
            "Epoch: 3 Loss: 0.19988842951726865 Accuracy: 0.9474903023006956 Val Loss: 0.1988279331015988 Val Accuracy: 0.9474807268722535\n",
            "Epoch: 4 Loss: 0.19807259129722118 Accuracy: 0.9474903023006979 Val Loss: 0.195791673973728 Val Accuracy: 0.9479625550660863\n",
            "Epoch: 5 Loss: 0.19661290712411436 Accuracy: 0.9474688049377085 Val Loss: 0.19461482133929678 Val Accuracy: 0.9479625550660861\n",
            "Epoch: 6 Loss: 0.19535088115568577 Accuracy: 0.9474604448520998 Val Loss: 0.19330333339846356 Val Accuracy: 0.9479625550660862\n",
            "Epoch: 7 Loss: 0.1941832881291296 Accuracy: 0.9474711935335948 Val Loss: 0.19311933255536964 Val Accuracy: 0.9477216409691699\n",
            "Epoch: 8 Loss: 0.19324530594333916 Accuracy: 0.9474604448520997 Val Loss: 0.1918806355807617 Val Accuracy: 0.9477216409691699\n",
            "Epoch: 9 Loss: 0.19234731257631482 Accuracy: 0.9474711935335948 Val Loss: 0.19069417308408776 Val Accuracy: 0.9479625550660862\n",
            "Epoch: 10 Loss: 0.19159618550448143 Accuracy: 0.947471193533594 Val Loss: 0.19004408225811023 Val Accuracy: 0.9479625550660862\n",
            "Epoch: 11 Loss: 0.19098665129140208 Accuracy: 0.9474520847664916 Val Loss: 0.18942858443681632 Val Accuracy: 0.9479625550660861\n",
            "Epoch: 12 Loss: 0.19038090889564854 Accuracy: 0.9474437246808851 Val Loss: 0.18893722731964707 Val Accuracy: 0.9479625550660862\n",
            "Epoch: 13 Loss: 0.18981926422616016 Accuracy: 0.9474544733623778 Val Loss: 0.19013283155563124 Val Accuracy: 0.9474807268722534\n",
            "Epoch: 14 Loss: 0.18941911453866517 Accuracy: 0.9474162558281742 Val Loss: 0.18810086650568744 Val Accuracy: 0.9479625550660863\n",
            "Epoch: 15 Loss: 0.18895297660953284 Accuracy: 0.9474401417870538 Val Loss: 0.18844140100288756 Val Accuracy: 0.9477216409691698\n",
            "Epoch: 16 Loss: 0.1887020479893701 Accuracy: 0.9473971470610735 Val Loss: 0.18809592738616318 Val Accuracy: 0.94772164096917\n",
            "Epoch: 17 Loss: 0.18831184999932563 Accuracy: 0.9474186444240633 Val Loss: 0.187151707511904 Val Accuracy: 0.9479625550660861\n",
            "Epoch: 18 Loss: 0.18800426240852963 Accuracy: 0.9474186444240628 Val Loss: 0.18688189082405635 Val Accuracy: 0.9479625550660863\n",
            "Epoch: 19 Loss: 0.18775165351501366 Accuracy: 0.9474293931055595 Val Loss: 0.1867058420397899 Val Accuracy: 0.9479625550660861\n",
            "Epoch: 20 Loss: 0.18752736388169972 Accuracy: 0.9474210330199532 Val Loss: 0.1873543776965613 Val Accuracy: 0.9477216409691699\n",
            "Epoch: 21 Loss: 0.18731381097153707 Accuracy: 0.9474210330199512 Val Loss: 0.18646289923511414 Val Accuracy: 0.9479625550660862\n",
            "Epoch: 22 Loss: 0.18716212935095913 Accuracy: 0.9473852040816341 Val Loss: 0.18611424568105137 Val Accuracy: 0.9479625550660862\n",
            "Epoch: 23 Loss: 0.1869676290423776 Accuracy: 0.9474043128487368 Val Loss: 0.18664686705933528 Val Accuracy: 0.94772164096917\n",
            "Epoch: 24 Loss: 0.18683188657962504 Accuracy: 0.9474043128487385 Val Loss: 0.18595825218583267 Val Accuracy: 0.9479969713656456\n",
            "Epoch: 25 Loss: 0.18676405057606052 Accuracy: 0.9473828154857482 Val Loss: 0.18667651122099493 Val Accuracy: 0.9477560572687291\n",
            "Epoch: 26 Loss: 0.1865921748683466 Accuracy: 0.9473935641672429 Val Loss: 0.18565691524238565 Val Accuracy: 0.9479969713656456\n",
            "Epoch: 27 Loss: 0.18645275784023566 Accuracy: 0.9474043128487369 Val Loss: 0.18560619722017913 Val Accuracy: 0.9479969713656454\n",
            "Epoch: 28 Loss: 0.1863561161340816 Accuracy: 0.9474043128487374 Val Loss: 0.18657003285666926 Val Accuracy: 0.947756057268729\n",
            "Epoch: 29 Loss: 0.18624399659020077 Accuracy: 0.9474234216158384 Val Loss: 0.18541829868133636 Val Accuracy: 0.9479625550660862\n",
            "Epoch: 30 Loss: 0.18620024770179366 Accuracy: 0.9474043128487354 Val Loss: 0.1852765263013117 Val Accuracy: 0.9479625550660861\n",
            "Epoch: 31 Loss: 0.18609230752900813 Accuracy: 0.947431781701447 Val Loss: 0.1852069635534995 Val Accuracy: 0.9479625550660861\n",
            "Epoch: 32 Loss: 0.18609369166869086 Accuracy: 0.9473995356569606 Val Loss: 0.18585779380036874 Val Accuracy: 0.9477216409691698\n",
            "Epoch: 33 Loss: 0.18596228608964208 Accuracy: 0.9474126729343448 Val Loss: 0.18562616087857306 Val Accuracy: 0.9477216409691697\n",
            "Epoch: 34 Loss: 0.18589610569159135 Accuracy: 0.9474377531911669 Val Loss: 0.18500612072219938 Val Accuracy: 0.9479625550660862\n",
            "Epoch: 35 Loss: 0.18578647800216455 Accuracy: 0.9474485018726618 Val Loss: 0.18497616667218403 Val Accuracy: 0.947962555066086\n",
            "Epoch: 36 Loss: 0.1858065641435823 Accuracy: 0.947416255828175 Val Loss: 0.1853882274241702 Val Accuracy: 0.9477216409691699\n",
            "Epoch: 37 Loss: 0.18573612376545248 Accuracy: 0.9474270045096708 Val Loss: 0.18541703922961225 Val Accuracy: 0.9477216409691699\n",
            "Epoch: 38 Loss: 0.18571667672160366 Accuracy: 0.9474055071466815 Val Loss: 0.18485475485807995 Val Accuracy: 0.9479625550660862\n",
            "Epoch: 39 Loss: 0.18564312834115268 Accuracy: 0.9474055071466803 Val Loss: 0.18483388848143273 Val Accuracy: 0.9479625550660862\n",
            "Epoch: 40 Loss: 0.18560704186263666 Accuracy: 0.9474162558281767 Val Loss: 0.1847037586674816 Val Accuracy: 0.9479625550660863\n",
            "Epoch: 41 Loss: 0.18545923093229175 Accuracy: 0.9474377531911635 Val Loss: 0.1853624308473607 Val Accuracy: 0.9477216409691699\n",
            "Epoch: 42 Loss: 0.18546043459969844 Accuracy: 0.9474377531911655 Val Loss: 0.18459987426217703 Val Accuracy: 0.9479625550660861\n",
            "Epoch: 43 Loss: 0.185405262667684 Accuracy: 0.9474461132767735 Val Loss: 0.18458468793985744 Val Accuracy: 0.9479625550660863\n",
            "Epoch: 44 Loss: 0.18546310524815499 Accuracy: 0.9474162558281753 Val Loss: 0.18506357262510031 Val Accuracy: 0.9477216409691699\n",
            "Epoch: 45 Loss: 0.1853241978393579 Accuracy: 0.9474461132767728 Val Loss: 0.18445747069161117 Val Accuracy: 0.9479625550660862\n",
            "Epoch: 46 Loss: 0.18538270489282302 Accuracy: 0.9474031185507923 Val Loss: 0.18446356108174206 Val Accuracy: 0.9479625550660862\n",
            "Epoch: 47 Loss: 0.18528044211427516 Accuracy: 0.9474353645952772 Val Loss: 0.18525709086282383 Val Accuracy: 0.9477216409691699\n",
            "Epoch: 48 Loss: 0.18516924327718787 Accuracy: 0.9474568619582698 Val Loss: 0.1844253072982843 Val Accuracy: 0.9479625550660861\n",
            "Epoch: 49 Loss: 0.18513481194176368 Accuracy: 0.9474568619582682 Val Loss: 0.18433133777772526 Val Accuracy: 0.947962555066086\n",
            "Epoch: 50 Loss: 0.1850899574434043 Accuracy: 0.947456861958268 Val Loss: 0.1848420574440565 Val Accuracy: 0.9477216409691699\n",
            "Epoch: 51 Loss: 0.18509451778074384 Accuracy: 0.9474461132767728 Val Loss: 0.1843445064081493 Val Accuracy: 0.9479625550660861\n",
            "Epoch: 52 Loss: 0.18506246846848937 Accuracy: 0.9474461132767719 Val Loss: 0.1842682812658306 Val Accuracy: 0.947962555066086\n",
            "Epoch: 53 Loss: 0.1850040403297875 Accuracy: 0.9474544733623809 Val Loss: 0.18421516441104152 Val Accuracy: 0.9479625550660862\n",
            "Epoch: 54 Loss: 0.18497911982792406 Accuracy: 0.9474544733623816 Val Loss: 0.18420402240418376 Val Accuracy: 0.9479625550660861\n",
            "Epoch: 55 Loss: 0.1849621270726936 Accuracy: 0.947443724680885 Val Loss: 0.18426279988681432 Val Accuracy: 0.9479625550660861\n",
            "Epoch: 56 Loss: 0.18495710572420196 Accuracy: 0.9474437246808864 Val Loss: 0.18411704844544893 Val Accuracy: 0.9479625550660861\n",
            "Epoch: 57 Loss: 0.1848655704801548 Accuracy: 0.9474735821294838 Val Loss: 0.18416711151402954 Val Accuracy: 0.9479625550660862\n",
            "Epoch: 58 Loss: 0.18487536651867162 Accuracy: 0.947452084766493 Val Loss: 0.18452880549601522 Val Accuracy: 0.94772164096917\n",
            "Epoch: 59 Loss: 0.18480679533733865 Accuracy: 0.9474735821294827 Val Loss: 0.18412227328817482 Val Accuracy: 0.9479625550660861\n",
            "Epoch: 60 Loss: 0.18476076546105677 Accuracy: 0.9474735821294841 Val Loss: 0.18415569966978973 Val Accuracy: 0.9479625550660862\n",
            "Epoch: 61 Loss: 0.1848324438813155 Accuracy: 0.947441336084998 Val Loss: 0.18407652636226848 Val Accuracy: 0.9479625550660862\n",
            "Epoch: 62 Loss: 0.18478167916305754 Accuracy: 0.9474413360849961 Val Loss: 0.18399407885279412 Val Accuracy: 0.9479625550660862\n",
            "Epoch: 63 Loss: 0.18474145722164362 Accuracy: 0.9474520847664926 Val Loss: 0.18470679537807524 Val Accuracy: 0.9477216409691697\n",
            "Epoch: 64 Loss: 0.18468187850839715 Accuracy: 0.947479553619203 Val Loss: 0.18411384455629892 Val Accuracy: 0.9479625550660863\n",
            "Epoch: 65 Loss: 0.18462373702370807 Accuracy: 0.9474819422150912 Val Loss: 0.185049458944325 Val Accuracy: 0.9474807268722534\n",
            "Epoch: 66 Loss: 0.1846234782426004 Accuracy: 0.9474795536191997 Val Loss: 0.1839209316946601 Val Accuracy: 0.9479625550660861\n",
            "Epoch: 67 Loss: 0.18458562244453375 Accuracy: 0.947490302300697 Val Loss: 0.18385817501119586 Val Accuracy: 0.9479625550660862\n",
            "Epoch: 68 Loss: 0.1846003981896139 Accuracy: 0.9474688049377064 Val Loss: 0.18486798018840706 Val Accuracy: 0.94772164096917\n",
            "Epoch: 69 Loss: 0.1845491260505414 Accuracy: 0.9474903023006959 Val Loss: 0.1838447418851604 Val Accuracy: 0.9479625550660862\n",
            "Epoch: 70 Loss: 0.18448199755713987 Accuracy: 0.9474903023006982 Val Loss: 0.1838531308532548 Val Accuracy: 0.9479625550660862\n",
            "Epoch: 71 Loss: 0.18450586718630183 Accuracy: 0.9474795536192012 Val Loss: 0.18381862408001523 Val Accuracy: 0.9479625550660861\n",
            "Epoch: 72 Loss: 0.1845681163008481 Accuracy: 0.9474580562562122 Val Loss: 0.1844089943997661 Val Accuracy: 0.9477216409691699\n",
            "Epoch: 73 Loss: 0.18447107620190467 Accuracy: 0.9474688049377069 Val Loss: 0.18378260406759864 Val Accuracy: 0.9479625550660861\n",
            "Epoch: 74 Loss: 0.18441920925814792 Accuracy: 0.9474795536192006 Val Loss: 0.18371684973985616 Val Accuracy: 0.9479625550660861\n",
            "Epoch: 75 Loss: 0.18439556233517124 Accuracy: 0.947479553619202 Val Loss: 0.18369478024214098 Val Accuracy: 0.9479625550660862\n",
            "Epoch: 76 Loss: 0.18435312847623272 Accuracy: 0.9474795536192014 Val Loss: 0.1843871486820444 Val Accuracy: 0.94772164096917\n",
            "Epoch: 77 Loss: 0.18437042974091086 Accuracy: 0.947477165023316 Val Loss: 0.18366878688138494 Val Accuracy: 0.9479625550660861\n",
            "Epoch: 78 Loss: 0.18431169437239542 Accuracy: 0.9474879137048093 Val Loss: 0.1837771790028277 Val Accuracy: 0.9479625550660861\n",
            "Epoch: 79 Loss: 0.18426862409873593 Accuracy: 0.9474879137048089 Val Loss: 0.18368566993804497 Val Accuracy: 0.9479625550660862\n",
            "Epoch: 80 Loss: 0.18426781941609877 Accuracy: 0.94748791370481 Val Loss: 0.1836454567913835 Val Accuracy: 0.9479625550660862\n",
            "Epoch: 81 Loss: 0.18429287123195345 Accuracy: 0.9474771650233149 Val Loss: 0.18410493156950658 Val Accuracy: 0.9477216409691699\n",
            "Epoch: 82 Loss: 0.1842024514801428 Accuracy: 0.9474986623863038 Val Loss: 0.1847426933010769 Val Accuracy: 0.9474807268722534\n",
            "Epoch: 83 Loss: 0.1842348202026545 Accuracy: 0.9474771650233148 Val Loss: 0.18454703363684305 Val Accuracy: 0.9477216409691699\n",
            "Epoch: 84 Loss: 0.18421452363714783 Accuracy: 0.9474771650233158 Val Loss: 0.18416860867866053 Val Accuracy: 0.9477216409691698\n",
            "Epoch: 85 Loss: 0.18416408092030703 Accuracy: 0.9474879137048104 Val Loss: 0.18347417064306518 Val Accuracy: 0.9479625550660862\n",
            "Epoch: 86 Loss: 0.18423154618274148 Accuracy: 0.9474556676603254 Val Loss: 0.18352351454189178 Val Accuracy: 0.9479625550660862\n",
            "Epoch: 87 Loss: 0.18413588704034087 Accuracy: 0.9474664163418193 Val Loss: 0.18437354260079133 Val Accuracy: 0.9477216409691698\n",
            "Epoch: 88 Loss: 0.1840555120743869 Accuracy: 0.9474986623863045 Val Loss: 0.18362530554739118 Val Accuracy: 0.9479625550660862\n",
            "Epoch: 89 Loss: 0.18407793443923082 Accuracy: 0.9474879137048103 Val Loss: 0.18350619493700604 Val Accuracy: 0.9479625550660862\n",
            "Epoch: 90 Loss: 0.1840308545592825 Accuracy: 0.9474903023006971 Val Loss: 0.18410169325834608 Val Accuracy: 0.9477216409691699\n",
            "Epoch: 91 Loss: 0.1840448005293354 Accuracy: 0.9474747764274283 Val Loss: 0.18406631576824564 Val Accuracy: 0.9477216409691699\n",
            "Epoch: 92 Loss: 0.1839785578876431 Accuracy: 0.9474879137048087 Val Loss: 0.18346321998812293 Val Accuracy: 0.9479625550660861\n",
            "Epoch: 93 Loss: 0.1839795917404119 Accuracy: 0.9474795536192022 Val Loss: 0.18384931604931787 Val Accuracy: 0.94772164096917\n",
            "Epoch: 94 Loss: 0.18396316267601825 Accuracy: 0.9474795536192028 Val Loss: 0.1839056018296843 Val Accuracy: 0.9477216409691699\n",
            "Epoch: 95 Loss: 0.18393732784759406 Accuracy: 0.9474711935335955 Val Loss: 0.18346860004580762 Val Accuracy: 0.9479625550660862\n",
            "Epoch: 96 Loss: 0.183926399181302 Accuracy: 0.9474711935335947 Val Loss: 0.18392679833761916 Val Accuracy: 0.9477216409691699\n",
            "Epoch: 97 Loss: 0.18393467823736132 Accuracy: 0.9474580562562129 Val Loss: 0.18332102673234912 Val Accuracy: 0.9479625550660861\n",
            "Epoch: 98 Loss: 0.18390423590651228 Accuracy: 0.9474688049377087 Val Loss: 0.18381023919825257 Val Accuracy: 0.9477216409691698\n",
            "Epoch: 99 Loss: 0.18387869505113055 Accuracy: 0.947468804937708 Val Loss: 0.1839446271092748 Val Accuracy: 0.94772164096917\n",
            "Epoch: 100 Loss: 0.18377945246249675 Accuracy: 0.9474986623863046 Val Loss: 0.18338635595031239 Val Accuracy: 0.9479281387665266\n"
          ],
          "name": "stdout"
        }
      ]
    },
    {
      "cell_type": "code",
      "metadata": {
        "colab": {
          "base_uri": "https://localhost:8080/",
          "height": 312
        },
        "id": "CtyhJrb_6Atu",
        "outputId": "83b3e914-476d-4452-fb89-0b878df61c63"
      },
      "source": [
        "plt.plot(losses,'r',label='train')\n",
        "plt.plot(val_losses,'b',label='val')\n",
        "plt.legend()\n",
        "plt.title('Loss vs Epochs')\n",
        "plt.xlabel('Epochs')\n",
        "plt.ylabel('loss')"
      ],
      "execution_count": 270,
      "outputs": [
        {
          "output_type": "execute_result",
          "data": {
            "text/plain": [
              "Text(0, 0.5, 'loss')"
            ]
          },
          "metadata": {
            "tags": []
          },
          "execution_count": 270
        },
        {
          "output_type": "display_data",
          "data": {
            "image/png": "[encoded data removed]",
            "text/plain": [
              "<Figure size 432x288 with 1 Axes>"
            ]
          },
          "metadata": {
            "tags": [],
            "needs_background": "light"
          }
        }
      ]
    },
    {
      "cell_type": "code",
      "metadata": {
        "colab": {
          "base_uri": "https://localhost:8080/",
          "height": 312
        },
        "id": "AzSuJ9x-7l8x",
        "outputId": "9a056ca3-251b-4a48-b46b-b3948dccf2d2"
      },
      "source": [
        "plt.plot(accuracy,'r',label='train')\n",
        "plt.plot(val_accuracy,'b',label='val')\n",
        "plt.legend()\n",
        "plt.title('Accuracy vs Epochs')\n",
        "plt.xlabel('Accuracy')\n",
        "plt.ylabel('loss')"
      ],
      "execution_count": 271,
      "outputs": [
        {
          "output_type": "execute_result",
          "data": {
            "text/plain": [
              "Text(0, 0.5, 'loss')"
            ]
          },
          "metadata": {
            "tags": []
          },
          "execution_count": 271
        },
        {
          "output_type": "display_data",
          "data": {
            "image/png": "[encoded data removed]",
            "text/plain": [
              "<Figure size 432x288 with 1 Axes>"
            ]
          },
          "metadata": {
            "tags": [],
            "needs_background": "light"
          }
        }
      ]
    },
    {
      "cell_type": "code",
      "metadata": {
        "id": "bhkcr8esml5p"
      },
      "source": [
        ""
      ],
      "execution_count": 271,
      "outputs": []
    },
    {
      "cell_type": "code",
      "metadata": {
        "id": "C6yL3SPrmmN_"
      },
      "source": [
        "model.eval()\n",
        "preds_train = []\n",
        "with torch.no_grad():\n",
        "   for i,data in enumerate(train_loader):\n",
        "     trainx,trainy = data\n",
        "     y_hat = model.forward(trainx)\n",
        "     preds_train.append(y_hat)"
      ],
      "execution_count": 272,
      "outputs": []
    },
    {
      "cell_type": "code",
      "metadata": {
        "colab": {
          "base_uri": "https://localhost:8080/"
        },
        "id": "6jflFkP_mmOA",
        "outputId": "e46fa857-e063-4799-f43b-179ec15d8cc4"
      },
      "source": [
        "preds_train = np.array(preds_train)\n",
        "preds_train"
      ],
      "execution_count": 273,
      "outputs": [
        {
          "output_type": "execute_result",
          "data": {
            "text/plain": [
              "array([0.0670393 , 0.00645583, 0.03716525, ..., 0.03160442, 0.02750487,\n",
              "       0.05153205], dtype=float32)"
            ]
          },
          "metadata": {
            "tags": []
          },
          "execution_count": 273
        }
      ]
    },
    {
      "cell_type": "code",
      "metadata": {
        "id": "VafrbPmbhNxa"
      },
      "source": [
        "def best_f1(preds,y_test_np):\n",
        "  f1_max = 0\n",
        "  cutoff = -1\n",
        "  for i in np.arange(0.01,1,0.01):\n",
        "    preds1 = (preds>=i)*1 \n",
        "    #print(sum(preds1))\n",
        "    f1_score = sklearn.metrics.precision_recall_fscore_support(preds1,y_test_np)[2][1]\n",
        "    print(f1_score)\n",
        "    if (not f1_score):\n",
        "      break\n",
        "    if (f1_score > f1_max):\n",
        "      f1_max = f1_score\n",
        "      cutoff = i\n",
        "  return cutoff,f1_max"
      ],
      "execution_count": 274,
      "outputs": []
    },
    {
      "cell_type": "code",
      "metadata": {
        "id": "eMWeHhaOnJov",
        "colab": {
          "base_uri": "https://localhost:8080/"
        },
        "outputId": "f702928d-73ff-4c29-c154-9434eb37d5bb"
      },
      "source": [
        "train_cutoff,train_f1 = best_f1(preds_train,y_train_np)"
      ],
      "execution_count": 275,
      "outputs": [
        {
          "output_type": "stream",
          "text": [
            "0.11258963420168829\n",
            "0.12985270084526557\n",
            "0.14562508030322496\n",
            "0.1596299309887593\n",
            "0.17128401953942776\n",
            "0.1820218874417302\n",
            "0.19234575288242467\n",
            "0.20154364604848354\n",
            "0.21020578885728627\n",
            "0.21730617006207556\n",
            "0.2186255231180356\n",
            "0.2154666666666667\n",
            "0.210038188761593\n",
            "0.20527408318597679\n",
            "0.1957207399198704\n",
            "0.18256181446365496\n",
            "0.16978851963746225\n",
            "0.15563950350782516\n",
            "0.14251290877796902\n",
            "0.1306859205776173\n",
            "0.11958710976837864\n",
            "0.10465724751439039\n",
            "0.09187659975751045\n",
            "0.08064292642372176\n",
            "0.07026027592092163\n",
            "0.062201649066975256\n",
            "0.04957945993802568\n",
            "0.04343918514080287\n",
            "0.03785584494245911\n",
            "0.032031726662599146\n",
            "0.026433072076225604\n",
            "0.02228412256267409\n",
            "0.016827672172016202\n",
            "0.013145539906103287\n",
            "0.010990736379337415\n",
            "0.00787897888433659\n",
            "0.006945540647198106\n",
            "0.005377194369761189\n",
            "0.003484872485347695\n",
            "0.0031710797526557795\n",
            "0.002223280927425758\n",
            "0.0022236340533672173\n",
            "0.0019068806610519626\n",
            "0.001271657924018439\n",
            "0.001271860095389507\n",
            "0.0012722646310432569\n",
            "0.0009543502465404803\n",
            "0.0009545020680878142\n",
            "0.0009545020680878142\n",
            "0.0009545020680878142\n",
            "0.0009545020680878142\n",
            "0.0006364359586316626\n",
            "0.00031826861871419476\n",
            "0.0003183192742320547\n",
            "0.0003183192742320547\n",
            "0.0003183192742320547\n",
            "0.00031836994587710915\n",
            "0.00031836994587710915\n",
            "0.00031836994587710915\n",
            "0.00031836994587710915\n",
            "0.00031836994587710915\n",
            "0.00031836994587710915\n",
            "0.00031836994587710915\n",
            "0.00031836994587710915\n",
            "0.00031836994587710915\n",
            "0.00031842063365706094\n",
            "0.00031842063365706094\n",
            "0.00031842063365706094\n",
            "0.0\n"
          ],
          "name": "stdout"
        },
        {
          "output_type": "stream",
          "text": [
            "/usr/local/lib/python3.7/dist-packages/sklearn/metrics/_classification.py:1272: UndefinedMetricWarning: Recall and F-score are ill-defined and being set to 0.0 in labels with no true samples. Use `zero_division` parameter to control this behavior.\n",
            "  _warn_prf(average, modifier, msg_start, len(result))\n"
          ],
          "name": "stderr"
        }
      ]
    },
    {
      "cell_type": "code",
      "metadata": {
        "colab": {
          "base_uri": "https://localhost:8080/"
        },
        "id": "cr7o6G_SnW_O",
        "outputId": "e729b3d8-10be-4f8d-96ad-d63c189bc497"
      },
      "source": [
        "train_cutoff,train_f1"
      ],
      "execution_count": 276,
      "outputs": [
        {
          "output_type": "execute_result",
          "data": {
            "text/plain": [
              "(0.11, 0.2186255231180356)"
            ]
          },
          "metadata": {
            "tags": []
          },
          "execution_count": 276
        }
      ]
    },
    {
      "cell_type": "code",
      "metadata": {
        "id": "4zhpl5OcnjEL"
      },
      "source": [
        "preds_train_ideal = (preds_train>=train_cutoff)*1"
      ],
      "execution_count": 277,
      "outputs": []
    },
    {
      "cell_type": "code",
      "metadata": {
        "colab": {
          "base_uri": "https://localhost:8080/"
        },
        "id": "DPP81ye5njEN",
        "outputId": "2fbb1de1-caf8-492f-a033-9ae5c14f3a3d"
      },
      "source": [
        "print(classification_report(preds_train_ideal,y_train_np))"
      ],
      "execution_count": 278,
      "outputs": [
        {
          "output_type": "stream",
          "text": [
            "              precision    recall  f1-score   support\n",
            "\n",
            "           0       0.90      0.96      0.93    106027\n",
            "           1       0.35      0.16      0.22     13553\n",
            "\n",
            "    accuracy                           0.87    119580\n",
            "   macro avg       0.62      0.56      0.57    119580\n",
            "weighted avg       0.84      0.87      0.85    119580\n",
            "\n"
          ],
          "name": "stdout"
        }
      ]
    },
    {
      "cell_type": "code",
      "metadata": {
        "id": "bMJzTRaDnXEr"
      },
      "source": [
        ""
      ],
      "execution_count": 278,
      "outputs": []
    },
    {
      "cell_type": "code",
      "metadata": {
        "id": "PzEK_zwEZXZT"
      },
      "source": [
        "model.eval()\n",
        "preds = []\n",
        "with torch.no_grad():\n",
        "   for i,data in enumerate(test_loader):\n",
        "     test_x,test_y = data\n",
        "     y_hat = model.forward(test_x)\n",
        "     preds.append(y_hat)"
      ],
      "execution_count": 279,
      "outputs": []
    },
    {
      "cell_type": "code",
      "metadata": {
        "colab": {
          "base_uri": "https://localhost:8080/"
        },
        "id": "n7RGgiWSGYe0",
        "outputId": "ca351f7d-4868-4ab7-a089-f4c656584d2f"
      },
      "source": [
        "np.array(preds)"
      ],
      "execution_count": 280,
      "outputs": [
        {
          "output_type": "execute_result",
          "data": {
            "text/plain": [
              "array([0.03414324, 0.01423776, 0.1903945 , ..., 0.10365236, 0.08442285,\n",
              "       0.10784815], dtype=float32)"
            ]
          },
          "metadata": {
            "tags": []
          },
          "execution_count": 280
        }
      ]
    },
    {
      "cell_type": "code",
      "metadata": {
        "id": "vLacuU0ECiF2"
      },
      "source": [
        "preds = np.array(preds)\n",
        "# preds[preds>=0.5] = 1\n",
        "# preds[preds<=0.5] = 0\n"
      ],
      "execution_count": 281,
      "outputs": []
    },
    {
      "cell_type": "code",
      "metadata": {
        "colab": {
          "base_uri": "https://localhost:8080/"
        },
        "id": "FUgPQ-cpiV_z",
        "outputId": "5aee7268-3fb7-4025-9923-527d79024400"
      },
      "source": [
        "np.unique(preds)"
      ],
      "execution_count": 282,
      "outputs": [
        {
          "output_type": "execute_result",
          "data": {
            "text/plain": [
              "array([9.3499133e-05, 1.2494100e-04, 1.6504656e-04, ..., 4.2650259e-01,\n",
              "       4.5736414e-01, 5.0609219e-01], dtype=float32)"
            ]
          },
          "metadata": {
            "tags": []
          },
          "execution_count": 282
        }
      ]
    },
    {
      "cell_type": "code",
      "metadata": {
        "id": "f5XnvDV-jz8R"
      },
      "source": [
        "preds_dummy = (preds>=0.5)*1"
      ],
      "execution_count": 283,
      "outputs": []
    },
    {
      "cell_type": "code",
      "metadata": {
        "colab": {
          "base_uri": "https://localhost:8080/"
        },
        "id": "5L8P-jT4jyRw",
        "outputId": "469df9b0-a280-4d86-c879-28d5349cff78"
      },
      "source": [
        "sklearn.metrics.precision_recall_fscore_support(preds_dummy,y_test_np)"
      ],
      "execution_count": 284,
      "outputs": [
        {
          "output_type": "execute_result",
          "data": {
            "text/plain": [
              "(array([0.99996362, 0.        ]),\n",
              " array([0.94786027, 0.        ]),\n",
              " array([0.97321508, 0.        ]),\n",
              " array([28999,     1]))"
            ]
          },
          "metadata": {
            "tags": []
          },
          "execution_count": 284
        }
      ]
    },
    {
      "cell_type": "code",
      "metadata": {
        "colab": {
          "base_uri": "https://localhost:8080/"
        },
        "id": "SzIBq2WNkVdS",
        "outputId": "5a919e17-e80e-44c4-b292-804bc689edc4"
      },
      "source": [
        "sklearn.metrics.precision_recall_fscore_support(preds_dummy,y_test_np)[2][1]"
      ],
      "execution_count": 285,
      "outputs": [
        {
          "output_type": "execute_result",
          "data": {
            "text/plain": [
              "0.0"
            ]
          },
          "metadata": {
            "tags": []
          },
          "execution_count": 285
        }
      ]
    },
    {
      "cell_type": "code",
      "metadata": {
        "colab": {
          "base_uri": "https://localhost:8080/"
        },
        "id": "4i0-9eJhjKhP",
        "outputId": "fdf9f531-2ccc-44a5-9863-21857d076d8a"
      },
      "source": [
        "np.arange(0.01,1,0.01)"
      ],
      "execution_count": 286,
      "outputs": [
        {
          "output_type": "execute_result",
          "data": {
            "text/plain": [
              "array([0.01, 0.02, 0.03, 0.04, 0.05, 0.06, 0.07, 0.08, 0.09, 0.1 , 0.11,\n",
              "       0.12, 0.13, 0.14, 0.15, 0.16, 0.17, 0.18, 0.19, 0.2 , 0.21, 0.22,\n",
              "       0.23, 0.24, 0.25, 0.26, 0.27, 0.28, 0.29, 0.3 , 0.31, 0.32, 0.33,\n",
              "       0.34, 0.35, 0.36, 0.37, 0.38, 0.39, 0.4 , 0.41, 0.42, 0.43, 0.44,\n",
              "       0.45, 0.46, 0.47, 0.48, 0.49, 0.5 , 0.51, 0.52, 0.53, 0.54, 0.55,\n",
              "       0.56, 0.57, 0.58, 0.59, 0.6 , 0.61, 0.62, 0.63, 0.64, 0.65, 0.66,\n",
              "       0.67, 0.68, 0.69, 0.7 , 0.71, 0.72, 0.73, 0.74, 0.75, 0.76, 0.77,\n",
              "       0.78, 0.79, 0.8 , 0.81, 0.82, 0.83, 0.84, 0.85, 0.86, 0.87, 0.88,\n",
              "       0.89, 0.9 , 0.91, 0.92, 0.93, 0.94, 0.95, 0.96, 0.97, 0.98, 0.99])"
            ]
          },
          "metadata": {
            "tags": []
          },
          "execution_count": 286
        }
      ]
    },
    {
      "cell_type": "code",
      "metadata": {
        "id": "xPgbAh5RmW7O",
        "colab": {
          "base_uri": "https://localhost:8080/"
        },
        "outputId": "68451260-a8d2-491d-c92a-8ac95df8199a"
      },
      "source": [
        "cutoff,f1_max = best_f1(preds,y_test_np)"
      ],
      "execution_count": 287,
      "outputs": [
        {
          "output_type": "stream",
          "text": [
            "0.11187077385424492\n",
            "0.12811547426932043\n",
            "0.1444285031085605\n",
            "0.15822233287688287\n",
            "0.1695573947463116\n",
            "0.18041024796111707\n",
            "0.19014151391395195\n",
            "0.2020497803806735\n",
            "0.20906492445896285\n",
            "0.21341463414634143\n",
            "0.21236393509960977\n",
            "0.20806179097272506\n",
            "0.20498614958448752\n",
            "0.1930862659607599\n",
            "0.19393093826299268\n",
            "0.18376722817764163\n",
            "0.166598611678236\n",
            "0.15296703296703298\n",
            "0.13696060037523453\n",
            "0.12935323383084577\n",
            "0.1204323211528564\n",
            "0.11367292225201071\n",
            "0.0969359331476323\n",
            "0.08710601719197708\n",
            "0.07896287566293458\n",
            "0.05914302957151479\n",
            "0.05382262996941896\n",
            "0.04477611940298507\n",
            "0.04153555695405915\n",
            "0.03677869372225745\n",
            "0.03437301082113304\n",
            "0.02697495183044316\n",
            "0.02324080051646223\n",
            "0.018170019467878\n",
            "0.014341590612777051\n",
            "0.01045751633986928\n",
            "0.006561679790026246\n",
            "0.006565988181221273\n",
            "0.0026333113890717576\n",
            "0.0026333113890717576\n",
            "0.0013175230566534913\n",
            "0.0\n"
          ],
          "name": "stdout"
        }
      ]
    },
    {
      "cell_type": "code",
      "metadata": {
        "colab": {
          "base_uri": "https://localhost:8080/"
        },
        "id": "KhGhKEO-myMF",
        "outputId": "e5a4f403-4b9f-4853-c4a6-44d48558b98c"
      },
      "source": [
        "print(cutoff,f1_max)"
      ],
      "execution_count": 288,
      "outputs": [
        {
          "output_type": "stream",
          "text": [
            "0.09999999999999999 0.21341463414634143\n"
          ],
          "name": "stdout"
        }
      ]
    },
    {
      "cell_type": "code",
      "metadata": {
        "id": "52FCW9zcoN6o"
      },
      "source": [
        "preds_ideal = (preds>=cutoff)*1"
      ],
      "execution_count": 289,
      "outputs": []
    },
    {
      "cell_type": "code",
      "metadata": {
        "id": "YUnzaot8GB2W",
        "colab": {
          "base_uri": "https://localhost:8080/"
        },
        "outputId": "4c319b5b-49b2-4cf3-f356-be7cdd4cbe33"
      },
      "source": [
        "print(classification_report(preds_ideal,y_test_np))"
      ],
      "execution_count": 290,
      "outputs": [
        {
          "output_type": "stream",
          "text": [
            "              precision    recall  f1-score   support\n",
            "\n",
            "           0       0.86      0.96      0.91     24608\n",
            "           1       0.42      0.14      0.21      4392\n",
            "\n",
            "    accuracy                           0.84     29000\n",
            "   macro avg       0.64      0.55      0.56     29000\n",
            "weighted avg       0.80      0.84      0.81     29000\n",
            "\n"
          ],
          "name": "stdout"
        }
      ]
    },
    {
      "cell_type": "code",
      "metadata": {
        "id": "8BooV-hSKu8n"
      },
      "source": [
        ""
      ],
      "execution_count": 290,
      "outputs": []
    }
  ]
}