{
 "cells": [
  {
   "cell_type": "code",
   "execution_count": 209,
   "id": "executive-shanghai",
   "metadata": {},
   "outputs": [],
   "source": [
    "import numpy as np\n",
    "import pandas as pd\n",
    "import sklearn\n",
    "from matplotlib import pyplot as plt\n",
    "import tensorflow as tf\n",
    "from tensorflow.keras import models,layers\n",
    "import tensorflow_addons as tfa\n",
    "import time\n",
    "from sklearn.model_selection import train_test_split\n",
    "from sklearn.metrics import classification_report, confusion_matrix\n",
    "import seaborn as sns\n",
    "import os"
   ]
  },
  {
   "cell_type": "code",
   "execution_count": 210,
   "id": "boolean-malta",
   "metadata": {},
   "outputs": [
    {
     "data": {
      "text/plain": [
       "['my_first_model.png',\n",
       " 'valid.csv',\n",
       " 'structured_data_classifier',\n",
       " 'books_read.png',\n",
       " 'catboost_info',\n",
       " 'rgb_cube.gif',\n",
       " 'test.csv',\n",
       " 'model.png',\n",
       " 'inhadr_tsne1.gif',\n",
       " 'train.csv']"
      ]
     },
     "execution_count": 210,
     "metadata": {},
     "output_type": "execute_result"
    }
   ],
   "source": [
    "os.listdir(\"/data2/training_data/summer/class\")"
   ]
  },
  {
   "cell_type": "code",
   "execution_count": 211,
   "id": "demographic-mention",
   "metadata": {},
   "outputs": [
    {
     "name": "stdout",
     "output_type": "stream",
     "text": [
      "(90000, 95)\n"
     ]
    }
   ],
   "source": [
    "train = pd.read_csv(\"/data2/training_data/summer/class/train.csv\")\n",
    "print(train.shape)"
   ]
  },
  {
   "cell_type": "code",
   "execution_count": 212,
   "id": "wrong-questionnaire",
   "metadata": {},
   "outputs": [
    {
     "data": {
      "text/plain": [
       "Index(['trn_id', 'target', 'x0', 'x1', 'x2', 'x3', 'x4', 'x5', 'x6', 'x7',\n",
       "       'x8', 'x9', 'x10', 'x11', 'x12', 'x13', 'x14', 'x15', 'x16', 'x17',\n",
       "       'x18', 'x19', 'x20', 'x21', 'x22', 'x23', 'x24', 'x25', 'x26', 'x27',\n",
       "       'x28', 'x29', 'x30', 'x31', 'x32', 'x33', 'x34', 'x35', 'x36', 'x37',\n",
       "       'x38', 'x39', 'x40', 'x41', 'x42', 'x43', 'x44', 'x45', 'x46', 'x47',\n",
       "       'x48', 'x49', 'x50', 'x51', 'x52', 'x53', 'x54', 'x55', 'x56', 'x57',\n",
       "       'x58', 'x59', 'x60', 'x61', 'x62', 'x63', 'x64', 'x65', 'x66', 'x67',\n",
       "       'x68', 'x69', 'x70', 'x71', 'x72', 'x73', 'x74', 'x75', 'x76', 'x77',\n",
       "       'x78', 'x79', 'x80', 'x81', 'x82', 'x83', 'x84', 'x85', 'x86', 'x87',\n",
       "       'x88', 'x89', 'x90', 'x91', 'x92'],\n",
       "      dtype='object')"
      ]
     },
     "execution_count": 212,
     "metadata": {},
     "output_type": "execute_result"
    }
   ],
   "source": [
    "train.columns"
   ]
  },
  {
   "cell_type": "code",
   "execution_count": 213,
   "id": "partial-printing",
   "metadata": {},
   "outputs": [
    {
     "data": {
      "text/plain": [
       "array([0, 1, 2, 3])"
      ]
     },
     "execution_count": 213,
     "metadata": {},
     "output_type": "execute_result"
    }
   ],
   "source": [
    "train['target'].unique()"
   ]
  },
  {
   "cell_type": "code",
   "execution_count": 214,
   "id": "governing-seventh",
   "metadata": {},
   "outputs": [],
   "source": [
    "a = np.where(train['target']==0,0,1)"
   ]
  },
  {
   "cell_type": "code",
   "execution_count": 215,
   "id": "fiscal-archives",
   "metadata": {},
   "outputs": [
    {
     "name": "stdout",
     "output_type": "stream",
     "text": [
      "[0 0 0 ... 0 0 0]\n"
     ]
    }
   ],
   "source": [
    "print(a)"
   ]
  },
  {
   "cell_type": "code",
   "execution_count": 216,
   "id": "everyday-primary",
   "metadata": {},
   "outputs": [],
   "source": [
    "b = np.where(train['target']==0)"
   ]
  },
  {
   "cell_type": "code",
   "execution_count": 217,
   "id": "meaningful-booking",
   "metadata": {},
   "outputs": [],
   "source": [
    "train['target_new'] = np.where(train['target']==0,0,1)"
   ]
  },
  {
   "cell_type": "code",
   "execution_count": 218,
   "id": "stretch-prescription",
   "metadata": {},
   "outputs": [],
   "source": [
    "train.drop(['target'],axis=1,inplace=True)"
   ]
  },
  {
   "cell_type": "code",
   "execution_count": 219,
   "id": "living-corrections",
   "metadata": {},
   "outputs": [
    {
     "data": {
      "text/html": [
       "<div>\n",
       "<style scoped>\n",
       "    .dataframe tbody tr th:only-of-type {\n",
       "        vertical-align: middle;\n",
       "    }\n",
       "\n",
       "    .dataframe tbody tr th {\n",
       "        vertical-align: top;\n",
       "    }\n",
       "\n",
       "    .dataframe thead th {\n",
       "        text-align: right;\n",
       "    }\n",
       "</style>\n",
       "<table border=\"1\" class=\"dataframe\">\n",
       "  <thead>\n",
       "    <tr style=\"text-align: right;\">\n",
       "      <th></th>\n",
       "      <th>trn_id</th>\n",
       "      <th>x0</th>\n",
       "      <th>x1</th>\n",
       "      <th>x2</th>\n",
       "      <th>x3</th>\n",
       "      <th>x4</th>\n",
       "      <th>x5</th>\n",
       "      <th>x6</th>\n",
       "      <th>x7</th>\n",
       "      <th>x8</th>\n",
       "      <th>...</th>\n",
       "      <th>x84</th>\n",
       "      <th>x85</th>\n",
       "      <th>x86</th>\n",
       "      <th>x87</th>\n",
       "      <th>x88</th>\n",
       "      <th>x89</th>\n",
       "      <th>x90</th>\n",
       "      <th>x91</th>\n",
       "      <th>x92</th>\n",
       "      <th>target_new</th>\n",
       "    </tr>\n",
       "  </thead>\n",
       "  <tbody>\n",
       "    <tr>\n",
       "      <th>0</th>\n",
       "      <td>25769804069</td>\n",
       "      <td>-0.139764</td>\n",
       "      <td>-0.193676</td>\n",
       "      <td>-0.181769</td>\n",
       "      <td>-0.175434</td>\n",
       "      <td>-0.233929</td>\n",
       "      <td>-0.200528</td>\n",
       "      <td>-0.205181</td>\n",
       "      <td>-0.222070</td>\n",
       "      <td>-0.192058</td>\n",
       "      <td>...</td>\n",
       "      <td>0.019762</td>\n",
       "      <td>-0.362267</td>\n",
       "      <td>-0.242739</td>\n",
       "      <td>-0.235990</td>\n",
       "      <td>-0.471266</td>\n",
       "      <td>0.832028</td>\n",
       "      <td>-0.068105</td>\n",
       "      <td>-0.516628</td>\n",
       "      <td>-0.110096</td>\n",
       "      <td>0</td>\n",
       "    </tr>\n",
       "    <tr>\n",
       "      <th>1</th>\n",
       "      <td>51539627562</td>\n",
       "      <td>-0.139764</td>\n",
       "      <td>-0.193676</td>\n",
       "      <td>-0.181769</td>\n",
       "      <td>-0.175434</td>\n",
       "      <td>-0.233929</td>\n",
       "      <td>-0.200528</td>\n",
       "      <td>-0.205181</td>\n",
       "      <td>1.354772</td>\n",
       "      <td>-0.192058</td>\n",
       "      <td>...</td>\n",
       "      <td>-0.529066</td>\n",
       "      <td>-0.362267</td>\n",
       "      <td>-0.242739</td>\n",
       "      <td>-0.235990</td>\n",
       "      <td>-0.866016</td>\n",
       "      <td>-1.064660</td>\n",
       "      <td>-0.292780</td>\n",
       "      <td>-0.011039</td>\n",
       "      <td>0.926921</td>\n",
       "      <td>0</td>\n",
       "    </tr>\n",
       "    <tr>\n",
       "      <th>2</th>\n",
       "      <td>51539632222</td>\n",
       "      <td>-0.139764</td>\n",
       "      <td>-0.193676</td>\n",
       "      <td>-0.181769</td>\n",
       "      <td>-0.175434</td>\n",
       "      <td>-0.233929</td>\n",
       "      <td>-0.200528</td>\n",
       "      <td>-0.205181</td>\n",
       "      <td>-0.222070</td>\n",
       "      <td>-0.192058</td>\n",
       "      <td>...</td>\n",
       "      <td>-0.529066</td>\n",
       "      <td>-0.362267</td>\n",
       "      <td>-0.242739</td>\n",
       "      <td>-0.235990</td>\n",
       "      <td>-0.866016</td>\n",
       "      <td>-0.305985</td>\n",
       "      <td>-0.966803</td>\n",
       "      <td>-0.537647</td>\n",
       "      <td>0.151358</td>\n",
       "      <td>0</td>\n",
       "    </tr>\n",
       "    <tr>\n",
       "      <th>3</th>\n",
       "      <td>85899347721</td>\n",
       "      <td>0.978256</td>\n",
       "      <td>-0.193676</td>\n",
       "      <td>-0.181769</td>\n",
       "      <td>-0.175434</td>\n",
       "      <td>-0.233929</td>\n",
       "      <td>-0.200528</td>\n",
       "      <td>-0.205181</td>\n",
       "      <td>-0.222070</td>\n",
       "      <td>-0.192058</td>\n",
       "      <td>...</td>\n",
       "      <td>0.843003</td>\n",
       "      <td>1.362445</td>\n",
       "      <td>1.346219</td>\n",
       "      <td>2.098925</td>\n",
       "      <td>-0.076516</td>\n",
       "      <td>1.970041</td>\n",
       "      <td>0.156569</td>\n",
       "      <td>-0.252870</td>\n",
       "      <td>0.667451</td>\n",
       "      <td>0</td>\n",
       "    </tr>\n",
       "    <tr>\n",
       "      <th>4</th>\n",
       "      <td>60129552698</td>\n",
       "      <td>-0.139764</td>\n",
       "      <td>-0.193676</td>\n",
       "      <td>-0.181769</td>\n",
       "      <td>-0.175434</td>\n",
       "      <td>-0.233929</td>\n",
       "      <td>-0.200528</td>\n",
       "      <td>-0.205181</td>\n",
       "      <td>-0.222070</td>\n",
       "      <td>-0.192058</td>\n",
       "      <td>...</td>\n",
       "      <td>1.391831</td>\n",
       "      <td>-0.362267</td>\n",
       "      <td>-0.242739</td>\n",
       "      <td>-0.235990</td>\n",
       "      <td>1.897232</td>\n",
       "      <td>3.108055</td>\n",
       "      <td>2.852661</td>\n",
       "      <td>0.688391</td>\n",
       "      <td>0.079130</td>\n",
       "      <td>0</td>\n",
       "    </tr>\n",
       "  </tbody>\n",
       "</table>\n",
       "<p>5 rows × 95 columns</p>\n",
       "</div>"
      ],
      "text/plain": [
       "        trn_id        x0        x1        x2        x3        x4        x5  \\\n",
       "0  25769804069 -0.139764 -0.193676 -0.181769 -0.175434 -0.233929 -0.200528   \n",
       "1  51539627562 -0.139764 -0.193676 -0.181769 -0.175434 -0.233929 -0.200528   \n",
       "2  51539632222 -0.139764 -0.193676 -0.181769 -0.175434 -0.233929 -0.200528   \n",
       "3  85899347721  0.978256 -0.193676 -0.181769 -0.175434 -0.233929 -0.200528   \n",
       "4  60129552698 -0.139764 -0.193676 -0.181769 -0.175434 -0.233929 -0.200528   \n",
       "\n",
       "         x6        x7        x8  ...       x84       x85       x86       x87  \\\n",
       "0 -0.205181 -0.222070 -0.192058  ...  0.019762 -0.362267 -0.242739 -0.235990   \n",
       "1 -0.205181  1.354772 -0.192058  ... -0.529066 -0.362267 -0.242739 -0.235990   \n",
       "2 -0.205181 -0.222070 -0.192058  ... -0.529066 -0.362267 -0.242739 -0.235990   \n",
       "3 -0.205181 -0.222070 -0.192058  ...  0.843003  1.362445  1.346219  2.098925   \n",
       "4 -0.205181 -0.222070 -0.192058  ...  1.391831 -0.362267 -0.242739 -0.235990   \n",
       "\n",
       "        x88       x89       x90       x91       x92  target_new  \n",
       "0 -0.471266  0.832028 -0.068105 -0.516628 -0.110096           0  \n",
       "1 -0.866016 -1.064660 -0.292780 -0.011039  0.926921           0  \n",
       "2 -0.866016 -0.305985 -0.966803 -0.537647  0.151358           0  \n",
       "3 -0.076516  1.970041  0.156569 -0.252870  0.667451           0  \n",
       "4  1.897232  3.108055  2.852661  0.688391  0.079130           0  \n",
       "\n",
       "[5 rows x 95 columns]"
      ]
     },
     "execution_count": 219,
     "metadata": {},
     "output_type": "execute_result"
    }
   ],
   "source": [
    "train.head()"
   ]
  },
  {
   "cell_type": "code",
   "execution_count": 220,
   "id": "respective-darkness",
   "metadata": {},
   "outputs": [
    {
     "data": {
      "text/plain": [
       "0"
      ]
     },
     "execution_count": 220,
     "metadata": {},
     "output_type": "execute_result"
    }
   ],
   "source": [
    "(train.isnull()).sum().sum()"
   ]
  },
  {
   "cell_type": "code",
   "execution_count": 221,
   "id": "final-appeal",
   "metadata": {},
   "outputs": [],
   "source": [
    "train_numeric = train[train.select_dtypes(include=np.number).columns]"
   ]
  },
  {
   "cell_type": "code",
   "execution_count": 222,
   "id": "statewide-nelson",
   "metadata": {},
   "outputs": [
    {
     "data": {
      "text/plain": [
       "(90000, 95)"
      ]
     },
     "execution_count": 222,
     "metadata": {},
     "output_type": "execute_result"
    }
   ],
   "source": [
    "train_numeric.shape"
   ]
  },
  {
   "cell_type": "code",
   "execution_count": 223,
   "id": "intense-tampa",
   "metadata": {},
   "outputs": [
    {
     "data": {
      "text/html": [
       "<div>\n",
       "<style scoped>\n",
       "    .dataframe tbody tr th:only-of-type {\n",
       "        vertical-align: middle;\n",
       "    }\n",
       "\n",
       "    .dataframe tbody tr th {\n",
       "        vertical-align: top;\n",
       "    }\n",
       "\n",
       "    .dataframe thead th {\n",
       "        text-align: right;\n",
       "    }\n",
       "</style>\n",
       "<table border=\"1\" class=\"dataframe\">\n",
       "  <thead>\n",
       "    <tr style=\"text-align: right;\">\n",
       "      <th></th>\n",
       "      <th>count</th>\n",
       "      <th>mean</th>\n",
       "      <th>std</th>\n",
       "      <th>min</th>\n",
       "      <th>10%</th>\n",
       "      <th>20%</th>\n",
       "      <th>30%</th>\n",
       "      <th>40%</th>\n",
       "      <th>50%</th>\n",
       "      <th>60%</th>\n",
       "      <th>70%</th>\n",
       "      <th>80%</th>\n",
       "      <th>90%</th>\n",
       "      <th>99%</th>\n",
       "      <th>99.9%</th>\n",
       "      <th>100%</th>\n",
       "      <th>max</th>\n",
       "    </tr>\n",
       "  </thead>\n",
       "  <tbody>\n",
       "    <tr>\n",
       "      <th>trn_id</th>\n",
       "      <td>90000.0</td>\n",
       "      <td>6.411519e+10</td>\n",
       "      <td>3.974793e+10</td>\n",
       "      <td>3.000000</td>\n",
       "      <td>8.589949e+09</td>\n",
       "      <td>2.576981e+10</td>\n",
       "      <td>3.435976e+10</td>\n",
       "      <td>5.153962e+10</td>\n",
       "      <td>6.871948e+10</td>\n",
       "      <td>7.730943e+10</td>\n",
       "      <td>9.448929e+10</td>\n",
       "      <td>1.030792e+11</td>\n",
       "      <td>1.202591e+11</td>\n",
       "      <td>1.288490e+11</td>\n",
       "      <td>1.288490e+11</td>\n",
       "      <td>1.288490e+11</td>\n",
       "      <td>1.288490e+11</td>\n",
       "    </tr>\n",
       "    <tr>\n",
       "      <th>x0</th>\n",
       "      <td>90000.0</td>\n",
       "      <td>-1.626323e-03</td>\n",
       "      <td>9.489234e-01</td>\n",
       "      <td>-0.139764</td>\n",
       "      <td>-1.397639e-01</td>\n",
       "      <td>-1.397639e-01</td>\n",
       "      <td>-1.397639e-01</td>\n",
       "      <td>-1.397639e-01</td>\n",
       "      <td>-1.397639e-01</td>\n",
       "      <td>-1.397639e-01</td>\n",
       "      <td>-1.397639e-01</td>\n",
       "      <td>-1.397639e-01</td>\n",
       "      <td>-1.397639e-01</td>\n",
       "      <td>2.924871e+00</td>\n",
       "      <td>1.213699e+01</td>\n",
       "      <td>5.648397e+01</td>\n",
       "      <td>5.648397e+01</td>\n",
       "    </tr>\n",
       "    <tr>\n",
       "      <th>x1</th>\n",
       "      <td>90000.0</td>\n",
       "      <td>1.323820e-03</td>\n",
       "      <td>1.014494e+00</td>\n",
       "      <td>-0.193676</td>\n",
       "      <td>-1.936755e-01</td>\n",
       "      <td>-1.936755e-01</td>\n",
       "      <td>-1.936755e-01</td>\n",
       "      <td>-1.936755e-01</td>\n",
       "      <td>-1.936755e-01</td>\n",
       "      <td>-1.936755e-01</td>\n",
       "      <td>-1.936755e-01</td>\n",
       "      <td>-1.936755e-01</td>\n",
       "      <td>-1.936755e-01</td>\n",
       "      <td>5.009841e+00</td>\n",
       "      <td>1.216468e+01</td>\n",
       "      <td>2.127083e+01</td>\n",
       "      <td>2.127083e+01</td>\n",
       "    </tr>\n",
       "    <tr>\n",
       "      <th>x2</th>\n",
       "      <td>90000.0</td>\n",
       "      <td>6.584781e-04</td>\n",
       "      <td>1.007707e+00</td>\n",
       "      <td>-0.181769</td>\n",
       "      <td>-1.817691e-01</td>\n",
       "      <td>-1.817691e-01</td>\n",
       "      <td>-1.817691e-01</td>\n",
       "      <td>-1.817691e-01</td>\n",
       "      <td>-1.817691e-01</td>\n",
       "      <td>-1.817691e-01</td>\n",
       "      <td>-1.817691e-01</td>\n",
       "      <td>-1.817691e-01</td>\n",
       "      <td>-1.817691e-01</td>\n",
       "      <td>4.903532e+00</td>\n",
       "      <td>1.194472e+01</td>\n",
       "      <td>3.854476e+01</td>\n",
       "      <td>3.854476e+01</td>\n",
       "    </tr>\n",
       "    <tr>\n",
       "      <th>x3</th>\n",
       "      <td>90000.0</td>\n",
       "      <td>3.678196e-03</td>\n",
       "      <td>1.019274e+00</td>\n",
       "      <td>-0.175434</td>\n",
       "      <td>-1.754336e-01</td>\n",
       "      <td>-1.754336e-01</td>\n",
       "      <td>-1.754336e-01</td>\n",
       "      <td>-1.754336e-01</td>\n",
       "      <td>-1.754336e-01</td>\n",
       "      <td>-1.754336e-01</td>\n",
       "      <td>-1.754336e-01</td>\n",
       "      <td>-1.754336e-01</td>\n",
       "      <td>-1.754336e-01</td>\n",
       "      <td>5.021485e+00</td>\n",
       "      <td>1.268694e+01</td>\n",
       "      <td>1.268694e+01</td>\n",
       "      <td>1.268694e+01</td>\n",
       "    </tr>\n",
       "    <tr>\n",
       "      <th>...</th>\n",
       "      <td>...</td>\n",
       "      <td>...</td>\n",
       "      <td>...</td>\n",
       "      <td>...</td>\n",
       "      <td>...</td>\n",
       "      <td>...</td>\n",
       "      <td>...</td>\n",
       "      <td>...</td>\n",
       "      <td>...</td>\n",
       "      <td>...</td>\n",
       "      <td>...</td>\n",
       "      <td>...</td>\n",
       "      <td>...</td>\n",
       "      <td>...</td>\n",
       "      <td>...</td>\n",
       "      <td>...</td>\n",
       "      <td>...</td>\n",
       "    </tr>\n",
       "    <tr>\n",
       "      <th>x89</th>\n",
       "      <td>90000.0</td>\n",
       "      <td>2.762218e-03</td>\n",
       "      <td>1.001493e+00</td>\n",
       "      <td>-1.064660</td>\n",
       "      <td>-1.064660e+00</td>\n",
       "      <td>-1.064660e+00</td>\n",
       "      <td>-6.853227e-01</td>\n",
       "      <td>-3.059850e-01</td>\n",
       "      <td>-3.059850e-01</td>\n",
       "      <td>7.335276e-02</td>\n",
       "      <td>4.526905e-01</td>\n",
       "      <td>8.320282e-01</td>\n",
       "      <td>1.211366e+00</td>\n",
       "      <td>3.108055e+00</td>\n",
       "      <td>4.246068e+00</td>\n",
       "      <td>7.660107e+00</td>\n",
       "      <td>7.660107e+00</td>\n",
       "    </tr>\n",
       "    <tr>\n",
       "      <th>x90</th>\n",
       "      <td>90000.0</td>\n",
       "      <td>2.499710e-03</td>\n",
       "      <td>9.999056e-01</td>\n",
       "      <td>-1.416151</td>\n",
       "      <td>-1.416151e+00</td>\n",
       "      <td>-9.668027e-01</td>\n",
       "      <td>-5.174541e-01</td>\n",
       "      <td>-2.927798e-01</td>\n",
       "      <td>-6.810544e-02</td>\n",
       "      <td>1.565689e-01</td>\n",
       "      <td>6.059175e-01</td>\n",
       "      <td>8.305919e-01</td>\n",
       "      <td>1.279940e+00</td>\n",
       "      <td>2.627986e+00</td>\n",
       "      <td>3.302009e+00</td>\n",
       "      <td>4.650055e+00</td>\n",
       "      <td>4.650055e+00</td>\n",
       "    </tr>\n",
       "    <tr>\n",
       "      <th>x91</th>\n",
       "      <td>90000.0</td>\n",
       "      <td>1.834044e-03</td>\n",
       "      <td>1.003623e+00</td>\n",
       "      <td>-0.549921</td>\n",
       "      <td>-5.499213e-01</td>\n",
       "      <td>-5.466665e-01</td>\n",
       "      <td>-5.118488e-01</td>\n",
       "      <td>-4.484522e-01</td>\n",
       "      <td>-3.741024e-01</td>\n",
       "      <td>-2.732055e-01</td>\n",
       "      <td>-1.096752e-01</td>\n",
       "      <td>2.320688e-01</td>\n",
       "      <td>1.122442e+00</td>\n",
       "      <td>4.003008e+00</td>\n",
       "      <td>8.256507e+00</td>\n",
       "      <td>2.904571e+01</td>\n",
       "      <td>2.904571e+01</td>\n",
       "    </tr>\n",
       "    <tr>\n",
       "      <th>x92</th>\n",
       "      <td>90000.0</td>\n",
       "      <td>2.238250e-03</td>\n",
       "      <td>1.088766e+00</td>\n",
       "      <td>-1.090444</td>\n",
       "      <td>-1.090444e+00</td>\n",
       "      <td>-8.988857e-01</td>\n",
       "      <td>-3.166847e-01</td>\n",
       "      <td>-1.774952e-02</td>\n",
       "      <td>1.777763e-01</td>\n",
       "      <td>3.197775e-01</td>\n",
       "      <td>4.391250e-01</td>\n",
       "      <td>5.477812e-01</td>\n",
       "      <td>6.770544e-01</td>\n",
       "      <td>1.337604e+00</td>\n",
       "      <td>3.618152e+00</td>\n",
       "      <td>1.290123e+02</td>\n",
       "      <td>1.290123e+02</td>\n",
       "    </tr>\n",
       "    <tr>\n",
       "      <th>target_new</th>\n",
       "      <td>90000.0</td>\n",
       "      <td>5.296667e-02</td>\n",
       "      <td>2.239682e-01</td>\n",
       "      <td>0.000000</td>\n",
       "      <td>0.000000e+00</td>\n",
       "      <td>0.000000e+00</td>\n",
       "      <td>0.000000e+00</td>\n",
       "      <td>0.000000e+00</td>\n",
       "      <td>0.000000e+00</td>\n",
       "      <td>0.000000e+00</td>\n",
       "      <td>0.000000e+00</td>\n",
       "      <td>0.000000e+00</td>\n",
       "      <td>0.000000e+00</td>\n",
       "      <td>1.000000e+00</td>\n",
       "      <td>1.000000e+00</td>\n",
       "      <td>1.000000e+00</td>\n",
       "      <td>1.000000e+00</td>\n",
       "    </tr>\n",
       "  </tbody>\n",
       "</table>\n",
       "<p>95 rows × 17 columns</p>\n",
       "</div>"
      ],
      "text/plain": [
       "              count          mean           std       min           10%  \\\n",
       "trn_id      90000.0  6.411519e+10  3.974793e+10  3.000000  8.589949e+09   \n",
       "x0          90000.0 -1.626323e-03  9.489234e-01 -0.139764 -1.397639e-01   \n",
       "x1          90000.0  1.323820e-03  1.014494e+00 -0.193676 -1.936755e-01   \n",
       "x2          90000.0  6.584781e-04  1.007707e+00 -0.181769 -1.817691e-01   \n",
       "x3          90000.0  3.678196e-03  1.019274e+00 -0.175434 -1.754336e-01   \n",
       "...             ...           ...           ...       ...           ...   \n",
       "x89         90000.0  2.762218e-03  1.001493e+00 -1.064660 -1.064660e+00   \n",
       "x90         90000.0  2.499710e-03  9.999056e-01 -1.416151 -1.416151e+00   \n",
       "x91         90000.0  1.834044e-03  1.003623e+00 -0.549921 -5.499213e-01   \n",
       "x92         90000.0  2.238250e-03  1.088766e+00 -1.090444 -1.090444e+00   \n",
       "target_new  90000.0  5.296667e-02  2.239682e-01  0.000000  0.000000e+00   \n",
       "\n",
       "                     20%           30%           40%           50%  \\\n",
       "trn_id      2.576981e+10  3.435976e+10  5.153962e+10  6.871948e+10   \n",
       "x0         -1.397639e-01 -1.397639e-01 -1.397639e-01 -1.397639e-01   \n",
       "x1         -1.936755e-01 -1.936755e-01 -1.936755e-01 -1.936755e-01   \n",
       "x2         -1.817691e-01 -1.817691e-01 -1.817691e-01 -1.817691e-01   \n",
       "x3         -1.754336e-01 -1.754336e-01 -1.754336e-01 -1.754336e-01   \n",
       "...                  ...           ...           ...           ...   \n",
       "x89        -1.064660e+00 -6.853227e-01 -3.059850e-01 -3.059850e-01   \n",
       "x90        -9.668027e-01 -5.174541e-01 -2.927798e-01 -6.810544e-02   \n",
       "x91        -5.466665e-01 -5.118488e-01 -4.484522e-01 -3.741024e-01   \n",
       "x92        -8.988857e-01 -3.166847e-01 -1.774952e-02  1.777763e-01   \n",
       "target_new  0.000000e+00  0.000000e+00  0.000000e+00  0.000000e+00   \n",
       "\n",
       "                     60%           70%           80%           90%  \\\n",
       "trn_id      7.730943e+10  9.448929e+10  1.030792e+11  1.202591e+11   \n",
       "x0         -1.397639e-01 -1.397639e-01 -1.397639e-01 -1.397639e-01   \n",
       "x1         -1.936755e-01 -1.936755e-01 -1.936755e-01 -1.936755e-01   \n",
       "x2         -1.817691e-01 -1.817691e-01 -1.817691e-01 -1.817691e-01   \n",
       "x3         -1.754336e-01 -1.754336e-01 -1.754336e-01 -1.754336e-01   \n",
       "...                  ...           ...           ...           ...   \n",
       "x89         7.335276e-02  4.526905e-01  8.320282e-01  1.211366e+00   \n",
       "x90         1.565689e-01  6.059175e-01  8.305919e-01  1.279940e+00   \n",
       "x91        -2.732055e-01 -1.096752e-01  2.320688e-01  1.122442e+00   \n",
       "x92         3.197775e-01  4.391250e-01  5.477812e-01  6.770544e-01   \n",
       "target_new  0.000000e+00  0.000000e+00  0.000000e+00  0.000000e+00   \n",
       "\n",
       "                     99%         99.9%          100%           max  \n",
       "trn_id      1.288490e+11  1.288490e+11  1.288490e+11  1.288490e+11  \n",
       "x0          2.924871e+00  1.213699e+01  5.648397e+01  5.648397e+01  \n",
       "x1          5.009841e+00  1.216468e+01  2.127083e+01  2.127083e+01  \n",
       "x2          4.903532e+00  1.194472e+01  3.854476e+01  3.854476e+01  \n",
       "x3          5.021485e+00  1.268694e+01  1.268694e+01  1.268694e+01  \n",
       "...                  ...           ...           ...           ...  \n",
       "x89         3.108055e+00  4.246068e+00  7.660107e+00  7.660107e+00  \n",
       "x90         2.627986e+00  3.302009e+00  4.650055e+00  4.650055e+00  \n",
       "x91         4.003008e+00  8.256507e+00  2.904571e+01  2.904571e+01  \n",
       "x92         1.337604e+00  3.618152e+00  1.290123e+02  1.290123e+02  \n",
       "target_new  1.000000e+00  1.000000e+00  1.000000e+00  1.000000e+00  \n",
       "\n",
       "[95 rows x 17 columns]"
      ]
     },
     "execution_count": 223,
     "metadata": {},
     "output_type": "execute_result"
    }
   ],
   "source": [
    "train_numeric.describe(percentiles=[.1, .2, .3, .4, .5, .6, .7, .8,.9,.99,0.999,1],include = 'all').T"
   ]
  },
  {
   "cell_type": "code",
   "execution_count": 224,
   "id": "blond-bernard",
   "metadata": {},
   "outputs": [
    {
     "name": "stdout",
     "output_type": "stream",
     "text": [
      "(29000, 95)\n"
     ]
    }
   ],
   "source": [
    "val = pd.read_csv(\"/data2/training_data/summer/class/valid.csv\")\n",
    "print(val.shape)"
   ]
  },
  {
   "cell_type": "code",
   "execution_count": 225,
   "id": "abroad-turkish",
   "metadata": {},
   "outputs": [
    {
     "data": {
      "text/plain": [
       "Index(['trn_id', 'target', 'x0', 'x1', 'x2', 'x3', 'x4', 'x5', 'x6', 'x7',\n",
       "       'x8', 'x9', 'x10', 'x11', 'x12', 'x13', 'x14', 'x15', 'x16', 'x17',\n",
       "       'x18', 'x19', 'x20', 'x21', 'x22', 'x23', 'x24', 'x25', 'x26', 'x27',\n",
       "       'x28', 'x29', 'x30', 'x31', 'x32', 'x33', 'x34', 'x35', 'x36', 'x37',\n",
       "       'x38', 'x39', 'x40', 'x41', 'x42', 'x43', 'x44', 'x45', 'x46', 'x47',\n",
       "       'x48', 'x49', 'x50', 'x51', 'x52', 'x53', 'x54', 'x55', 'x56', 'x57',\n",
       "       'x58', 'x59', 'x60', 'x61', 'x62', 'x63', 'x64', 'x65', 'x66', 'x67',\n",
       "       'x68', 'x69', 'x70', 'x71', 'x72', 'x73', 'x74', 'x75', 'x76', 'x77',\n",
       "       'x78', 'x79', 'x80', 'x81', 'x82', 'x83', 'x84', 'x85', 'x86', 'x87',\n",
       "       'x88', 'x89', 'x90', 'x91', 'x92'],\n",
       "      dtype='object')"
      ]
     },
     "execution_count": 225,
     "metadata": {},
     "output_type": "execute_result"
    }
   ],
   "source": [
    "val.columns"
   ]
  },
  {
   "cell_type": "code",
   "execution_count": 226,
   "id": "analyzed-brunei",
   "metadata": {},
   "outputs": [],
   "source": [
    "val['target_new'] = np.where(val['target']==0,0,1)"
   ]
  },
  {
   "cell_type": "code",
   "execution_count": 227,
   "id": "posted-lotus",
   "metadata": {},
   "outputs": [],
   "source": [
    "val.drop('target',axis=1,inplace=True)"
   ]
  },
  {
   "cell_type": "code",
   "execution_count": 228,
   "id": "collaborative-canadian",
   "metadata": {},
   "outputs": [
    {
     "data": {
      "text/html": [
       "<div>\n",
       "<style scoped>\n",
       "    .dataframe tbody tr th:only-of-type {\n",
       "        vertical-align: middle;\n",
       "    }\n",
       "\n",
       "    .dataframe tbody tr th {\n",
       "        vertical-align: top;\n",
       "    }\n",
       "\n",
       "    .dataframe thead th {\n",
       "        text-align: right;\n",
       "    }\n",
       "</style>\n",
       "<table border=\"1\" class=\"dataframe\">\n",
       "  <thead>\n",
       "    <tr style=\"text-align: right;\">\n",
       "      <th></th>\n",
       "      <th>trn_id</th>\n",
       "      <th>x0</th>\n",
       "      <th>x1</th>\n",
       "      <th>x2</th>\n",
       "      <th>x3</th>\n",
       "      <th>x4</th>\n",
       "      <th>x5</th>\n",
       "      <th>x6</th>\n",
       "      <th>x7</th>\n",
       "      <th>x8</th>\n",
       "      <th>...</th>\n",
       "      <th>x84</th>\n",
       "      <th>x85</th>\n",
       "      <th>x86</th>\n",
       "      <th>x87</th>\n",
       "      <th>x88</th>\n",
       "      <th>x89</th>\n",
       "      <th>x90</th>\n",
       "      <th>x91</th>\n",
       "      <th>x92</th>\n",
       "      <th>target_new</th>\n",
       "    </tr>\n",
       "  </thead>\n",
       "  <tbody>\n",
       "    <tr>\n",
       "      <th>0</th>\n",
       "      <td>85899367663</td>\n",
       "      <td>0.571143</td>\n",
       "      <td>2.624896</td>\n",
       "      <td>0.209408</td>\n",
       "      <td>0.084412</td>\n",
       "      <td>0.579221</td>\n",
       "      <td>-0.200528</td>\n",
       "      <td>-0.205181</td>\n",
       "      <td>-0.22207</td>\n",
       "      <td>-0.192058</td>\n",
       "      <td>...</td>\n",
       "      <td>-0.254652</td>\n",
       "      <td>-0.362267</td>\n",
       "      <td>-0.242739</td>\n",
       "      <td>-0.23599</td>\n",
       "      <td>-0.076516</td>\n",
       "      <td>-1.064660</td>\n",
       "      <td>0.156569</td>\n",
       "      <td>-0.549921</td>\n",
       "      <td>-1.090444</td>\n",
       "      <td>0</td>\n",
       "    </tr>\n",
       "    <tr>\n",
       "      <th>1</th>\n",
       "      <td>25769819075</td>\n",
       "      <td>-0.139764</td>\n",
       "      <td>-0.193676</td>\n",
       "      <td>-0.181769</td>\n",
       "      <td>-0.175434</td>\n",
       "      <td>-0.233929</td>\n",
       "      <td>-0.200528</td>\n",
       "      <td>-0.205181</td>\n",
       "      <td>-0.22207</td>\n",
       "      <td>-0.192058</td>\n",
       "      <td>...</td>\n",
       "      <td>-0.529066</td>\n",
       "      <td>-0.362267</td>\n",
       "      <td>-0.242739</td>\n",
       "      <td>-0.23599</td>\n",
       "      <td>1.107733</td>\n",
       "      <td>0.452690</td>\n",
       "      <td>1.279940</td>\n",
       "      <td>0.481754</td>\n",
       "      <td>0.376618</td>\n",
       "      <td>0</td>\n",
       "    </tr>\n",
       "    <tr>\n",
       "      <th>2</th>\n",
       "      <td>42949678495</td>\n",
       "      <td>4.868575</td>\n",
       "      <td>-0.193676</td>\n",
       "      <td>-0.181769</td>\n",
       "      <td>-0.175434</td>\n",
       "      <td>-0.233929</td>\n",
       "      <td>-0.200528</td>\n",
       "      <td>-0.205181</td>\n",
       "      <td>-0.22207</td>\n",
       "      <td>-0.192058</td>\n",
       "      <td>...</td>\n",
       "      <td>0.019762</td>\n",
       "      <td>-0.362267</td>\n",
       "      <td>-0.242739</td>\n",
       "      <td>-0.23599</td>\n",
       "      <td>-0.076516</td>\n",
       "      <td>2.349379</td>\n",
       "      <td>-0.068105</td>\n",
       "      <td>-0.489725</td>\n",
       "      <td>-0.053143</td>\n",
       "      <td>1</td>\n",
       "    </tr>\n",
       "    <tr>\n",
       "      <th>3</th>\n",
       "      <td>77309428233</td>\n",
       "      <td>-0.139764</td>\n",
       "      <td>-0.193676</td>\n",
       "      <td>-0.181769</td>\n",
       "      <td>-0.175434</td>\n",
       "      <td>-0.233929</td>\n",
       "      <td>-0.200528</td>\n",
       "      <td>-0.205181</td>\n",
       "      <td>-0.22207</td>\n",
       "      <td>-0.192058</td>\n",
       "      <td>...</td>\n",
       "      <td>1.666245</td>\n",
       "      <td>0.500089</td>\n",
       "      <td>-0.242739</td>\n",
       "      <td>-0.23599</td>\n",
       "      <td>0.712983</td>\n",
       "      <td>0.832028</td>\n",
       "      <td>1.279940</td>\n",
       "      <td>-0.460534</td>\n",
       "      <td>0.190330</td>\n",
       "      <td>0</td>\n",
       "    </tr>\n",
       "    <tr>\n",
       "      <th>4</th>\n",
       "      <td>103079219025</td>\n",
       "      <td>-0.139764</td>\n",
       "      <td>-0.193676</td>\n",
       "      <td>-0.181769</td>\n",
       "      <td>-0.175434</td>\n",
       "      <td>-0.233929</td>\n",
       "      <td>-0.200528</td>\n",
       "      <td>-0.205181</td>\n",
       "      <td>-0.22207</td>\n",
       "      <td>-0.192058</td>\n",
       "      <td>...</td>\n",
       "      <td>-0.529066</td>\n",
       "      <td>0.500089</td>\n",
       "      <td>-0.242739</td>\n",
       "      <td>-0.23599</td>\n",
       "      <td>1.502482</td>\n",
       "      <td>1.970041</td>\n",
       "      <td>0.381243</td>\n",
       "      <td>0.150056</td>\n",
       "      <td>0.711405</td>\n",
       "      <td>0</td>\n",
       "    </tr>\n",
       "  </tbody>\n",
       "</table>\n",
       "<p>5 rows × 95 columns</p>\n",
       "</div>"
      ],
      "text/plain": [
       "         trn_id        x0        x1        x2        x3        x4        x5  \\\n",
       "0   85899367663  0.571143  2.624896  0.209408  0.084412  0.579221 -0.200528   \n",
       "1   25769819075 -0.139764 -0.193676 -0.181769 -0.175434 -0.233929 -0.200528   \n",
       "2   42949678495  4.868575 -0.193676 -0.181769 -0.175434 -0.233929 -0.200528   \n",
       "3   77309428233 -0.139764 -0.193676 -0.181769 -0.175434 -0.233929 -0.200528   \n",
       "4  103079219025 -0.139764 -0.193676 -0.181769 -0.175434 -0.233929 -0.200528   \n",
       "\n",
       "         x6       x7        x8  ...       x84       x85       x86      x87  \\\n",
       "0 -0.205181 -0.22207 -0.192058  ... -0.254652 -0.362267 -0.242739 -0.23599   \n",
       "1 -0.205181 -0.22207 -0.192058  ... -0.529066 -0.362267 -0.242739 -0.23599   \n",
       "2 -0.205181 -0.22207 -0.192058  ...  0.019762 -0.362267 -0.242739 -0.23599   \n",
       "3 -0.205181 -0.22207 -0.192058  ...  1.666245  0.500089 -0.242739 -0.23599   \n",
       "4 -0.205181 -0.22207 -0.192058  ... -0.529066  0.500089 -0.242739 -0.23599   \n",
       "\n",
       "        x88       x89       x90       x91       x92  target_new  \n",
       "0 -0.076516 -1.064660  0.156569 -0.549921 -1.090444           0  \n",
       "1  1.107733  0.452690  1.279940  0.481754  0.376618           0  \n",
       "2 -0.076516  2.349379 -0.068105 -0.489725 -0.053143           1  \n",
       "3  0.712983  0.832028  1.279940 -0.460534  0.190330           0  \n",
       "4  1.502482  1.970041  0.381243  0.150056  0.711405           0  \n",
       "\n",
       "[5 rows x 95 columns]"
      ]
     },
     "execution_count": 228,
     "metadata": {},
     "output_type": "execute_result"
    }
   ],
   "source": [
    "val.head()"
   ]
  },
  {
   "cell_type": "code",
   "execution_count": 229,
   "id": "selected-hawaiian",
   "metadata": {},
   "outputs": [
    {
     "data": {
      "text/plain": [
       "0"
      ]
     },
     "execution_count": 229,
     "metadata": {},
     "output_type": "execute_result"
    }
   ],
   "source": [
    "(val.isnull()+0).sum().sum()"
   ]
  },
  {
   "cell_type": "code",
   "execution_count": 230,
   "id": "qualified-reader",
   "metadata": {},
   "outputs": [
    {
     "name": "stdout",
     "output_type": "stream",
     "text": [
      "(29580, 95)\n"
     ]
    }
   ],
   "source": [
    "test = pd.read_csv(\"/data2/training_data/summer/class/test.csv\")\n",
    "print(test.shape)"
   ]
  },
  {
   "cell_type": "code",
   "execution_count": 231,
   "id": "spare-fusion",
   "metadata": {},
   "outputs": [
    {
     "data": {
      "text/plain": [
       "0"
      ]
     },
     "execution_count": 231,
     "metadata": {},
     "output_type": "execute_result"
    }
   ],
   "source": [
    "(test.isnull()).sum().sum()"
   ]
  },
  {
   "cell_type": "code",
   "execution_count": 232,
   "id": "passing-rental",
   "metadata": {},
   "outputs": [
    {
     "data": {
      "text/plain": [
       "Index(['trn_id', 'target', 'x0', 'x1', 'x2', 'x3', 'x4', 'x5', 'x6', 'x7',\n",
       "       'x8', 'x9', 'x10', 'x11', 'x12', 'x13', 'x14', 'x15', 'x16', 'x17',\n",
       "       'x18', 'x19', 'x20', 'x21', 'x22', 'x23', 'x24', 'x25', 'x26', 'x27',\n",
       "       'x28', 'x29', 'x30', 'x31', 'x32', 'x33', 'x34', 'x35', 'x36', 'x37',\n",
       "       'x38', 'x39', 'x40', 'x41', 'x42', 'x43', 'x44', 'x45', 'x46', 'x47',\n",
       "       'x48', 'x49', 'x50', 'x51', 'x52', 'x53', 'x54', 'x55', 'x56', 'x57',\n",
       "       'x58', 'x59', 'x60', 'x61', 'x62', 'x63', 'x64', 'x65', 'x66', 'x67',\n",
       "       'x68', 'x69', 'x70', 'x71', 'x72', 'x73', 'x74', 'x75', 'x76', 'x77',\n",
       "       'x78', 'x79', 'x80', 'x81', 'x82', 'x83', 'x84', 'x85', 'x86', 'x87',\n",
       "       'x88', 'x89', 'x90', 'x91', 'x92'],\n",
       "      dtype='object')"
      ]
     },
     "execution_count": 232,
     "metadata": {},
     "output_type": "execute_result"
    }
   ],
   "source": [
    "test.columns"
   ]
  },
  {
   "cell_type": "code",
   "execution_count": 233,
   "id": "novel-dressing",
   "metadata": {},
   "outputs": [],
   "source": [
    "test['target_new'] = np.where(test['target']==0,0,1)"
   ]
  },
  {
   "cell_type": "code",
   "execution_count": 234,
   "id": "quantitative-recognition",
   "metadata": {},
   "outputs": [],
   "source": [
    "test.drop('target',axis=1,inplace=True)"
   ]
  },
  {
   "cell_type": "code",
   "execution_count": null,
   "id": "supported-rider",
   "metadata": {},
   "outputs": [],
   "source": []
  },
  {
   "cell_type": "code",
   "execution_count": 235,
   "id": "determined-timber",
   "metadata": {},
   "outputs": [
    {
     "data": {
      "text/html": [
       "<div>\n",
       "<style scoped>\n",
       "    .dataframe tbody tr th:only-of-type {\n",
       "        vertical-align: middle;\n",
       "    }\n",
       "\n",
       "    .dataframe tbody tr th {\n",
       "        vertical-align: top;\n",
       "    }\n",
       "\n",
       "    .dataframe thead th {\n",
       "        text-align: right;\n",
       "    }\n",
       "</style>\n",
       "<table border=\"1\" class=\"dataframe\">\n",
       "  <thead>\n",
       "    <tr style=\"text-align: right;\">\n",
       "      <th></th>\n",
       "      <th>trn_id</th>\n",
       "      <th>x0</th>\n",
       "      <th>x1</th>\n",
       "      <th>x2</th>\n",
       "      <th>x3</th>\n",
       "      <th>x4</th>\n",
       "      <th>x5</th>\n",
       "      <th>x6</th>\n",
       "      <th>x7</th>\n",
       "      <th>x8</th>\n",
       "      <th>...</th>\n",
       "      <th>x84</th>\n",
       "      <th>x85</th>\n",
       "      <th>x86</th>\n",
       "      <th>x87</th>\n",
       "      <th>x88</th>\n",
       "      <th>x89</th>\n",
       "      <th>x90</th>\n",
       "      <th>x91</th>\n",
       "      <th>x92</th>\n",
       "      <th>target_new</th>\n",
       "    </tr>\n",
       "  </thead>\n",
       "  <tbody>\n",
       "    <tr>\n",
       "      <th>0</th>\n",
       "      <td>103079240809</td>\n",
       "      <td>-0.139764</td>\n",
       "      <td>4.142588</td>\n",
       "      <td>4.121178</td>\n",
       "      <td>0.863950</td>\n",
       "      <td>3.541409</td>\n",
       "      <td>0.569315</td>\n",
       "      <td>-0.104057</td>\n",
       "      <td>1.769983</td>\n",
       "      <td>6.310618</td>\n",
       "      <td>...</td>\n",
       "      <td>0.843003</td>\n",
       "      <td>0.500089</td>\n",
       "      <td>1.346219</td>\n",
       "      <td>2.098925</td>\n",
       "      <td>-0.076516</td>\n",
       "      <td>0.452690</td>\n",
       "      <td>1.055266</td>\n",
       "      <td>-0.506093</td>\n",
       "      <td>0.510818</td>\n",
       "      <td>0</td>\n",
       "    </tr>\n",
       "    <tr>\n",
       "      <th>1</th>\n",
       "      <td>25769806826</td>\n",
       "      <td>-0.139764</td>\n",
       "      <td>-0.193676</td>\n",
       "      <td>-0.181769</td>\n",
       "      <td>-0.175434</td>\n",
       "      <td>-0.233929</td>\n",
       "      <td>-0.200528</td>\n",
       "      <td>-0.205181</td>\n",
       "      <td>-0.222070</td>\n",
       "      <td>-0.192058</td>\n",
       "      <td>...</td>\n",
       "      <td>0.568589</td>\n",
       "      <td>-0.362267</td>\n",
       "      <td>-0.242739</td>\n",
       "      <td>-0.235990</td>\n",
       "      <td>0.318233</td>\n",
       "      <td>-0.305985</td>\n",
       "      <td>0.605918</td>\n",
       "      <td>0.201414</td>\n",
       "      <td>0.504656</td>\n",
       "      <td>0</td>\n",
       "    </tr>\n",
       "    <tr>\n",
       "      <th>2</th>\n",
       "      <td>13692</td>\n",
       "      <td>-0.139764</td>\n",
       "      <td>-0.193676</td>\n",
       "      <td>-0.181769</td>\n",
       "      <td>-0.175434</td>\n",
       "      <td>-0.233929</td>\n",
       "      <td>-0.200528</td>\n",
       "      <td>-0.205181</td>\n",
       "      <td>-0.222070</td>\n",
       "      <td>-0.192058</td>\n",
       "      <td>...</td>\n",
       "      <td>-0.529066</td>\n",
       "      <td>-0.362267</td>\n",
       "      <td>-0.242739</td>\n",
       "      <td>-0.235990</td>\n",
       "      <td>-1.655515</td>\n",
       "      <td>-1.064660</td>\n",
       "      <td>-1.416151</td>\n",
       "      <td>-0.549921</td>\n",
       "      <td>-1.090444</td>\n",
       "      <td>0</td>\n",
       "    </tr>\n",
       "    <tr>\n",
       "      <th>3</th>\n",
       "      <td>77309438191</td>\n",
       "      <td>-0.139764</td>\n",
       "      <td>-0.193676</td>\n",
       "      <td>-0.181769</td>\n",
       "      <td>-0.175434</td>\n",
       "      <td>-0.233929</td>\n",
       "      <td>-0.200528</td>\n",
       "      <td>-0.205181</td>\n",
       "      <td>-0.222070</td>\n",
       "      <td>-0.192058</td>\n",
       "      <td>...</td>\n",
       "      <td>-0.529066</td>\n",
       "      <td>-0.362267</td>\n",
       "      <td>-0.242739</td>\n",
       "      <td>-0.235990</td>\n",
       "      <td>-0.471266</td>\n",
       "      <td>0.452690</td>\n",
       "      <td>0.381243</td>\n",
       "      <td>-0.382239</td>\n",
       "      <td>-0.094009</td>\n",
       "      <td>0</td>\n",
       "    </tr>\n",
       "    <tr>\n",
       "      <th>4</th>\n",
       "      <td>42949679020</td>\n",
       "      <td>-0.139764</td>\n",
       "      <td>3.275335</td>\n",
       "      <td>0.991762</td>\n",
       "      <td>-0.045511</td>\n",
       "      <td>1.101960</td>\n",
       "      <td>-0.200528</td>\n",
       "      <td>-0.205181</td>\n",
       "      <td>-0.061266</td>\n",
       "      <td>3.601170</td>\n",
       "      <td>...</td>\n",
       "      <td>-0.254652</td>\n",
       "      <td>-0.362267</td>\n",
       "      <td>-0.242739</td>\n",
       "      <td>-0.235990</td>\n",
       "      <td>1.107733</td>\n",
       "      <td>1.211366</td>\n",
       "      <td>-0.068105</td>\n",
       "      <td>-0.546675</td>\n",
       "      <td>-0.023040</td>\n",
       "      <td>0</td>\n",
       "    </tr>\n",
       "  </tbody>\n",
       "</table>\n",
       "<p>5 rows × 95 columns</p>\n",
       "</div>"
      ],
      "text/plain": [
       "         trn_id        x0        x1        x2        x3        x4        x5  \\\n",
       "0  103079240809 -0.139764  4.142588  4.121178  0.863950  3.541409  0.569315   \n",
       "1   25769806826 -0.139764 -0.193676 -0.181769 -0.175434 -0.233929 -0.200528   \n",
       "2         13692 -0.139764 -0.193676 -0.181769 -0.175434 -0.233929 -0.200528   \n",
       "3   77309438191 -0.139764 -0.193676 -0.181769 -0.175434 -0.233929 -0.200528   \n",
       "4   42949679020 -0.139764  3.275335  0.991762 -0.045511  1.101960 -0.200528   \n",
       "\n",
       "         x6        x7        x8  ...       x84       x85       x86       x87  \\\n",
       "0 -0.104057  1.769983  6.310618  ...  0.843003  0.500089  1.346219  2.098925   \n",
       "1 -0.205181 -0.222070 -0.192058  ...  0.568589 -0.362267 -0.242739 -0.235990   \n",
       "2 -0.205181 -0.222070 -0.192058  ... -0.529066 -0.362267 -0.242739 -0.235990   \n",
       "3 -0.205181 -0.222070 -0.192058  ... -0.529066 -0.362267 -0.242739 -0.235990   \n",
       "4 -0.205181 -0.061266  3.601170  ... -0.254652 -0.362267 -0.242739 -0.235990   \n",
       "\n",
       "        x88       x89       x90       x91       x92  target_new  \n",
       "0 -0.076516  0.452690  1.055266 -0.506093  0.510818           0  \n",
       "1  0.318233 -0.305985  0.605918  0.201414  0.504656           0  \n",
       "2 -1.655515 -1.064660 -1.416151 -0.549921 -1.090444           0  \n",
       "3 -0.471266  0.452690  0.381243 -0.382239 -0.094009           0  \n",
       "4  1.107733  1.211366 -0.068105 -0.546675 -0.023040           0  \n",
       "\n",
       "[5 rows x 95 columns]"
      ]
     },
     "execution_count": 235,
     "metadata": {},
     "output_type": "execute_result"
    }
   ],
   "source": [
    "test.head()"
   ]
  },
  {
   "cell_type": "code",
   "execution_count": 236,
   "id": "acute-judges",
   "metadata": {},
   "outputs": [],
   "source": [
    "frames = [train,test]\n",
    "X = pd.concat(frames)"
   ]
  },
  {
   "cell_type": "code",
   "execution_count": null,
   "id": "motivated-stanford",
   "metadata": {},
   "outputs": [],
   "source": []
  },
  {
   "cell_type": "code",
   "execution_count": 237,
   "id": "african-background",
   "metadata": {},
   "outputs": [
    {
     "data": {
      "text/plain": [
       "(90000, 95)"
      ]
     },
     "execution_count": 237,
     "metadata": {},
     "output_type": "execute_result"
    }
   ],
   "source": [
    "train.shape"
   ]
  },
  {
   "cell_type": "code",
   "execution_count": 238,
   "id": "initial-ancient",
   "metadata": {},
   "outputs": [
    {
     "data": {
      "text/plain": [
       "(29580, 95)"
      ]
     },
     "execution_count": 238,
     "metadata": {},
     "output_type": "execute_result"
    }
   ],
   "source": [
    "test.shape"
   ]
  },
  {
   "cell_type": "code",
   "execution_count": 239,
   "id": "married-fifty",
   "metadata": {},
   "outputs": [
    {
     "data": {
      "text/plain": [
       "(119580, 95)"
      ]
     },
     "execution_count": 239,
     "metadata": {},
     "output_type": "execute_result"
    }
   ],
   "source": [
    "X.shape"
   ]
  },
  {
   "cell_type": "markdown",
   "id": "compatible-scottish",
   "metadata": {},
   "source": [
    "## Train Data"
   ]
  },
  {
   "cell_type": "code",
   "execution_count": 240,
   "id": "turned-consciousness",
   "metadata": {},
   "outputs": [],
   "source": [
    "X_train = X.drop('target_new',axis=1)\n",
    "y_train = X['target_new']"
   ]
  },
  {
   "cell_type": "code",
   "execution_count": 241,
   "id": "needed-shepherd",
   "metadata": {},
   "outputs": [
    {
     "data": {
      "text/plain": [
       "(119580, 94)"
      ]
     },
     "execution_count": 241,
     "metadata": {},
     "output_type": "execute_result"
    }
   ],
   "source": [
    "X_train.shape"
   ]
  },
  {
   "cell_type": "markdown",
   "id": "injured-variable",
   "metadata": {},
   "source": [
    "## Test Data"
   ]
  },
  {
   "cell_type": "code",
   "execution_count": 242,
   "id": "green-refund",
   "metadata": {},
   "outputs": [],
   "source": [
    "X_test = val.drop('target_new',axis=1)\n",
    "y_test = val['target_new']"
   ]
  },
  {
   "cell_type": "code",
   "execution_count": 243,
   "id": "stuck-prefix",
   "metadata": {},
   "outputs": [
    {
     "data": {
      "text/plain": [
       "(29000, 94)"
      ]
     },
     "execution_count": 243,
     "metadata": {},
     "output_type": "execute_result"
    }
   ],
   "source": [
    "X_test.shape"
   ]
  },
  {
   "cell_type": "code",
   "execution_count": 244,
   "id": "impressed-patent",
   "metadata": {},
   "outputs": [
    {
     "data": {
      "text/plain": [
       "array([0, 1])"
      ]
     },
     "execution_count": 244,
     "metadata": {},
     "output_type": "execute_result"
    }
   ],
   "source": [
    "y_test.unique()"
   ]
  },
  {
   "cell_type": "code",
   "execution_count": 245,
   "id": "latin-ecology",
   "metadata": {},
   "outputs": [],
   "source": [
    "from sklearn.preprocessing import StandardScaler\n",
    "\n",
    "scaler = StandardScaler().fit(X_train)\n",
    "\n",
    "X_train = scaler.transform(X_train)\n",
    "\n",
    "X_test = scaler.transform(X_test)"
   ]
  },
  {
   "cell_type": "markdown",
   "id": "caring-martin",
   "metadata": {},
   "source": [
    "## Feedforward Neural Network"
   ]
  },
  {
   "cell_type": "code",
   "execution_count": 246,
   "id": "suitable-alcohol",
   "metadata": {},
   "outputs": [],
   "source": [
    "inputs = tf.keras.Input(shape=(94,))\n",
    "x = layers.Dense(64, activation=\"relu\")(inputs)\n",
    "x = layers.Dense(64, activation=\"relu\")(x)\n",
    "output = layers.Dense(1, activation=\"sigmoid\")(x)"
   ]
  },
  {
   "cell_type": "code",
   "execution_count": 247,
   "id": "casual-villa",
   "metadata": {},
   "outputs": [],
   "source": [
    "model1 = tf.keras.Model(inputs=inputs, outputs=output, name=\"train_new\")"
   ]
  },
  {
   "cell_type": "code",
   "execution_count": 248,
   "id": "perfect-welding",
   "metadata": {},
   "outputs": [
    {
     "name": "stdout",
     "output_type": "stream",
     "text": [
      "Model: \"train_new\"\n",
      "_________________________________________________________________\n",
      "Layer (type)                 Output Shape              Param #   \n",
      "=================================================================\n",
      "input_15 (InputLayer)        [(None, 94)]              0         \n",
      "_________________________________________________________________\n",
      "dense_55 (Dense)             (None, 64)                6080      \n",
      "_________________________________________________________________\n",
      "dense_56 (Dense)             (None, 64)                4160      \n",
      "_________________________________________________________________\n",
      "dense_57 (Dense)             (None, 1)                 65        \n",
      "=================================================================\n",
      "Total params: 10,305\n",
      "Trainable params: 10,305\n",
      "Non-trainable params: 0\n",
      "_________________________________________________________________\n"
     ]
    }
   ],
   "source": [
    "model1.summary()"
   ]
  },
  {
   "cell_type": "code",
   "execution_count": 249,
   "id": "unusual-primary",
   "metadata": {},
   "outputs": [],
   "source": [
    "model1.compile(loss='binary_crossentropy',\n",
    "              optimizer=tf.keras.optimizers.SGD(0.001),\n",
    "              metrics=['accuracy'])#,'AUC'])"
   ]
  },
  {
   "cell_type": "code",
   "execution_count": 250,
   "id": "exempt-saskatchewan",
   "metadata": {},
   "outputs": [],
   "source": [
    "batch_size = 64\n",
    "epochs = 10\n",
    "weights = {0:1, 1:1}"
   ]
  },
  {
   "cell_type": "code",
   "execution_count": 44,
   "id": "dressed-interaction",
   "metadata": {},
   "outputs": [
    {
     "name": "stdout",
     "output_type": "stream",
     "text": [
      "Epoch 1/10\n",
      "1869/1869 [==============================] - 2s 1ms/step - loss: 0.5053 - accuracy: 0.7339 - val_loss: 0.2178 - val_accuracy: 0.9479\n",
      "Epoch 2/10\n",
      "1869/1869 [==============================] - 2s 987us/step - loss: 0.2164 - accuracy: 0.9469 - val_loss: 0.2084 - val_accuracy: 0.9479\n",
      "Epoch 3/10\n",
      "1869/1869 [==============================] - 2s 981us/step - loss: 0.2089 - accuracy: 0.9467 - val_loss: 0.2048 - val_accuracy: 0.9479\n",
      "Epoch 4/10\n",
      "1869/1869 [==============================] - 2s 984us/step - loss: 0.2023 - accuracy: 0.9479 - val_loss: 0.2025 - val_accuracy: 0.9479\n",
      "Epoch 5/10\n",
      "1869/1869 [==============================] - 2s 983us/step - loss: 0.2010 - accuracy: 0.9473 - val_loss: 0.2009 - val_accuracy: 0.9479\n",
      "Epoch 6/10\n",
      "1869/1869 [==============================] - 2s 981us/step - loss: 0.2013 - accuracy: 0.9467 - val_loss: 0.1996 - val_accuracy: 0.9479\n",
      "Epoch 7/10\n",
      "1869/1869 [==============================] - 2s 987us/step - loss: 0.1975 - accuracy: 0.9481 - val_loss: 0.1985 - val_accuracy: 0.9479\n",
      "Epoch 8/10\n",
      "1869/1869 [==============================] - 2s 980us/step - loss: 0.1994 - accuracy: 0.9469 - val_loss: 0.1976 - val_accuracy: 0.9479\n",
      "Epoch 9/10\n",
      "1869/1869 [==============================] - 2s 985us/step - loss: 0.1958 - accuracy: 0.9475 - val_loss: 0.1968 - val_accuracy: 0.9479\n",
      "Epoch 10/10\n",
      "1869/1869 [==============================] - 2s 981us/step - loss: 0.1960 - accuracy: 0.9472 - val_loss: 0.1962 - val_accuracy: 0.9479\n"
     ]
    }
   ],
   "source": [
    "model1_history = model1.fit(X_train, y_train,\n",
    "                    batch_size=batch_size,\n",
    "                    epochs=epochs,\n",
    "                    verbose=1,\n",
    "                    #class_weight = weights,\n",
    "                    validation_data=(X_test, y_test))"
   ]
  },
  {
   "cell_type": "code",
   "execution_count": 45,
   "id": "signed-lending",
   "metadata": {},
   "outputs": [
    {
     "data": {
      "image/png": "[encoded data removed]",
      "text/plain": [
       "<Figure size 720x432 with 1 Axes>"
      ]
     },
     "metadata": {
      "needs_background": "light"
     },
     "output_type": "display_data"
    },
    {
     "data": {
      "image/png": "[encoded data removed]",
      "text/plain": [
       "<Figure size 720x432 with 1 Axes>"
      ]
     },
     "metadata": {
      "needs_background": "light"
     },
     "output_type": "display_data"
    }
   ],
   "source": [
    "# Plot the loss function\n",
    "fig, ax = plt.subplots(1, 1, figsize=(10,6))\n",
    "ax.plot(np.sqrt(model1_history.history['loss']), 'r', label='train')\n",
    "ax.plot(np.sqrt(model1_history.history['val_loss']), 'b' ,label='val')\n",
    "ax.set_xlabel(r'Epoch', fontsize=20)\n",
    "ax.set_ylabel(r'Loss', fontsize=20)\n",
    "ax.legend()\n",
    "ax.tick_params(labelsize=20)\n",
    "\n",
    "# Plot the accuracy\n",
    "fig, ax = plt.subplots(1, 1, figsize=(10,6))\n",
    "ax.plot(np.sqrt(model1_history.history['accuracy']), 'r', label='train')\n",
    "ax.plot(np.sqrt(model1_history.history['val_accuracy']), 'b' ,label='val')\n",
    "ax.set_xlabel(r'Epoch', fontsize=20)\n",
    "ax.set_ylabel(r'Accuracy', fontsize=20)\n",
    "ax.legend()\n",
    "ax.tick_params(labelsize=20)"
   ]
  },
  {
   "cell_type": "code",
   "execution_count": 46,
   "id": "identified-winning",
   "metadata": {},
   "outputs": [
    {
     "name": "stdout",
     "output_type": "stream",
     "text": [
      "907/907 [==============================] - 1s 576us/step - loss: 0.1962 - accuracy: 0.9479\n",
      "[0.19617098569869995, 0.9478965401649475]\n"
     ]
    }
   ],
   "source": [
    "y_pred1 = model1.predict(X_test)\n",
    "score = model1.evaluate(X_test, y_test,verbose=1)\n",
    "\n",
    "print(score)"
   ]
  },
  {
   "cell_type": "code",
   "execution_count": null,
   "id": "continental-subscription",
   "metadata": {},
   "outputs": [],
   "source": []
  },
  {
   "cell_type": "code",
   "execution_count": null,
   "id": "inside-saskatchewan",
   "metadata": {},
   "outputs": [],
   "source": []
  },
  {
   "cell_type": "code",
   "execution_count": 251,
   "id": "challenging-richmond",
   "metadata": {},
   "outputs": [],
   "source": [
    "import tensorflow_addons as tfa"
   ]
  },
  {
   "cell_type": "code",
   "execution_count": 252,
   "id": "sophisticated-movement",
   "metadata": {},
   "outputs": [],
   "source": [
    "class nf_block(tf.keras.Model):\n",
    "    def __init__(self,units,alpha=0.2,beta=1):\n",
    "        super().__init__()\n",
    "        \n",
    "        self.nn = tfa.layers.WeightNormalization(\n",
    "            tf.keras.layers.Dense(units,activation=None),data_init=False)\n",
    "        #self.relu = tf.keras.activations.relu()\n",
    "        self.alpha = alpha\n",
    "        self.beta = beta\n",
    "        self.skip_gain = self.add_weight(\n",
    "            name=\"skip_gain\",\n",
    "            shape = (),\n",
    "            initializer = \"zeros\",\n",
    "            trainable = True,\n",
    "            dtype = self.dtype)\n",
    "        \n",
    "    def call(self,inputs):\n",
    "        shortcut = inputs\n",
    "        \n",
    "        x = inputs*self.beta\n",
    "        x = self.nn(x)\n",
    "        out = shortcut + x*self.alpha*self.skip_gain\n",
    "        out = tf.keras.activations.relu(out)\n",
    "        \n",
    "        return out"
   ]
  },
  {
   "cell_type": "code",
   "execution_count": 303,
   "id": "female-mentor",
   "metadata": {},
   "outputs": [],
   "source": [
    "class feedforward_nfnet(tf.keras.Model):\n",
    "    def __init__(self,units = [94,64,64,64,64,1],alpha=0.2,beta=1.0):\n",
    "        super().__init__()\n",
    "        self.units = units\n",
    "        self.alpha = alpha\n",
    "        self.beta = beta\n",
    "        self.expected_std = 1.0\n",
    "        \n",
    "        #self.input_layer = tf.keras.Input(shape=(self.units[0],))\n",
    "        \n",
    "        self.input_layer = tfa.layers.WeightNormalization(\n",
    "            tf.keras.layers.Dense(self.units[1],activation='relu', input_shape=(self.units[0],)))\n",
    "        \n",
    "        self.beta = 1/(self.expected_std)\n",
    "        self.layer1 = nf_block(self.units[2],alpha=self.alpha,beta=self.beta)\n",
    "        self.expected_std = (self.expected_std **2 + self.alpha**2)**0.5\n",
    "        \n",
    "        self.beta = 1/(self.expected_std)\n",
    "        self.layer2 = nf_block(self.units[3],alpha=self.alpha,beta=self.beta)\n",
    "        self.expected_std = (self.expected_std **2 + self.alpha**2)**0.5\n",
    "        \n",
    "        self.beta = 1/(self.expected_std)\n",
    "        self.layer3 = nf_block(self.units[4],alpha=self.alpha,beta=self.beta)\n",
    "        self.expected_std = (self.expected_std **2 + self.alpha**2)**0.5\n",
    "        \n",
    "        self.final_layer = tfa.layers.WeightNormalization(\n",
    "            tf.keras.layers.Dense(self.units[-1],activation=\"sigmoid\"),data_init=False)\n",
    "        \n",
    "    def call(self, inputs):\n",
    "        \n",
    "        x = self.input_layer(inputs)\n",
    "        x = self.layer1(x)\n",
    "        x = self.layer2(x)\n",
    "        x = self.layer3(x)\n",
    "        x = self.final_layer(x)\n",
    "        \n",
    "        return x"
   ]
  },
  {
   "cell_type": "code",
   "execution_count": 304,
   "id": "unlikely-manchester",
   "metadata": {},
   "outputs": [],
   "source": [
    "def compute_norm(x, axis, keepdims):\n",
    "    return tf.math.reduce_sum(x ** 2, axis=axis, keepdims=keepdims) ** 0.5\n",
    "\n",
    "def unitwise_norm(x):\n",
    "    if len(x.get_shape()) <= 1:  # Scalars and vectors\n",
    "        axis = None\n",
    "        keepdims = False\n",
    "    elif len(x.get_shape()) in [2, 3]:  # Linear layers of shape IO or multihead linear\n",
    "        axis = 0\n",
    "        keepdims = True\n",
    "    elif len(x.get_shape()) == 4:  # Conv kernels of shape HWIO\n",
    "        axis = [0, 1, 2,]\n",
    "        keepdims = True\n",
    "    else:\n",
    "        raise ValueError(f\"Got a parameter with shape not in [1, 2, 4]! {x}\")\n",
    "    return compute_norm(x, axis, keepdims)\n",
    "\n",
    "\n",
    "def adaptive_clip_grad(parameters, gradients, clip_factor=0.01,\n",
    "                       eps=1e-3):\n",
    "    new_grads = []\n",
    "    for (params, grads) in zip(parameters, gradients):\n",
    "        p_norm = unitwise_norm(params)\n",
    "        max_norm = tf.math.maximum(p_norm, eps) * clip_factor\n",
    "        grad_norm = unitwise_norm(grads)\n",
    "        clipped_grad = grads * (max_norm / tf.math.maximum(grad_norm, 1e-6))\n",
    "        new_grad = tf.where(grad_norm < max_norm, grads, clipped_grad)\n",
    "        new_grads.append(new_grad)\n",
    "    return new_grads"
   ]
  },
  {
   "cell_type": "code",
   "execution_count": 305,
   "id": "affiliated-superior",
   "metadata": {},
   "outputs": [],
   "source": [
    "class AGCModel(tf.keras.Model):\n",
    "    def __init__(self, model, clip_factor=0.01, eps=1e-3):\n",
    "        super(AGCModel, self).__init__()\n",
    "        self.model = model\n",
    "        self.clip_factor = clip_factor\n",
    "        self.eps = eps\n",
    "    \n",
    "    def train_step(self, data):\n",
    "        images, labels = data\n",
    "        print(data[0].shape,data[1].shape,type(data))\n",
    "\n",
    "        with tf.GradientTape() as tape:\n",
    "            predictions = self.model(images)\n",
    "            loss = self.compiled_loss(labels, predictions)\n",
    "        trainable_params = self.model.trainable_variables\n",
    "        gradients = tape.gradient(loss, trainable_params)\n",
    "        agc_gradients = adaptive_clip_grad(trainable_params, gradients, \n",
    "                                               clip_factor=self.clip_factor, eps=self.eps)\n",
    "        self.optimizer.apply_gradients(zip(agc_gradients, trainable_params))\n",
    "\n",
    "        self.compiled_metrics.update_state(labels, predictions)\n",
    "        return {m.name: m.result() for m in self.metrics}\n",
    "\n",
    "    def test_step(self, data):\n",
    "        images, labels = data\n",
    "        predictions = self.model(images, training=False)\n",
    "        loss = self.compiled_loss(labels, predictions)\n",
    "        self.compiled_metrics.update_state(labels, predictions)\n",
    "        return {m.name: m.result() for m in self.metrics}\n",
    "\n",
    "    def save_weights(self, filepath):\n",
    "        self.model.save_weights(filepath=filepath)\n",
    "\n",
    "    def call(self, inputs, *args, **kwargs):\n",
    "        return self.model(inputs)"
   ]
  },
  {
   "cell_type": "code",
   "execution_count": 306,
   "id": "private-scotland",
   "metadata": {},
   "outputs": [],
   "source": [
    "units = [94,64,64,64,64,1]"
   ]
  },
  {
   "cell_type": "code",
   "execution_count": 307,
   "id": "designed-houston",
   "metadata": {},
   "outputs": [],
   "source": [
    "# class feedforward_nfnet(tf.keras.Model):\n",
    "#     def __init__(self,units = [94,64,64,64,64,1],alpha=0.2,beta=1.0):\n",
    "#         super().__init__()\n",
    "#         self.units = units\n",
    "#         self.alpha = alpha\n",
    "#         self.beta = beta\n",
    "#         self.expected_std = 1.0\n",
    "        \n",
    "#         #self.input_layer = tf.keras.Input(shape=(self.units[0],))\n",
    "        \n",
    "#         self.input_layer = tfa.layers.WeightNormalization(\n",
    "#             tf.keras.layers.Dense(self.units[1],activation='relu', input_shape=(self.units[0],)))\n",
    "        \n",
    "#         self.beta = 1/(self.expected_std)\n",
    "#         self.layer1 = nf_block(self.units[2],alpha=self.alpha,beta=self.beta)\n",
    "#         self.expected_std = (self.expected_std **2 + self.alpha**2)**0.5\n",
    "        \n",
    "#         self.beta = 1/(self.expected_std)\n",
    "#         self.layer2 = nf_block(self.units[3],alpha=self.alpha,beta=self.beta)\n",
    "#         self.expected_std = (self.expected_std **2 + self.alpha**2)**0.5\n",
    "        \n",
    "#         self.beta = 1/(self.expected_std)\n",
    "#         self.layer3 = nf_block(self.units[4],alpha=self.alpha,beta=self.beta)\n",
    "#         self.expected_std = (self.expected_std **2 + self.alpha**2)**0.5\n",
    "        \n",
    "#         self.final_layer = tfa.layers.WeightNormalization(\n",
    "#             tf.keras.layers.Dense(self.units[-1],activation=\"sigmoid\"),data_init=False)\n",
    "        \n",
    "#     def call(self, inputs):\n",
    "        \n",
    "#         x = self.input_layer(inputs)\n",
    "#         x = self.layer1(x)\n",
    "#         x = self.layer2(x)\n",
    "#         x = self.layer3(x)\n",
    "#         x = self.final_layer(x)\n",
    "        \n",
    "#         return x"
   ]
  },
  {
   "cell_type": "code",
   "execution_count": 313,
   "id": "resistant-instrument",
   "metadata": {},
   "outputs": [],
   "source": [
    "model2 = feedforward_nfnet(units)\n",
    "nf_model = AGCModel(model2)"
   ]
  },
  {
   "cell_type": "code",
   "execution_count": 314,
   "id": "realistic-intro",
   "metadata": {},
   "outputs": [],
   "source": [
    "nf_model.compile(\n",
    "    optimizer=tf.keras.optimizers.Adam(\n",
    "        learning_rate=0.001, beta_1=0.9, beta_2=0.999, epsilon=1e-07)\n",
    "    ,loss=\"binary_crossentropy\", metrics=[\"accuracy\",\"AUC\"]\n",
    ")\n",
    "# print(f\"Total learnable parameters: {nf_model.model.count_params()/1e6} M\")"
   ]
  },
  {
   "cell_type": "code",
   "execution_count": 315,
   "id": "formed-newman",
   "metadata": {},
   "outputs": [],
   "source": [
    "# nf_model.summary()"
   ]
  },
  {
   "cell_type": "code",
   "execution_count": 316,
   "id": "purple-mercy",
   "metadata": {},
   "outputs": [],
   "source": [
    "batch_size = 64\n",
    "epochs = 10\n",
    "weights = {0:1, 1:1}"
   ]
  },
  {
   "cell_type": "code",
   "execution_count": 317,
   "id": "homeless-morning",
   "metadata": {},
   "outputs": [
    {
     "name": "stdout",
     "output_type": "stream",
     "text": [
      "Epoch 1/10\n",
      "(None, 94) (None,) <class 'tuple'>\n",
      "(None, 94) (None,) <class 'tuple'>\n",
      "1869/1869 [==============================] - 6s 2ms/step - loss: 0.2022 - accuracy: 0.9459 - auc: 0.6942 - val_loss: 0.1870 - val_accuracy: 0.9478 - val_auc: 0.7365\n",
      "Epoch 2/10\n",
      "1869/1869 [==============================] - 4s 2ms/step - loss: 0.1838 - accuracy: 0.9483 - auc: 0.7466 - val_loss: 0.1841 - val_accuracy: 0.9478 - val_auc: 0.7531\n",
      "Epoch 3/10\n",
      "1869/1869 [==============================] - 4s 2ms/step - loss: 0.1800 - accuracy: 0.9489 - auc: 0.7572 - val_loss: 0.1829 - val_accuracy: 0.9479 - val_auc: 0.7597\n",
      "Epoch 4/10\n",
      "1869/1869 [==============================] - 4s 2ms/step - loss: 0.1799 - accuracy: 0.9485 - auc: 0.7627 - val_loss: 0.1843 - val_accuracy: 0.9479 - val_auc: 0.7545\n",
      "Epoch 5/10\n",
      "1869/1869 [==============================] - 4s 2ms/step - loss: 0.1811 - accuracy: 0.9477 - auc: 0.7680 - val_loss: 0.1828 - val_accuracy: 0.9479 - val_auc: 0.7613\n",
      "Epoch 6/10\n",
      "1869/1869 [==============================] - 4s 2ms/step - loss: 0.1822 - accuracy: 0.9469 - auc: 0.7713 - val_loss: 0.1828 - val_accuracy: 0.9479 - val_auc: 0.7605\n",
      "Epoch 7/10\n",
      "1869/1869 [==============================] - 4s 2ms/step - loss: 0.1817 - accuracy: 0.9463 - auc: 0.7820 - val_loss: 0.1822 - val_accuracy: 0.9479 - val_auc: 0.7630\n",
      "Epoch 8/10\n",
      "1869/1869 [==============================] - 4s 2ms/step - loss: 0.1807 - accuracy: 0.9463 - auc: 0.7858 - val_loss: 0.1843 - val_accuracy: 0.9479 - val_auc: 0.7511\n",
      "Epoch 9/10\n",
      "1869/1869 [==============================] - 4s 2ms/step - loss: 0.1785 - accuracy: 0.9482 - auc: 0.7736 - val_loss: 0.1818 - val_accuracy: 0.9479 - val_auc: 0.7678\n",
      "Epoch 10/10\n",
      "1869/1869 [==============================] - 4s 2ms/step - loss: 0.1805 - accuracy: 0.9467 - auc: 0.7820 - val_loss: 0.1818 - val_accuracy: 0.9479 - val_auc: 0.7651\n",
      "Total training time: 0.6931821544965108 minutes\n"
     ]
    }
   ],
   "source": [
    "start = time.time()\n",
    "history = nf_model.fit(X_train,y_train,batch_size=batch_size,\n",
    "                   validation_data=(X_test,y_test),\n",
    "                   epochs=epochs)\n",
    "print(f\"Total training time: {(time.time() - start)/60.} minutes\")"
   ]
  },
  {
   "cell_type": "code",
   "execution_count": 318,
   "id": "insured-thesis",
   "metadata": {},
   "outputs": [
    {
     "data": {
      "image/png": "[encoded data removed]",
      "text/plain": [
       "<Figure size 720x432 with 1 Axes>"
      ]
     },
     "metadata": {
      "needs_background": "light"
     },
     "output_type": "display_data"
    },
    {
     "data": {
      "image/png": "[encoded data removed]",
      "text/plain": [
       "<Figure size 720x432 with 1 Axes>"
      ]
     },
     "metadata": {
      "needs_background": "light"
     },
     "output_type": "display_data"
    }
   ],
   "source": [
    "fig,ax = plt.subplots(1,1,figsize=(10,6))\n",
    "ax.plot(np.sqrt(history.history['loss']),'r',label='train')\n",
    "ax.plot(np.sqrt(history.history['val_loss']),'b',label='test')\n",
    "ax.set_xlabel(r\"Epoch\",fontsize=20)\n",
    "ax.set_ylabel(r\"Loss\",fontsize=20)\n",
    "ax.legend()\n",
    "ax.tick_params(labelsize=20)\n",
    "\n",
    "fig,ax = plt.subplots(1,1,figsize=(10,6))\n",
    "ax.plot(np.sqrt(history.history['accuracy']),'r',label='train')\n",
    "ax.plot(np.sqrt(history.history['val_accuracy']),'b',label='test')\n",
    "ax.set_xlabel(r\"Epoch\",fontsize=20)\n",
    "ax.set_ylabel(r\"Accuracy\",fontsize=20)\n",
    "ax.legend()\n",
    "ax.tick_params(labelsize=20)"
   ]
  },
  {
   "cell_type": "code",
   "execution_count": null,
   "id": "commercial-composition",
   "metadata": {},
   "outputs": [],
   "source": []
  },
  {
   "cell_type": "code",
   "execution_count": null,
   "id": "composed-roots",
   "metadata": {},
   "outputs": [],
   "source": []
  },
  {
   "cell_type": "code",
   "execution_count": null,
   "id": "french-modem",
   "metadata": {},
   "outputs": [],
   "source": []
  },
  {
   "cell_type": "code",
   "execution_count": null,
   "id": "figured-mirror",
   "metadata": {},
   "outputs": [],
   "source": []
  }
 ],
 "metadata": {
  "kernelspec": {
   "display_name": "Python 3",
   "language": "python",
   "name": "python3"
  },
  "language_info": {
   "codemirror_mode": {
    "name": "ipython",
    "version": 3
   },
   "file_extension": ".py",
   "mimetype": "text/x-python",
   "name": "python",
   "nbconvert_exporter": "python",
   "pygments_lexer": "ipython3",
   "version": "3.8.10"
  }
 },
 "nbformat": 4,
 "nbformat_minor": 5
}
